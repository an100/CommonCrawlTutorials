{
 "metadata": {
  "name": "",
  "signature": "sha256:d54f06450bb2b2c9cbbe5dc7935811d4b51742baa0fc6c803e14e8806943e2e2"
 },
 "nbformat": 3,
 "nbformat_minor": 0,
 "worksheets": [
  {
   "cells": [
    {
     "cell_type": "code",
     "collapsed": false,
     "input": [
      "from __future__ import print_function"
     ],
     "language": "python",
     "metadata": {},
     "outputs": [],
     "prompt_number": 5
    },
    {
     "cell_type": "code",
     "collapsed": false,
     "input": [
      "import boto\n",
      "from boto.s3.connection import S3Connection\n",
      "\n",
      "from itertools import islice\n",
      "\n",
      "conn = S3Connection(anon=True)\n",
      "bucket = conn.get_bucket('aws-publicdatasets')"
     ],
     "language": "python",
     "metadata": {},
     "outputs": [],
     "prompt_number": 6
    },
    {
     "cell_type": "code",
     "collapsed": false,
     "input": [
      "# a function to help with looking through S3 buckets\n",
      "\n",
      "from itertools import islice\n",
      "\n",
      "def keys_in_bucket(bucket, prefix, truncate_path=True, limit=None):\n",
      "    \"\"\"\n",
      "    given a S3 boto bucket, yields the keys in bucket with the prefix\n",
      "    if truncate_path is True, remove prefix in keys\n",
      "    optional limit to number of keys to return\n",
      "    \"\"\"\n",
      "    keys = islice(bucket.list(prefix=prefix, \n",
      "                                   delimiter=\"/\"),\n",
      "                       limit)\n",
      "    for key in keys:\n",
      "        name = key.name.encode(\"UTF-8\") \n",
      "        if truncate_path:\n",
      "            name = name.replace(prefix, \"\", 1)\n",
      "        yield name\n",
      "            "
     ],
     "language": "python",
     "metadata": {},
     "outputs": [],
     "prompt_number": 7
    },
    {
     "cell_type": "heading",
     "level": 1,
     "metadata": {},
     "source": [
      "What are the complete range of data for CC?"
     ]
    },
    {
     "cell_type": "markdown",
     "metadata": {},
     "source": [
      "The top level bucket is `s3://aws-publicdatasets/common-crawl/`"
     ]
    },
    {
     "cell_type": "code",
     "collapsed": false,
     "input": [
      "!s3cmd ls s3://aws-publicdatasets/common-crawl/"
     ],
     "language": "python",
     "metadata": {},
     "outputs": [
      {
       "output_type": "stream",
       "stream": "stdout",
       "text": [
        "                       DIR   s3://aws-publicdatasets/common-crawl/2012/\r\n",
        "                       DIR   s3://aws-publicdatasets/common-crawl/blekko/\r\n",
        "                       DIR   s3://aws-publicdatasets/common-crawl/crawl-001/\r\n",
        "                       DIR   s3://aws-publicdatasets/common-crawl/crawl-002/\r\n",
        "                       DIR   s3://aws-publicdatasets/common-crawl/crawl-data/\r\n",
        "                       DIR   s3://aws-publicdatasets/common-crawl/crawl-db/\r\n",
        "                       DIR   s3://aws-publicdatasets/common-crawl/crawl-intermediate-1365897600000/\r\n",
        "                       DIR   s3://aws-publicdatasets/common-crawl/graph-output/\r\n"
       ]
      },
      {
       "output_type": "stream",
       "stream": "stdout",
       "text": [
        "                       DIR   s3://aws-publicdatasets/common-crawl/hive_analysis/\r\n",
        "                       DIR   s3://aws-publicdatasets/common-crawl/index2012/\r\n",
        "                       DIR   s3://aws-publicdatasets/common-crawl/job-logs/\r\n",
        "                       DIR   s3://aws-publicdatasets/common-crawl/mapred-temp/\r\n",
        "                       DIR   s3://aws-publicdatasets/common-crawl/meanpath/\r\n",
        "                       DIR   s3://aws-publicdatasets/common-crawl/nutch/\r\n",
        "                       DIR   s3://aws-publicdatasets/common-crawl/parse-output-test/\r\n",
        "                       DIR   s3://aws-publicdatasets/common-crawl/parse-output/\r\n",
        "                       DIR   s3://aws-publicdatasets/common-crawl/projects/\r\n",
        "                       DIR   s3://aws-publicdatasets/common-crawl/stats-output/\r\n",
        "                       DIR   s3://aws-publicdatasets/common-crawl/test-job-logs/\r\n",
        "                       DIR   s3://aws-publicdatasets/common-crawl/wikipedia/\r\n",
        "2013-05-01 20:11         0   s3://aws-publicdatasets/common-crawl/blekko_$folder$\r\n",
        "2013-07-05 18:27         0   s3://aws-publicdatasets/common-crawl/crawl-intermediate-1365897600000_$folder$\r\n",
        "2014-09-18 08:00         0   s3://aws-publicdatasets/common-crawl/hive_analysis_$folder$\r\n",
        "2013-06-27 19:11         0   s3://aws-publicdatasets/common-crawl/index2012_$folder$\r\n",
        "2013-04-26 04:58         0   s3://aws-publicdatasets/common-crawl/mapred-temp_$folder$\r\n",
        "2013-10-10 19:38         0   s3://aws-publicdatasets/common-crawl/meanpath_$folder$\r\n",
        "2013-05-16 12:58         0   s3://aws-publicdatasets/common-crawl/nutch_$folder$\r\n",
        "2012-09-04 05:03         0   s3://aws-publicdatasets/common-crawl/parse-output-test_$folder$\r\n",
        "2013-05-14 21:02         0   s3://aws-publicdatasets/common-crawl/parse-output_$folder$\r\n"
       ]
      }
     ],
     "prompt_number": 8
    },
    {
     "cell_type": "code",
     "collapsed": false,
     "input": [
      "# using boto to pull up the same list of buckets\n",
      "\n",
      "list(keys_in_bucket(bucket, \"common-crawl/\"))"
     ],
     "language": "python",
     "metadata": {},
     "outputs": [
      {
       "metadata": {},
       "output_type": "pyout",
       "prompt_number": 9,
       "text": [
        "['blekko_$folder$',\n",
        " 'crawl-intermediate-1365897600000_$folder$',\n",
        " 'hive_analysis_$folder$',\n",
        " 'index2012_$folder$',\n",
        " 'mapred-temp_$folder$',\n",
        " 'meanpath_$folder$',\n",
        " 'nutch_$folder$',\n",
        " 'parse-output-test_$folder$',\n",
        " 'parse-output_$folder$',\n",
        " '2012/',\n",
        " 'blekko/',\n",
        " 'crawl-001/',\n",
        " 'crawl-002/',\n",
        " 'crawl-data/',\n",
        " 'crawl-db/',\n",
        " 'crawl-intermediate-1365897600000/',\n",
        " 'graph-output/',\n",
        " 'hive_analysis/',\n",
        " 'index2012/',\n",
        " 'job-logs/',\n",
        " 'mapred-temp/',\n",
        " 'meanpath/',\n",
        " 'nutch/',\n",
        " 'parse-output-test/',\n",
        " 'parse-output/',\n",
        " 'projects/',\n",
        " 'stats-output/',\n",
        " 'test-job-logs/',\n",
        " 'wikipedia/']"
       ]
      }
     ],
     "prompt_number": 9
    },
    {
     "cell_type": "markdown",
     "metadata": {},
     "source": [
      "Three eras of CC crawls \n",
      "\n",
      "within s3://aws-publicdatasets/common-crawl/\n",
      "\n",
      "I think of 3 phases:\n",
      "\n",
      "* pre-2012\n",
      "* 2012 corpus\n",
      "* Nutch era (after [transition to nutch](http://commoncrawl.org/common-crawl-move-to-nutch/) -- http://commoncrawl.org/new-crawl-data-available/)\n",
      "\n",
      "Let's look this up\n",
      "\n",
      "* ??? : crawl-001\n",
      "* ??? : crawl-002\n",
      "* 2012: parse-output  http://commoncrawl.org/2012-crawl-data-now-available/"
     ]
    },
    {
     "cell_type": "code",
     "collapsed": false,
     "input": [
      "# pre - 2012\n",
      "\n",
      "!s3cmd ls s3://aws-publicdatasets/common-crawl/crawl-001/"
     ],
     "language": "python",
     "metadata": {},
     "outputs": [
      {
       "output_type": "stream",
       "stream": "stdout",
       "text": [
        "                       DIR   s3://aws-publicdatasets/common-crawl/crawl-001/2008/\r\n",
        "                       DIR   s3://aws-publicdatasets/common-crawl/crawl-001/2009/\r\n"
       ]
      }
     ],
     "prompt_number": 10
    },
    {
     "cell_type": "code",
     "collapsed": false,
     "input": [
      "# pre - 2012\n",
      "\n",
      "!s3cmd ls s3://aws-publicdatasets/common-crawl/crawl-002/"
     ],
     "language": "python",
     "metadata": {},
     "outputs": [
      {
       "output_type": "stream",
       "stream": "stdout",
       "text": [
        "                       DIR   s3://aws-publicdatasets/common-crawl/crawl-002/2009/\r\n",
        "                       DIR   s3://aws-publicdatasets/common-crawl/crawl-002/2010/\r\n"
       ]
      }
     ],
     "prompt_number": 11
    },
    {
     "cell_type": "code",
     "collapsed": false,
     "input": [
      "# 2012: https://commoncrawl.atlassian.net/wiki/display/CRWL/About+the+Data+Set\n",
      "!s3cmd ls s3://aws-publicdatasets/common-crawl/parse-output/"
     ],
     "language": "python",
     "metadata": {},
     "outputs": [
      {
       "output_type": "stream",
       "stream": "stdout",
       "text": [
        "                       DIR   s3://aws-publicdatasets/common-crawl/parse-output/checkpoint_staging/\r\n",
        "                       DIR   s3://aws-publicdatasets/common-crawl/parse-output/checkpoints/\r\n",
        "                       DIR   s3://aws-publicdatasets/common-crawl/parse-output/segment/\r\n",
        "                       DIR   s3://aws-publicdatasets/common-crawl/parse-output/valid_segments2/\r\n",
        "2013-05-14 21:04         0   s3://aws-publicdatasets/common-crawl/parse-output/checkpoint_staging_$folder$\r\n",
        "2012-11-09 00:10         0   s3://aws-publicdatasets/common-crawl/parse-output/checkpoints_$folder$\r\n",
        "2012-09-05 05:13         0   s3://aws-publicdatasets/common-crawl/parse-output/segment_$folder$\r\n",
        "2012-11-09 11:28      2478   s3://aws-publicdatasets/common-crawl/parse-output/valid_segments.txt\r\n",
        "2012-09-05 05:13         0   s3://aws-publicdatasets/common-crawl/parse-output/valid_segments2_$folder$\r\n"
       ]
      }
     ],
     "prompt_number": 12
    },
    {
     "cell_type": "code",
     "collapsed": false,
     "input": [
      "!s3cmd ls s3://aws-publicdatasets/common-crawl/crawl-data/ | grep CC-MAIN"
     ],
     "language": "python",
     "metadata": {},
     "outputs": [
      {
       "output_type": "stream",
       "stream": "stdout",
       "text": [
        "                       DIR   s3://aws-publicdatasets/common-crawl/crawl-data/CC-MAIN-2013-20/\r\n",
        "                       DIR   s3://aws-publicdatasets/common-crawl/crawl-data/CC-MAIN-2013-48/\r\n",
        "                       DIR   s3://aws-publicdatasets/common-crawl/crawl-data/CC-MAIN-2014-10/\r\n",
        "                       DIR   s3://aws-publicdatasets/common-crawl/crawl-data/CC-MAIN-2014-15/\r\n",
        "                       DIR   s3://aws-publicdatasets/common-crawl/crawl-data/CC-MAIN-2014-23/\r\n",
        "                       DIR   s3://aws-publicdatasets/common-crawl/crawl-data/CC-MAIN-2014-35/\r\n"
       ]
      }
     ],
     "prompt_number": 13
    },
    {
     "cell_type": "heading",
     "level": 1,
     "metadata": {},
     "source": [
      "2012 Crawl"
     ]
    },
    {
     "cell_type": "code",
     "collapsed": false,
     "input": [
      "# for the 2012 data that I was working with in 2013.\n",
      "# not a good idea to take the contents for \"common-crawl/parse-output/segment/\" as valid segments\n",
      "# instead -- depend on s3://aws-publicdatasets/common-crawl/parse-output/valid_segments.txt\n",
      "\n",
      "# comment out so I won't run \n",
      "\n",
      "# for (i,key) in enumerate(islice(keys_in_bucket(bucket, \"common-crawl/parse-output/segment/\"),\n",
      "#                                 10)):\n",
      "#     print (i, key)\n",
      "    \n",
      "#!s3cmd ls s3://aws-publicdatasets/common-crawl/parse-output/"
     ],
     "language": "python",
     "metadata": {},
     "outputs": []
    },
    {
     "cell_type": "code",
     "collapsed": false,
     "input": [
      "!s3cmd ls s3://aws-publicdatasets/common-crawl/parse-output/valid_segments.txt"
     ],
     "language": "python",
     "metadata": {},
     "outputs": [
      {
       "output_type": "stream",
       "stream": "stdout",
       "text": [
        "2012-11-09 11:28      2478   s3://aws-publicdatasets/common-crawl/parse-output/valid_segments.txt\r\n"
       ]
      }
     ],
     "prompt_number": 14
    },
    {
     "cell_type": "code",
     "collapsed": false,
     "input": [
      "k = bucket.get_key(\"common-crawl/parse-output/valid_segments.txt\")\n",
      "s = k.get_contents_as_string()\n",
      "\n",
      "valid_segments = filter(None, s.split(\"\\n\"))\n",
      "\n",
      "print (len(valid_segments), valid_segments[0])"
     ],
     "language": "python",
     "metadata": {},
     "outputs": [
      {
       "output_type": "stream",
       "stream": "stdout",
       "text": [
        "177 1346823845675\n"
       ]
      }
     ],
     "prompt_number": 15
    },
    {
     "cell_type": "markdown",
     "metadata": {},
     "source": [
      "# April 2014 crawl\n",
      "\n",
      "\n",
      "http://commoncrawl.org/april-2014-crawl-data-available/\n",
      "\n",
      "*    all segments (CC-MAIN-2014-15/segment.paths.gz)\n",
      "*    all WARC files (CC-MAIN-2014-15/warc.paths.gz)\n",
      "*    all WAT files (CC-MAIN-2014-15/wat.paths.gz)\n",
      "*    all WET files (CC-MAIN-2014-15/wet.paths.gz)\n",
      "\n",
      "https://aws-publicdatasets.s3.amazonaws.com/common-crawl/crawl-data/CC-MAIN-2014-15/segment.paths.gz"
     ]
    },
    {
     "cell_type": "code",
     "collapsed": false,
     "input": [
      "list(keys_in_bucket(bucket, \"common-crawl/crawl-data/CC-MAIN-2014-15/\"))"
     ],
     "language": "python",
     "metadata": {},
     "outputs": [
      {
       "metadata": {},
       "output_type": "pyout",
       "prompt_number": 16,
       "text": [
        "['segment.paths.gz',\n",
        " 'warc.paths.gz',\n",
        " 'wat.paths.gz',\n",
        " 'wet.paths.gz',\n",
        " 'segments/']"
       ]
      }
     ],
     "prompt_number": 16
    },
    {
     "cell_type": "markdown",
     "metadata": {},
     "source": [
      "Do all of the nutch era crawls follow the same structure?"
     ]
    },
    {
     "cell_type": "code",
     "collapsed": false,
     "input": [
      "[key for key in keys_in_bucket(bucket, \"common-crawl/crawl-data/\") if key.startswith(\"CC-MAIN\")]"
     ],
     "language": "python",
     "metadata": {},
     "outputs": [
      {
       "metadata": {},
       "output_type": "pyout",
       "prompt_number": 17,
       "text": [
        "['CC-MAIN-2013-20/',\n",
        " 'CC-MAIN-2013-48/',\n",
        " 'CC-MAIN-2014-10/',\n",
        " 'CC-MAIN-2014-15/',\n",
        " 'CC-MAIN-2014-23/',\n",
        " 'CC-MAIN-2014-35/']"
       ]
      }
     ],
     "prompt_number": 17
    },
    {
     "cell_type": "code",
     "collapsed": false,
     "input": [
      "# convert year/week number to datetime\n",
      "\n",
      "import datetime\n",
      "\n",
      "def week_in_year(year, week):\n",
      "    return datetime.datetime(year,1,1) + datetime.timedelta((week-1)*7)\n",
      "\n",
      "week_in_year(2014,15)"
     ],
     "language": "python",
     "metadata": {},
     "outputs": [
      {
       "metadata": {},
       "output_type": "pyout",
       "prompt_number": 18,
       "text": [
        "datetime.datetime(2014, 4, 9, 0, 0)"
       ]
      }
     ],
     "prompt_number": 18
    },
    {
     "cell_type": "code",
     "collapsed": false,
     "input": [
      "import sys\n",
      "sys.maxint"
     ],
     "language": "python",
     "metadata": {},
     "outputs": [
      {
       "metadata": {},
       "output_type": "pyout",
       "prompt_number": 19,
       "text": [
        "9223372036854775807"
       ]
      }
     ],
     "prompt_number": 19
    },
    {
     "cell_type": "code",
     "collapsed": false,
     "input": [
      "import gzip\n",
      "import StringIO\n",
      "\n",
      "# the following functions \n",
      "\n",
      "def gzip_from_key(bucket, key_name):\n",
      "    k = bucket.get_key(key_name)\n",
      "    f = gzip.GzipFile(fileobj=StringIO.StringIO(k.get_contents_as_string()))\n",
      "    return f\n",
      "\n",
      "def segments_from_gzip(gz):\n",
      "    s = gz.read()\n",
      "    return filter(None, s.split(\"\\n\"))"
     ],
     "language": "python",
     "metadata": {},
     "outputs": [],
     "prompt_number": 20
    },
    {
     "cell_type": "code",
     "collapsed": false,
     "input": [
      "# let's parse segment.paths.gz\n",
      "\n",
      "valid_segments = segments_from_gzip(gzip_from_key(bucket, \n",
      "                    \"common-crawl/crawl-data/CC-MAIN-2014-15/segment.paths.gz\"))\n",
      "valid_segments[:5]"
     ],
     "language": "python",
     "metadata": {},
     "outputs": [
      {
       "metadata": {},
       "output_type": "pyout",
       "prompt_number": 21,
       "text": [
        "['common-crawl/crawl-data/CC-MAIN-2014-15/segments/1397609521512.15/',\n",
        " 'common-crawl/crawl-data/CC-MAIN-2014-15/segments/1397609521558.37/',\n",
        " 'common-crawl/crawl-data/CC-MAIN-2014-15/segments/1397609523265.25/',\n",
        " 'common-crawl/crawl-data/CC-MAIN-2014-15/segments/1397609523429.20/',\n",
        " 'common-crawl/crawl-data/CC-MAIN-2014-15/segments/1397609524259.30/']"
       ]
      }
     ],
     "prompt_number": 21
    },
    {
     "cell_type": "code",
     "collapsed": false,
     "input": [
      "# rewrite to deal with gzip on the fly?\n",
      "# DON'T KNOW WHY THIS DOESN'T WORK -- COME BACK\n",
      "\n",
      "from boto.s3.key import Key\n",
      "from gzipstream import GzipStreamFile\n",
      "\n",
      "def gzip_from_key_2(bucket_name, key_name):\n",
      "\n",
      "    pds = conn.get_bucket(bucket_name)\n",
      "    k = Key(pds)\n",
      "    k.key = key_name    \n",
      "\n",
      "    f = GzipStreamFile(k)\n",
      "    \n",
      "    return f\n",
      "\n",
      "def segments_from_gzip_2(gz):\n",
      "    BUF_SIZE = 1000\n",
      "    s = \"\"\n",
      "    buffer = gz.read(BUF_SIZE)\n",
      "    while buffer:\n",
      "        s += buffer\n",
      "        buffer = gz.read(BUF_SIZE)\n",
      "\n",
      "    return filter(None, s.split(\"\\n\"))\n",
      "\n",
      "valid_segments_2 = segments_from_gzip_2(gzip_from_key_2(bucket, \n",
      "                    \"common-crawl/crawl-data/CC-MAIN-2014-15/segment.paths.gz\"))\n",
      "valid_segments_2[:5]"
     ],
     "language": "python",
     "metadata": {},
     "outputs": [
      {
       "metadata": {},
       "output_type": "pyout",
       "prompt_number": 22,
       "text": [
        "['common-crawl/crawl-data/CC-MAIN-2014-15/segments/1397609521512.15/',\n",
        " 'common-crawl/crawl-data/CC-MAIN-2014-15/segments/1397609521558.37/',\n",
        " 'common-crawl/crawl-data/CC-MAIN-2014-15/segments/1397609523265.25/',\n",
        " 'common-crawl/crawl-data/CC-MAIN-2014-15/segments/1397609523429.20/',\n",
        " 'common-crawl/crawl-data/CC-MAIN-2014-15/segments/1397609524259.30/']"
       ]
      }
     ],
     "prompt_number": 22
    },
    {
     "cell_type": "heading",
     "level": 1,
     "metadata": {},
     "source": [
      "WAT:  metadata files"
     ]
    },
    {
     "cell_type": "markdown",
     "metadata": {},
     "source": [
      "all WAT files (CC-MAIN-2014-15/wat.paths.gz)"
     ]
    },
    {
     "cell_type": "code",
     "collapsed": false,
     "input": [
      "wat_segments = segments_from_gzip(gzip_from_key(bucket, \n",
      "                    \"common-crawl/crawl-data/CC-MAIN-2014-15/wat.paths.gz\"))\n",
      "len(wat_segments)"
     ],
     "language": "python",
     "metadata": {},
     "outputs": [
      {
       "metadata": {},
       "output_type": "pyout",
       "prompt_number": 23,
       "text": [
        "44488"
       ]
      }
     ],
     "prompt_number": 23
    },
    {
     "cell_type": "code",
     "collapsed": false,
     "input": [
      "wat_segments[0]"
     ],
     "language": "python",
     "metadata": {},
     "outputs": [
      {
       "metadata": {},
       "output_type": "pyout",
       "prompt_number": 24,
       "text": [
        "'common-crawl/crawl-data/CC-MAIN-2014-15/segments/1397609521512.15/wat/CC-MAIN-20140416005201-00000-ip-10-147-4-33.ec2.internal.warc.wat.gz'"
       ]
      }
     ],
     "prompt_number": 24
    },
    {
     "cell_type": "markdown",
     "metadata": {},
     "source": [
      "http://commoncrawl.org/navigating-the-warc-file-format/\n",
      "\n",
      "json file\n",
      "\n",
      "forgot to check how big the file is before downloading it.\n"
     ]
    },
    {
     "cell_type": "code",
     "collapsed": false,
     "input": [
      "k = bucket.get_key(wat_segments[0])\n",
      "k.size"
     ],
     "language": "python",
     "metadata": {},
     "outputs": [
      {
       "metadata": {},
       "output_type": "pyout",
       "prompt_number": 25,
       "text": [
        "291634176"
       ]
      }
     ],
     "prompt_number": 25
    },
    {
     "cell_type": "code",
     "collapsed": false,
     "input": [
      "def get_key_sizes(bucket, keys):\n",
      "    sizes = []\n",
      "    for key in keys:\n",
      "        k = bucket.get_key(key)\n",
      "        sizes.append((key, k.size if hasattr(k, 'size') else 0))\n",
      "    return sizes"
     ],
     "language": "python",
     "metadata": {},
     "outputs": [],
     "prompt_number": 26
    },
    {
     "cell_type": "code",
     "collapsed": false,
     "input": [
      "get_key_sizes(bucket, wat_segments[0:20])"
     ],
     "language": "python",
     "metadata": {},
     "outputs": []
    },
    {
     "cell_type": "code",
     "collapsed": false,
     "input": [
      "# http://stackoverflow.com/questions/2348317/how-to-write-a-pager-for-python-iterators/2350904#2350904        \n",
      "def grouper(iterable, page_size):\n",
      "    page= []\n",
      "    for item in iterable:\n",
      "        page.append( item )\n",
      "        if len(page) == page_size:\n",
      "            yield page\n",
      "            page= []\n",
      "    if len(page) > 0:\n",
      "        yield page\n"
     ],
     "language": "python",
     "metadata": {},
     "outputs": [],
     "prompt_number": 27
    },
    {
     "cell_type": "heading",
     "level": 1,
     "metadata": {},
     "source": [
      "multiprocessing approach"
     ]
    },
    {
     "cell_type": "markdown",
     "metadata": {},
     "source": [
      "when to use Processes vs Threads?  I think you use threads when there's no danger of memory collision\n",
      "\n",
      "http://sebastianraschka.com/Articles/2014_multiprocessing_intro.html#Multi-Threading-vs.-Multi-Processing:\n",
      "\n",
      ">  If we submit \"jobs\" to different threads, those jobs can be pictured as \"sub-tasks\" of a single process and those threads will usually have access to the same memory areas (i.e., shared memory). This approach can easily lead to conflicts in case of improper synchronization, for example, if processes are writing to the same memory location at the same time."
     ]
    },
    {
     "cell_type": "code",
     "collapsed": false,
     "input": [
      "wat_segments[0:2]"
     ],
     "language": "python",
     "metadata": {},
     "outputs": [
      {
       "metadata": {},
       "output_type": "pyout",
       "prompt_number": 28,
       "text": [
        "['common-crawl/crawl-data/CC-MAIN-2014-15/segments/1397609521512.15/wat/CC-MAIN-20140416005201-00000-ip-10-147-4-33.ec2.internal.warc.wat.gz',\n",
        " 'common-crawl/crawl-data/CC-MAIN-2014-15/segments/1397609521512.15/wat/CC-MAIN-20140416005201-00001-ip-10-147-4-33.ec2.internal.warc.wat.gz']"
       ]
      }
     ],
     "prompt_number": 28
    },
    {
     "cell_type": "heading",
     "level": 2,
     "metadata": {},
     "source": [
      "multiprocessing async approach"
     ]
    },
    {
     "cell_type": "code",
     "collapsed": false,
     "input": [
      "# with pool.map\n",
      "\n",
      "from multiprocessing.dummy import Pool as ThreadPool \n",
      "from functools import partial\n",
      "\n",
      "get_key_sizes_for_bucket = partial(get_key_sizes, bucket)\n",
      "\n",
      "PAGE_SIZE = 1\n",
      "POOL_SIZE = 100\n",
      "MAX_SEGMENTS = 100\n",
      "\n",
      "pool = ThreadPool(POOL_SIZE) \n",
      "results = pool.map(get_key_sizes_for_bucket, grouper(wat_segments[0:MAX_SEGMENTS], PAGE_SIZE))\n",
      "pool.close()\n",
      "pool.join()\n"
     ],
     "language": "python",
     "metadata": {},
     "outputs": [],
     "prompt_number": 29
    },
    {
     "cell_type": "code",
     "collapsed": false,
     "input": [
      "# Pool.imap_unordered\n",
      "\n",
      "from multiprocessing.dummy import Pool as ThreadPool \n",
      "from functools import partial\n",
      "\n",
      "get_key_sizes_for_bucket = partial(get_key_sizes, bucket)\n",
      "\n",
      "PAGE_SIZE = 1\n",
      "POOL_SIZE = 100\n",
      "MAX_SEGMENTS = 500  # replace with None for all segments\n",
      "CHUNK_SIZE = 10\n",
      "\n",
      "pool = ThreadPool(POOL_SIZE) \n",
      "results_iter = pool.imap_unordered(get_key_sizes_for_bucket, \n",
      "                              grouper(wat_segments[0:MAX_SEGMENTS], PAGE_SIZE),\n",
      "                              CHUNK_SIZE)\n",
      "\n",
      "results = []\n",
      "                             \n",
      "for (i, page) in enumerate(islice(results_iter,None)):\n",
      "    print ('\\r>> Result %d' % i, end=\"\")\n",
      "    for result in page:\n",
      "        results.append(result)\n",
      "            \n"
     ],
     "language": "python",
     "metadata": {},
     "outputs": [
      {
       "output_type": "stream",
       "stream": "stdout",
       "text": [
        "\r",
        ">> Result 0\r",
        ">> Result 1\r",
        ">> Result 2\r",
        ">> Result 3\r",
        ">> Result 4\r",
        ">> Result 5\r",
        ">> Result 6\r",
        ">> Result 7\r",
        ">> Result 8\r",
        ">> Result 9\r",
        ">> Result 10"
       ]
      },
      {
       "output_type": "stream",
       "stream": "stdout",
       "text": [
        "\r",
        ">> Result 11\r",
        ">> Result 12\r",
        ">> Result 13\r",
        ">> Result 14\r",
        ">> Result 15\r",
        ">> Result 16\r",
        ">> Result 17\r",
        ">> Result 18\r",
        ">> Result 19\r",
        ">> Result 20\r",
        ">> Result 21\r",
        ">> Result 22\r",
        ">> Result 23\r",
        ">> Result 24\r",
        ">> Result 25\r",
        ">> Result 26\r",
        ">> Result 27\r",
        ">> Result 28\r",
        ">> Result 29\r",
        ">> Result 30\r",
        ">> Result 31\r",
        ">> Result 32\r",
        ">> Result 33\r",
        ">> Result 34\r",
        ">> Result 35\r",
        ">> Result 36\r",
        ">> Result 37\r",
        ">> Result 38\r",
        ">> Result 39\r",
        ">> Result 40\r",
        ">> Result 41\r",
        ">> Result 42\r",
        ">> Result 43\r",
        ">> Result 44\r",
        ">> Result 45\r",
        ">> Result 46\r",
        ">> Result 47\r",
        ">> Result 48\r",
        ">> Result 49\r",
        ">> Result 50\r",
        ">> Result 51\r",
        ">> Result 52\r",
        ">> Result 53\r",
        ">> Result 54\r",
        ">> Result 55\r",
        ">> Result 56\r",
        ">> Result 57\r",
        ">> Result 58\r",
        ">> Result 59\r",
        ">> Result 60\r",
        ">> Result 61\r",
        ">> Result 62\r",
        ">> Result 63\r",
        ">> Result 64\r",
        ">> Result 65\r",
        ">> Result 66\r",
        ">> Result 67\r",
        ">> Result 68\r",
        ">> Result 69\r",
        ">> Result 70"
       ]
      },
      {
       "output_type": "stream",
       "stream": "stdout",
       "text": [
        "\r",
        ">> Result 71\r",
        ">> Result 72\r",
        ">> Result 73\r",
        ">> Result 74\r",
        ">> Result 75\r",
        ">> Result 76\r",
        ">> Result 77\r",
        ">> Result 78\r",
        ">> Result 79\r",
        ">> Result 80\r",
        ">> Result 81\r",
        ">> Result 82\r",
        ">> Result 83\r",
        ">> Result 84\r",
        ">> Result 85\r",
        ">> Result 86\r",
        ">> Result 87\r",
        ">> Result 88\r",
        ">> Result 89\r",
        ">> Result 90"
       ]
      },
      {
       "output_type": "stream",
       "stream": "stdout",
       "text": [
        "\r",
        ">> Result 91\r",
        ">> Result 92\r",
        ">> Result 93\r",
        ">> Result 94\r",
        ">> Result 95\r",
        ">> Result 96\r",
        ">> Result 97\r",
        ">> Result 98\r",
        ">> Result 99\r",
        ">> Result 100\r",
        ">> Result 101\r",
        ">> Result 102\r",
        ">> Result 103\r",
        ">> Result 104\r",
        ">> Result 105\r",
        ">> Result 106\r",
        ">> Result 107\r",
        ">> Result 108\r",
        ">> Result 109\r",
        ">> Result 110"
       ]
      },
      {
       "output_type": "stream",
       "stream": "stdout",
       "text": [
        "\r",
        ">> Result 111\r",
        ">> Result 112\r",
        ">> Result 113\r",
        ">> Result 114\r",
        ">> Result 115\r",
        ">> Result 116\r",
        ">> Result 117\r",
        ">> Result 118\r",
        ">> Result 119\r",
        ">> Result 120\r",
        ">> Result 121\r",
        ">> Result 122\r",
        ">> Result 123\r",
        ">> Result 124\r",
        ">> Result 125\r",
        ">> Result 126\r",
        ">> Result 127\r",
        ">> Result 128\r",
        ">> Result 129\r",
        ">> Result 130\r",
        ">> Result 131\r",
        ">> Result 132\r",
        ">> Result 133\r",
        ">> Result 134\r",
        ">> Result 135\r",
        ">> Result 136\r",
        ">> Result 137\r",
        ">> Result 138\r",
        ">> Result 139\r",
        ">> Result 140"
       ]
      },
      {
       "output_type": "stream",
       "stream": "stdout",
       "text": [
        "\r",
        ">> Result 141\r",
        ">> Result 142\r",
        ">> Result 143\r",
        ">> Result 144\r",
        ">> Result 145\r",
        ">> Result 146\r",
        ">> Result 147\r",
        ">> Result 148\r",
        ">> Result 149\r",
        ">> Result 150\r",
        ">> Result 151\r",
        ">> Result 152\r",
        ">> Result 153\r",
        ">> Result 154\r",
        ">> Result 155\r",
        ">> Result 156\r",
        ">> Result 157\r",
        ">> Result 158\r",
        ">> Result 159\r",
        ">> Result 160"
       ]
      },
      {
       "output_type": "stream",
       "stream": "stdout",
       "text": [
        "\r",
        ">> Result 161\r",
        ">> Result 162\r",
        ">> Result 163\r",
        ">> Result 164\r",
        ">> Result 165\r",
        ">> Result 166\r",
        ">> Result 167\r",
        ">> Result 168\r",
        ">> Result 169\r",
        ">> Result 170"
       ]
      },
      {
       "output_type": "stream",
       "stream": "stdout",
       "text": [
        "\r",
        ">> Result 171\r",
        ">> Result 172\r",
        ">> Result 173\r",
        ">> Result 174\r",
        ">> Result 175\r",
        ">> Result 176\r",
        ">> Result 177\r",
        ">> Result 178\r",
        ">> Result 179\r",
        ">> Result 180\r",
        ">> Result 181\r",
        ">> Result 182\r",
        ">> Result 183\r",
        ">> Result 184\r",
        ">> Result 185\r",
        ">> Result 186\r",
        ">> Result 187\r",
        ">> Result 188\r",
        ">> Result 189\r",
        ">> Result 190\r",
        ">> Result 191\r",
        ">> Result 192\r",
        ">> Result 193\r",
        ">> Result 194\r",
        ">> Result 195\r",
        ">> Result 196\r",
        ">> Result 197\r",
        ">> Result 198\r",
        ">> Result 199\r",
        ">> Result 200"
       ]
      },
      {
       "output_type": "stream",
       "stream": "stdout",
       "text": [
        "\r",
        ">> Result 201\r",
        ">> Result 202\r",
        ">> Result 203\r",
        ">> Result 204\r",
        ">> Result 205\r",
        ">> Result 206\r",
        ">> Result 207\r",
        ">> Result 208\r",
        ">> Result 209\r",
        ">> Result 210\r",
        ">> Result 211\r",
        ">> Result 212\r",
        ">> Result 213\r",
        ">> Result 214\r",
        ">> Result 215\r",
        ">> Result 216\r",
        ">> Result 217\r",
        ">> Result 218\r",
        ">> Result 219\r",
        ">> Result 220\r",
        ">> Result 221\r",
        ">> Result 222\r",
        ">> Result 223\r",
        ">> Result 224\r",
        ">> Result 225\r",
        ">> Result 226\r",
        ">> Result 227\r",
        ">> Result 228\r",
        ">> Result 229\r",
        ">> Result 230\r",
        ">> Result 231\r",
        ">> Result 232\r",
        ">> Result 233\r",
        ">> Result 234\r",
        ">> Result 235\r",
        ">> Result 236\r",
        ">> Result 237\r",
        ">> Result 238\r",
        ">> Result 239\r",
        ">> Result 240\r",
        ">> Result 241\r",
        ">> Result 242\r",
        ">> Result 243\r",
        ">> Result 244\r",
        ">> Result 245\r",
        ">> Result 246\r",
        ">> Result 247\r",
        ">> Result 248\r",
        ">> Result 249\r",
        ">> Result 250"
       ]
      },
      {
       "output_type": "stream",
       "stream": "stdout",
       "text": [
        "\r",
        ">> Result 251\r",
        ">> Result 252\r",
        ">> Result 253\r",
        ">> Result 254\r",
        ">> Result 255\r",
        ">> Result 256\r",
        ">> Result 257\r",
        ">> Result 258\r",
        ">> Result 259\r",
        ">> Result 260\r",
        ">> Result 261\r",
        ">> Result 262\r",
        ">> Result 263\r",
        ">> Result 264\r",
        ">> Result 265\r",
        ">> Result 266\r",
        ">> Result 267\r",
        ">> Result 268\r",
        ">> Result 269\r",
        ">> Result 270\r",
        ">> Result 271\r",
        ">> Result 272\r",
        ">> Result 273\r",
        ">> Result 274\r",
        ">> Result 275\r",
        ">> Result 276\r",
        ">> Result 277\r",
        ">> Result 278\r",
        ">> Result 279\r",
        ">> Result 280\r",
        ">> Result 281\r",
        ">> Result 282\r",
        ">> Result 283\r",
        ">> Result 284\r",
        ">> Result 285\r",
        ">> Result 286\r",
        ">> Result 287\r",
        ">> Result 288\r",
        ">> Result 289\r",
        ">> Result 290\r",
        ">> Result 291\r",
        ">> Result 292\r",
        ">> Result 293\r",
        ">> Result 294\r",
        ">> Result 295\r",
        ">> Result 296\r",
        ">> Result 297\r",
        ">> Result 298\r",
        ">> Result 299\r",
        ">> Result 300\r",
        ">> Result 301\r",
        ">> Result 302\r",
        ">> Result 303\r",
        ">> Result 304\r",
        ">> Result 305\r",
        ">> Result 306\r",
        ">> Result 307\r",
        ">> Result 308\r",
        ">> Result 309\r",
        ">> Result 310"
       ]
      },
      {
       "output_type": "stream",
       "stream": "stdout",
       "text": [
        "\r",
        ">> Result 311\r",
        ">> Result 312\r",
        ">> Result 313\r",
        ">> Result 314\r",
        ">> Result 315\r",
        ">> Result 316\r",
        ">> Result 317\r",
        ">> Result 318\r",
        ">> Result 319\r",
        ">> Result 320\r",
        ">> Result 321\r",
        ">> Result 322\r",
        ">> Result 323\r",
        ">> Result 324\r",
        ">> Result 325\r",
        ">> Result 326\r",
        ">> Result 327\r",
        ">> Result 328\r",
        ">> Result 329\r",
        ">> Result 330\r",
        ">> Result 331\r",
        ">> Result 332\r",
        ">> Result 333\r",
        ">> Result 334\r",
        ">> Result 335\r",
        ">> Result 336\r",
        ">> Result 337\r",
        ">> Result 338\r",
        ">> Result 339\r",
        ">> Result 340\r",
        ">> Result 341\r",
        ">> Result 342\r",
        ">> Result 343\r",
        ">> Result 344\r",
        ">> Result 345\r",
        ">> Result 346\r",
        ">> Result 347\r",
        ">> Result 348\r",
        ">> Result 349\r",
        ">> Result 350\r",
        ">> Result 351\r",
        ">> Result 352\r",
        ">> Result 353\r",
        ">> Result 354\r",
        ">> Result 355\r",
        ">> Result 356\r",
        ">> Result 357\r",
        ">> Result 358\r",
        ">> Result 359\r",
        ">> Result 360"
       ]
      },
      {
       "output_type": "stream",
       "stream": "stdout",
       "text": [
        "\r",
        ">> Result 361\r",
        ">> Result 362\r",
        ">> Result 363\r",
        ">> Result 364\r",
        ">> Result 365\r",
        ">> Result 366\r",
        ">> Result 367\r",
        ">> Result 368\r",
        ">> Result 369\r",
        ">> Result 370\r",
        ">> Result 371\r",
        ">> Result 372\r",
        ">> Result 373\r",
        ">> Result 374\r",
        ">> Result 375\r",
        ">> Result 376\r",
        ">> Result 377\r",
        ">> Result 378\r",
        ">> Result 379\r",
        ">> Result 380\r",
        ">> Result 381\r",
        ">> Result 382\r",
        ">> Result 383\r",
        ">> Result 384\r",
        ">> Result 385\r",
        ">> Result 386\r",
        ">> Result 387\r",
        ">> Result 388\r",
        ">> Result 389\r",
        ">> Result 390"
       ]
      },
      {
       "output_type": "stream",
       "stream": "stdout",
       "text": [
        "\r",
        ">> Result 391\r",
        ">> Result 392\r",
        ">> Result 393\r",
        ">> Result 394\r",
        ">> Result 395\r",
        ">> Result 396\r",
        ">> Result 397\r",
        ">> Result 398\r",
        ">> Result 399\r",
        ">> Result 400\r",
        ">> Result 401\r",
        ">> Result 402\r",
        ">> Result 403\r",
        ">> Result 404\r",
        ">> Result 405\r",
        ">> Result 406\r",
        ">> Result 407\r",
        ">> Result 408\r",
        ">> Result 409\r",
        ">> Result 410\r",
        ">> Result 411\r",
        ">> Result 412\r",
        ">> Result 413\r",
        ">> Result 414\r",
        ">> Result 415\r",
        ">> Result 416\r",
        ">> Result 417\r",
        ">> Result 418\r",
        ">> Result 419\r",
        ">> Result 420"
       ]
      },
      {
       "output_type": "stream",
       "stream": "stdout",
       "text": [
        "\r",
        ">> Result 421\r",
        ">> Result 422\r",
        ">> Result 423\r",
        ">> Result 424\r",
        ">> Result 425\r",
        ">> Result 426\r",
        ">> Result 427\r",
        ">> Result 428\r",
        ">> Result 429\r",
        ">> Result 430\r",
        ">> Result 431\r",
        ">> Result 432\r",
        ">> Result 433\r",
        ">> Result 434\r",
        ">> Result 435\r",
        ">> Result 436\r",
        ">> Result 437\r",
        ">> Result 438\r",
        ">> Result 439\r",
        ">> Result 440\r",
        ">> Result 441\r",
        ">> Result 442\r",
        ">> Result 443\r",
        ">> Result 444\r",
        ">> Result 445\r",
        ">> Result 446\r",
        ">> Result 447\r",
        ">> Result 448\r",
        ">> Result 449\r",
        ">> Result 450\r",
        ">> Result 451\r",
        ">> Result 452\r",
        ">> Result 453\r",
        ">> Result 454\r",
        ">> Result 455\r",
        ">> Result 456\r",
        ">> Result 457\r",
        ">> Result 458\r",
        ">> Result 459\r",
        ">> Result 460"
       ]
      },
      {
       "output_type": "stream",
       "stream": "stdout",
       "text": [
        "\r",
        ">> Result 461\r",
        ">> Result 462\r",
        ">> Result 463\r",
        ">> Result 464\r",
        ">> Result 465\r",
        ">> Result 466\r",
        ">> Result 467\r",
        ">> Result 468\r",
        ">> Result 469\r",
        ">> Result 470"
       ]
      },
      {
       "output_type": "stream",
       "stream": "stdout",
       "text": [
        "\r",
        ">> Result 471\r",
        ">> Result 472\r",
        ">> Result 473\r",
        ">> Result 474\r",
        ">> Result 475\r",
        ">> Result 476\r",
        ">> Result 477\r",
        ">> Result 478\r",
        ">> Result 479\r",
        ">> Result 480\r",
        ">> Result 481\r",
        ">> Result 482\r",
        ">> Result 483\r",
        ">> Result 484\r",
        ">> Result 485\r",
        ">> Result 486\r",
        ">> Result 487\r",
        ">> Result 488\r",
        ">> Result 489\r",
        ">> Result 490\r",
        ">> Result 491\r",
        ">> Result 492\r",
        ">> Result 493\r",
        ">> Result 494\r",
        ">> Result 495\r",
        ">> Result 496\r",
        ">> Result 497\r",
        ">> Result 498\r",
        ">> Result 499"
       ]
      }
     ],
     "prompt_number": 30
    },
    {
     "cell_type": "code",
     "collapsed": false,
     "input": [
      "results"
     ],
     "language": "python",
     "metadata": {},
     "outputs": [
      {
       "metadata": {},
       "output_type": "pyout",
       "prompt_number": 31,
       "text": [
        "[('common-crawl/crawl-data/CC-MAIN-2014-15/segments/1397609521512.15/wat/CC-MAIN-20140416005201-00390-ip-10-147-4-33.ec2.internal.warc.wat.gz',\n",
        "  293474557),\n",
        " ('common-crawl/crawl-data/CC-MAIN-2014-15/segments/1397609521512.15/wat/CC-MAIN-20140416005201-00391-ip-10-147-4-33.ec2.internal.warc.wat.gz',\n",
        "  290175002),\n",
        " ('common-crawl/crawl-data/CC-MAIN-2014-15/segments/1397609521512.15/wat/CC-MAIN-20140416005201-00392-ip-10-147-4-33.ec2.internal.warc.wat.gz',\n",
        "  290959605),\n",
        " ('common-crawl/crawl-data/CC-MAIN-2014-15/segments/1397609521512.15/wat/CC-MAIN-20140416005201-00393-ip-10-147-4-33.ec2.internal.warc.wat.gz',\n",
        "  295523665),\n",
        " ('common-crawl/crawl-data/CC-MAIN-2014-15/segments/1397609521512.15/wat/CC-MAIN-20140416005201-00394-ip-10-147-4-33.ec2.internal.warc.wat.gz',\n",
        "  291895112),\n",
        " ('common-crawl/crawl-data/CC-MAIN-2014-15/segments/1397609521512.15/wat/CC-MAIN-20140416005201-00395-ip-10-147-4-33.ec2.internal.warc.wat.gz',\n",
        "  293936496),\n",
        " ('common-crawl/crawl-data/CC-MAIN-2014-15/segments/1397609521512.15/wat/CC-MAIN-20140416005201-00396-ip-10-147-4-33.ec2.internal.warc.wat.gz',\n",
        "  291928458),\n",
        " ('common-crawl/crawl-data/CC-MAIN-2014-15/segments/1397609521512.15/wat/CC-MAIN-20140416005201-00397-ip-10-147-4-33.ec2.internal.warc.wat.gz',\n",
        "  294315217),\n",
        " ('common-crawl/crawl-data/CC-MAIN-2014-15/segments/1397609521512.15/wat/CC-MAIN-20140416005201-00398-ip-10-147-4-33.ec2.internal.warc.wat.gz',\n",
        "  291708197),\n",
        " ('common-crawl/crawl-data/CC-MAIN-2014-15/segments/1397609521512.15/wat/CC-MAIN-20140416005201-00399-ip-10-147-4-33.ec2.internal.warc.wat.gz',\n",
        "  294004630),\n",
        " ('common-crawl/crawl-data/CC-MAIN-2014-15/segments/1397609521512.15/wat/CC-MAIN-20140416005201-00480-ip-10-147-4-33.ec2.internal.warc.wat.gz',\n",
        "  289946568),\n",
        " ('common-crawl/crawl-data/CC-MAIN-2014-15/segments/1397609521512.15/wat/CC-MAIN-20140416005201-00481-ip-10-147-4-33.ec2.internal.warc.wat.gz',\n",
        "  290642564),\n",
        " ('common-crawl/crawl-data/CC-MAIN-2014-15/segments/1397609521512.15/wat/CC-MAIN-20140416005201-00482-ip-10-147-4-33.ec2.internal.warc.wat.gz',\n",
        "  293308618),\n",
        " ('common-crawl/crawl-data/CC-MAIN-2014-15/segments/1397609521512.15/wat/CC-MAIN-20140416005201-00483-ip-10-147-4-33.ec2.internal.warc.wat.gz',\n",
        "  289896803),\n",
        " ('common-crawl/crawl-data/CC-MAIN-2014-15/segments/1397609521512.15/wat/CC-MAIN-20140416005201-00484-ip-10-147-4-33.ec2.internal.warc.wat.gz',\n",
        "  292714850),\n",
        " ('common-crawl/crawl-data/CC-MAIN-2014-15/segments/1397609521512.15/wat/CC-MAIN-20140416005201-00485-ip-10-147-4-33.ec2.internal.warc.wat.gz',\n",
        "  293665185),\n",
        " ('common-crawl/crawl-data/CC-MAIN-2014-15/segments/1397609521512.15/wat/CC-MAIN-20140416005201-00486-ip-10-147-4-33.ec2.internal.warc.wat.gz',\n",
        "  293937467),\n",
        " ('common-crawl/crawl-data/CC-MAIN-2014-15/segments/1397609521512.15/wat/CC-MAIN-20140416005201-00487-ip-10-147-4-33.ec2.internal.warc.wat.gz',\n",
        "  294352724),\n",
        " ('common-crawl/crawl-data/CC-MAIN-2014-15/segments/1397609521512.15/wat/CC-MAIN-20140416005201-00488-ip-10-147-4-33.ec2.internal.warc.wat.gz',\n",
        "  291138958),\n",
        " ('common-crawl/crawl-data/CC-MAIN-2014-15/segments/1397609521512.15/wat/CC-MAIN-20140416005201-00489-ip-10-147-4-33.ec2.internal.warc.wat.gz',\n",
        "  293371338),\n",
        " ('common-crawl/crawl-data/CC-MAIN-2014-15/segments/1397609521512.15/wat/CC-MAIN-20140416005201-00010-ip-10-147-4-33.ec2.internal.warc.wat.gz',\n",
        "  291972783),\n",
        " ('common-crawl/crawl-data/CC-MAIN-2014-15/segments/1397609521512.15/wat/CC-MAIN-20140416005201-00011-ip-10-147-4-33.ec2.internal.warc.wat.gz',\n",
        "  291166649),\n",
        " ('common-crawl/crawl-data/CC-MAIN-2014-15/segments/1397609521512.15/wat/CC-MAIN-20140416005201-00012-ip-10-147-4-33.ec2.internal.warc.wat.gz',\n",
        "  293860543),\n",
        " ('common-crawl/crawl-data/CC-MAIN-2014-15/segments/1397609521512.15/wat/CC-MAIN-20140416005201-00013-ip-10-147-4-33.ec2.internal.warc.wat.gz',\n",
        "  295594980),\n",
        " ('common-crawl/crawl-data/CC-MAIN-2014-15/segments/1397609521512.15/wat/CC-MAIN-20140416005201-00014-ip-10-147-4-33.ec2.internal.warc.wat.gz',\n",
        "  292054694),\n",
        " ('common-crawl/crawl-data/CC-MAIN-2014-15/segments/1397609521512.15/wat/CC-MAIN-20140416005201-00015-ip-10-147-4-33.ec2.internal.warc.wat.gz',\n",
        "  294275191),\n",
        " ('common-crawl/crawl-data/CC-MAIN-2014-15/segments/1397609521512.15/wat/CC-MAIN-20140416005201-00016-ip-10-147-4-33.ec2.internal.warc.wat.gz',\n",
        "  293606882),\n",
        " ('common-crawl/crawl-data/CC-MAIN-2014-15/segments/1397609521512.15/wat/CC-MAIN-20140416005201-00017-ip-10-147-4-33.ec2.internal.warc.wat.gz',\n",
        "  292747619),\n",
        " ('common-crawl/crawl-data/CC-MAIN-2014-15/segments/1397609521512.15/wat/CC-MAIN-20140416005201-00018-ip-10-147-4-33.ec2.internal.warc.wat.gz',\n",
        "  292362116),\n",
        " ('common-crawl/crawl-data/CC-MAIN-2014-15/segments/1397609521512.15/wat/CC-MAIN-20140416005201-00019-ip-10-147-4-33.ec2.internal.warc.wat.gz',\n",
        "  292360044),\n",
        " ('common-crawl/crawl-data/CC-MAIN-2014-15/segments/1397609521512.15/wat/CC-MAIN-20140416005201-00360-ip-10-147-4-33.ec2.internal.warc.wat.gz',\n",
        "  291935758),\n",
        " ('common-crawl/crawl-data/CC-MAIN-2014-15/segments/1397609521512.15/wat/CC-MAIN-20140416005201-00361-ip-10-147-4-33.ec2.internal.warc.wat.gz',\n",
        "  293711325),\n",
        " ('common-crawl/crawl-data/CC-MAIN-2014-15/segments/1397609521512.15/wat/CC-MAIN-20140416005201-00362-ip-10-147-4-33.ec2.internal.warc.wat.gz',\n",
        "  292790751),\n",
        " ('common-crawl/crawl-data/CC-MAIN-2014-15/segments/1397609521512.15/wat/CC-MAIN-20140416005201-00363-ip-10-147-4-33.ec2.internal.warc.wat.gz',\n",
        "  293622333),\n",
        " ('common-crawl/crawl-data/CC-MAIN-2014-15/segments/1397609521512.15/wat/CC-MAIN-20140416005201-00364-ip-10-147-4-33.ec2.internal.warc.wat.gz',\n",
        "  292055199),\n",
        " ('common-crawl/crawl-data/CC-MAIN-2014-15/segments/1397609521512.15/wat/CC-MAIN-20140416005201-00365-ip-10-147-4-33.ec2.internal.warc.wat.gz',\n",
        "  293649163),\n",
        " ('common-crawl/crawl-data/CC-MAIN-2014-15/segments/1397609521512.15/wat/CC-MAIN-20140416005201-00366-ip-10-147-4-33.ec2.internal.warc.wat.gz',\n",
        "  292742865),\n",
        " ('common-crawl/crawl-data/CC-MAIN-2014-15/segments/1397609521512.15/wat/CC-MAIN-20140416005201-00367-ip-10-147-4-33.ec2.internal.warc.wat.gz',\n",
        "  289890507),\n",
        " ('common-crawl/crawl-data/CC-MAIN-2014-15/segments/1397609521512.15/wat/CC-MAIN-20140416005201-00368-ip-10-147-4-33.ec2.internal.warc.wat.gz',\n",
        "  293940878),\n",
        " ('common-crawl/crawl-data/CC-MAIN-2014-15/segments/1397609521512.15/wat/CC-MAIN-20140416005201-00369-ip-10-147-4-33.ec2.internal.warc.wat.gz',\n",
        "  294617483),\n",
        " ('common-crawl/crawl-data/CC-MAIN-2014-15/segments/1397609521512.15/wat/CC-MAIN-20140416005201-00270-ip-10-147-4-33.ec2.internal.warc.wat.gz',\n",
        "  290690933),\n",
        " ('common-crawl/crawl-data/CC-MAIN-2014-15/segments/1397609521512.15/wat/CC-MAIN-20140416005201-00271-ip-10-147-4-33.ec2.internal.warc.wat.gz',\n",
        "  290479117),\n",
        " ('common-crawl/crawl-data/CC-MAIN-2014-15/segments/1397609521512.15/wat/CC-MAIN-20140416005201-00272-ip-10-147-4-33.ec2.internal.warc.wat.gz',\n",
        "  293717310),\n",
        " ('common-crawl/crawl-data/CC-MAIN-2014-15/segments/1397609521512.15/wat/CC-MAIN-20140416005201-00273-ip-10-147-4-33.ec2.internal.warc.wat.gz',\n",
        "  294927861),\n",
        " ('common-crawl/crawl-data/CC-MAIN-2014-15/segments/1397609521512.15/wat/CC-MAIN-20140416005201-00274-ip-10-147-4-33.ec2.internal.warc.wat.gz',\n",
        "  291623012),\n",
        " ('common-crawl/crawl-data/CC-MAIN-2014-15/segments/1397609521512.15/wat/CC-MAIN-20140416005201-00275-ip-10-147-4-33.ec2.internal.warc.wat.gz',\n",
        "  291843668),\n",
        " ('common-crawl/crawl-data/CC-MAIN-2014-15/segments/1397609521512.15/wat/CC-MAIN-20140416005201-00276-ip-10-147-4-33.ec2.internal.warc.wat.gz',\n",
        "  290798919),\n",
        " ('common-crawl/crawl-data/CC-MAIN-2014-15/segments/1397609521512.15/wat/CC-MAIN-20140416005201-00277-ip-10-147-4-33.ec2.internal.warc.wat.gz',\n",
        "  294220775),\n",
        " ('common-crawl/crawl-data/CC-MAIN-2014-15/segments/1397609521512.15/wat/CC-MAIN-20140416005201-00278-ip-10-147-4-33.ec2.internal.warc.wat.gz',\n",
        "  295040955),\n",
        " ('common-crawl/crawl-data/CC-MAIN-2014-15/segments/1397609521512.15/wat/CC-MAIN-20140416005201-00279-ip-10-147-4-33.ec2.internal.warc.wat.gz',\n",
        "  291007822),\n",
        " ('common-crawl/crawl-data/CC-MAIN-2014-15/segments/1397609521512.15/wat/CC-MAIN-20140416005201-00460-ip-10-147-4-33.ec2.internal.warc.wat.gz',\n",
        "  291183827),\n",
        " ('common-crawl/crawl-data/CC-MAIN-2014-15/segments/1397609521512.15/wat/CC-MAIN-20140416005201-00461-ip-10-147-4-33.ec2.internal.warc.wat.gz',\n",
        "  293862566),\n",
        " ('common-crawl/crawl-data/CC-MAIN-2014-15/segments/1397609521512.15/wat/CC-MAIN-20140416005201-00462-ip-10-147-4-33.ec2.internal.warc.wat.gz',\n",
        "  293672501),\n",
        " ('common-crawl/crawl-data/CC-MAIN-2014-15/segments/1397609521512.15/wat/CC-MAIN-20140416005201-00463-ip-10-147-4-33.ec2.internal.warc.wat.gz',\n",
        "  292328643),\n",
        " ('common-crawl/crawl-data/CC-MAIN-2014-15/segments/1397609521512.15/wat/CC-MAIN-20140416005201-00464-ip-10-147-4-33.ec2.internal.warc.wat.gz',\n",
        "  291212838),\n",
        " ('common-crawl/crawl-data/CC-MAIN-2014-15/segments/1397609521512.15/wat/CC-MAIN-20140416005201-00465-ip-10-147-4-33.ec2.internal.warc.wat.gz',\n",
        "  294758181),\n",
        " ('common-crawl/crawl-data/CC-MAIN-2014-15/segments/1397609521512.15/wat/CC-MAIN-20140416005201-00466-ip-10-147-4-33.ec2.internal.warc.wat.gz',\n",
        "  292503669),\n",
        " ('common-crawl/crawl-data/CC-MAIN-2014-15/segments/1397609521512.15/wat/CC-MAIN-20140416005201-00467-ip-10-147-4-33.ec2.internal.warc.wat.gz',\n",
        "  291578843),\n",
        " ('common-crawl/crawl-data/CC-MAIN-2014-15/segments/1397609521512.15/wat/CC-MAIN-20140416005201-00468-ip-10-147-4-33.ec2.internal.warc.wat.gz',\n",
        "  294599152),\n",
        " ('common-crawl/crawl-data/CC-MAIN-2014-15/segments/1397609521512.15/wat/CC-MAIN-20140416005201-00469-ip-10-147-4-33.ec2.internal.warc.wat.gz',\n",
        "  296526486),\n",
        " ('common-crawl/crawl-data/CC-MAIN-2014-15/segments/1397609521512.15/wat/CC-MAIN-20140416005201-00240-ip-10-147-4-33.ec2.internal.warc.wat.gz',\n",
        "  292426055),\n",
        " ('common-crawl/crawl-data/CC-MAIN-2014-15/segments/1397609521512.15/wat/CC-MAIN-20140416005201-00241-ip-10-147-4-33.ec2.internal.warc.wat.gz',\n",
        "  290996836),\n",
        " ('common-crawl/crawl-data/CC-MAIN-2014-15/segments/1397609521512.15/wat/CC-MAIN-20140416005201-00242-ip-10-147-4-33.ec2.internal.warc.wat.gz',\n",
        "  292223662),\n",
        " ('common-crawl/crawl-data/CC-MAIN-2014-15/segments/1397609521512.15/wat/CC-MAIN-20140416005201-00243-ip-10-147-4-33.ec2.internal.warc.wat.gz',\n",
        "  292727930),\n",
        " ('common-crawl/crawl-data/CC-MAIN-2014-15/segments/1397609521512.15/wat/CC-MAIN-20140416005201-00244-ip-10-147-4-33.ec2.internal.warc.wat.gz',\n",
        "  293173268),\n",
        " ('common-crawl/crawl-data/CC-MAIN-2014-15/segments/1397609521512.15/wat/CC-MAIN-20140416005201-00245-ip-10-147-4-33.ec2.internal.warc.wat.gz',\n",
        "  293663226),\n",
        " ('common-crawl/crawl-data/CC-MAIN-2014-15/segments/1397609521512.15/wat/CC-MAIN-20140416005201-00246-ip-10-147-4-33.ec2.internal.warc.wat.gz',\n",
        "  290329872),\n",
        " ('common-crawl/crawl-data/CC-MAIN-2014-15/segments/1397609521512.15/wat/CC-MAIN-20140416005201-00247-ip-10-147-4-33.ec2.internal.warc.wat.gz',\n",
        "  291905906),\n",
        " ('common-crawl/crawl-data/CC-MAIN-2014-15/segments/1397609521512.15/wat/CC-MAIN-20140416005201-00248-ip-10-147-4-33.ec2.internal.warc.wat.gz',\n",
        "  289582948),\n",
        " ('common-crawl/crawl-data/CC-MAIN-2014-15/segments/1397609521512.15/wat/CC-MAIN-20140416005201-00249-ip-10-147-4-33.ec2.internal.warc.wat.gz',\n",
        "  293459017),\n",
        " ('common-crawl/crawl-data/CC-MAIN-2014-15/segments/1397609521512.15/wat/CC-MAIN-20140416005201-00290-ip-10-147-4-33.ec2.internal.warc.wat.gz',\n",
        "  292464636),\n",
        " ('common-crawl/crawl-data/CC-MAIN-2014-15/segments/1397609521512.15/wat/CC-MAIN-20140416005201-00291-ip-10-147-4-33.ec2.internal.warc.wat.gz',\n",
        "  290018115),\n",
        " ('common-crawl/crawl-data/CC-MAIN-2014-15/segments/1397609521512.15/wat/CC-MAIN-20140416005201-00292-ip-10-147-4-33.ec2.internal.warc.wat.gz',\n",
        "  291863095),\n",
        " ('common-crawl/crawl-data/CC-MAIN-2014-15/segments/1397609521512.15/wat/CC-MAIN-20140416005201-00293-ip-10-147-4-33.ec2.internal.warc.wat.gz',\n",
        "  291993066),\n",
        " ('common-crawl/crawl-data/CC-MAIN-2014-15/segments/1397609521512.15/wat/CC-MAIN-20140416005201-00294-ip-10-147-4-33.ec2.internal.warc.wat.gz',\n",
        "  292294415),\n",
        " ('common-crawl/crawl-data/CC-MAIN-2014-15/segments/1397609521512.15/wat/CC-MAIN-20140416005201-00295-ip-10-147-4-33.ec2.internal.warc.wat.gz',\n",
        "  292715830),\n",
        " ('common-crawl/crawl-data/CC-MAIN-2014-15/segments/1397609521512.15/wat/CC-MAIN-20140416005201-00296-ip-10-147-4-33.ec2.internal.warc.wat.gz',\n",
        "  291166939),\n",
        " ('common-crawl/crawl-data/CC-MAIN-2014-15/segments/1397609521512.15/wat/CC-MAIN-20140416005201-00297-ip-10-147-4-33.ec2.internal.warc.wat.gz',\n",
        "  293121783),\n",
        " ('common-crawl/crawl-data/CC-MAIN-2014-15/segments/1397609521512.15/wat/CC-MAIN-20140416005201-00298-ip-10-147-4-33.ec2.internal.warc.wat.gz',\n",
        "  289015962),\n",
        " ('common-crawl/crawl-data/CC-MAIN-2014-15/segments/1397609521512.15/wat/CC-MAIN-20140416005201-00299-ip-10-147-4-33.ec2.internal.warc.wat.gz',\n",
        "  292652365),\n",
        " ('common-crawl/crawl-data/CC-MAIN-2014-15/segments/1397609521512.15/wat/CC-MAIN-20140416005201-00490-ip-10-147-4-33.ec2.internal.warc.wat.gz',\n",
        "  294750704),\n",
        " ('common-crawl/crawl-data/CC-MAIN-2014-15/segments/1397609521512.15/wat/CC-MAIN-20140416005201-00491-ip-10-147-4-33.ec2.internal.warc.wat.gz',\n",
        "  293088427),\n",
        " ('common-crawl/crawl-data/CC-MAIN-2014-15/segments/1397609521512.15/wat/CC-MAIN-20140416005201-00492-ip-10-147-4-33.ec2.internal.warc.wat.gz',\n",
        "  292660339),\n",
        " ('common-crawl/crawl-data/CC-MAIN-2014-15/segments/1397609521512.15/wat/CC-MAIN-20140416005201-00493-ip-10-147-4-33.ec2.internal.warc.wat.gz',\n",
        "  293238664),\n",
        " ('common-crawl/crawl-data/CC-MAIN-2014-15/segments/1397609521512.15/wat/CC-MAIN-20140416005201-00494-ip-10-147-4-33.ec2.internal.warc.wat.gz',\n",
        "  292145289),\n",
        " ('common-crawl/crawl-data/CC-MAIN-2014-15/segments/1397609521512.15/wat/CC-MAIN-20140416005201-00495-ip-10-147-4-33.ec2.internal.warc.wat.gz',\n",
        "  293733168),\n",
        " ('common-crawl/crawl-data/CC-MAIN-2014-15/segments/1397609521512.15/wat/CC-MAIN-20140416005201-00496-ip-10-147-4-33.ec2.internal.warc.wat.gz',\n",
        "  294057348),\n",
        " ('common-crawl/crawl-data/CC-MAIN-2014-15/segments/1397609521512.15/wat/CC-MAIN-20140416005201-00497-ip-10-147-4-33.ec2.internal.warc.wat.gz',\n",
        "  293023846),\n",
        " ('common-crawl/crawl-data/CC-MAIN-2014-15/segments/1397609521512.15/wat/CC-MAIN-20140416005201-00498-ip-10-147-4-33.ec2.internal.warc.wat.gz',\n",
        "  291629916),\n",
        " ('common-crawl/crawl-data/CC-MAIN-2014-15/segments/1397609521512.15/wat/CC-MAIN-20140416005201-00499-ip-10-147-4-33.ec2.internal.warc.wat.gz',\n",
        "  293615937),\n",
        " ('common-crawl/crawl-data/CC-MAIN-2014-15/segments/1397609521512.15/wat/CC-MAIN-20140416005201-00200-ip-10-147-4-33.ec2.internal.warc.wat.gz',\n",
        "  291404745),\n",
        " ('common-crawl/crawl-data/CC-MAIN-2014-15/segments/1397609521512.15/wat/CC-MAIN-20140416005201-00201-ip-10-147-4-33.ec2.internal.warc.wat.gz',\n",
        "  290663749),\n",
        " ('common-crawl/crawl-data/CC-MAIN-2014-15/segments/1397609521512.15/wat/CC-MAIN-20140416005201-00202-ip-10-147-4-33.ec2.internal.warc.wat.gz',\n",
        "  296243563),\n",
        " ('common-crawl/crawl-data/CC-MAIN-2014-15/segments/1397609521512.15/wat/CC-MAIN-20140416005201-00203-ip-10-147-4-33.ec2.internal.warc.wat.gz',\n",
        "  292725017),\n",
        " ('common-crawl/crawl-data/CC-MAIN-2014-15/segments/1397609521512.15/wat/CC-MAIN-20140416005201-00204-ip-10-147-4-33.ec2.internal.warc.wat.gz',\n",
        "  289470605),\n",
        " ('common-crawl/crawl-data/CC-MAIN-2014-15/segments/1397609521512.15/wat/CC-MAIN-20140416005201-00205-ip-10-147-4-33.ec2.internal.warc.wat.gz',\n",
        "  294478348),\n",
        " ('common-crawl/crawl-data/CC-MAIN-2014-15/segments/1397609521512.15/wat/CC-MAIN-20140416005201-00206-ip-10-147-4-33.ec2.internal.warc.wat.gz',\n",
        "  292862103),\n",
        " ('common-crawl/crawl-data/CC-MAIN-2014-15/segments/1397609521512.15/wat/CC-MAIN-20140416005201-00207-ip-10-147-4-33.ec2.internal.warc.wat.gz',\n",
        "  294633365),\n",
        " ('common-crawl/crawl-data/CC-MAIN-2014-15/segments/1397609521512.15/wat/CC-MAIN-20140416005201-00208-ip-10-147-4-33.ec2.internal.warc.wat.gz',\n",
        "  293905484),\n",
        " ('common-crawl/crawl-data/CC-MAIN-2014-15/segments/1397609521512.15/wat/CC-MAIN-20140416005201-00209-ip-10-147-4-33.ec2.internal.warc.wat.gz',\n",
        "  295480245),\n",
        " ('common-crawl/crawl-data/CC-MAIN-2014-15/segments/1397609521512.15/wat/CC-MAIN-20140416005201-00220-ip-10-147-4-33.ec2.internal.warc.wat.gz',\n",
        "  292386661),\n",
        " ('common-crawl/crawl-data/CC-MAIN-2014-15/segments/1397609521512.15/wat/CC-MAIN-20140416005201-00221-ip-10-147-4-33.ec2.internal.warc.wat.gz',\n",
        "  293994532),\n",
        " ('common-crawl/crawl-data/CC-MAIN-2014-15/segments/1397609521512.15/wat/CC-MAIN-20140416005201-00222-ip-10-147-4-33.ec2.internal.warc.wat.gz',\n",
        "  294272716),\n",
        " ('common-crawl/crawl-data/CC-MAIN-2014-15/segments/1397609521512.15/wat/CC-MAIN-20140416005201-00223-ip-10-147-4-33.ec2.internal.warc.wat.gz',\n",
        "  294283361),\n",
        " ('common-crawl/crawl-data/CC-MAIN-2014-15/segments/1397609521512.15/wat/CC-MAIN-20140416005201-00224-ip-10-147-4-33.ec2.internal.warc.wat.gz',\n",
        "  294914655),\n",
        " ('common-crawl/crawl-data/CC-MAIN-2014-15/segments/1397609521512.15/wat/CC-MAIN-20140416005201-00225-ip-10-147-4-33.ec2.internal.warc.wat.gz',\n",
        "  292333559),\n",
        " ('common-crawl/crawl-data/CC-MAIN-2014-15/segments/1397609521512.15/wat/CC-MAIN-20140416005201-00226-ip-10-147-4-33.ec2.internal.warc.wat.gz',\n",
        "  293946170),\n",
        " ('common-crawl/crawl-data/CC-MAIN-2014-15/segments/1397609521512.15/wat/CC-MAIN-20140416005201-00227-ip-10-147-4-33.ec2.internal.warc.wat.gz',\n",
        "  292322477),\n",
        " ('common-crawl/crawl-data/CC-MAIN-2014-15/segments/1397609521512.15/wat/CC-MAIN-20140416005201-00228-ip-10-147-4-33.ec2.internal.warc.wat.gz',\n",
        "  292658004),\n",
        " ('common-crawl/crawl-data/CC-MAIN-2014-15/segments/1397609521512.15/wat/CC-MAIN-20140416005201-00229-ip-10-147-4-33.ec2.internal.warc.wat.gz',\n",
        "  292310702),\n",
        " ('common-crawl/crawl-data/CC-MAIN-2014-15/segments/1397609521512.15/wat/CC-MAIN-20140416005201-00300-ip-10-147-4-33.ec2.internal.warc.wat.gz',\n",
        "  291476284),\n",
        " ('common-crawl/crawl-data/CC-MAIN-2014-15/segments/1397609521512.15/wat/CC-MAIN-20140416005201-00301-ip-10-147-4-33.ec2.internal.warc.wat.gz',\n",
        "  292147599),\n",
        " ('common-crawl/crawl-data/CC-MAIN-2014-15/segments/1397609521512.15/wat/CC-MAIN-20140416005201-00302-ip-10-147-4-33.ec2.internal.warc.wat.gz',\n",
        "  294753167),\n",
        " ('common-crawl/crawl-data/CC-MAIN-2014-15/segments/1397609521512.15/wat/CC-MAIN-20140416005201-00303-ip-10-147-4-33.ec2.internal.warc.wat.gz',\n",
        "  297781635),\n",
        " ('common-crawl/crawl-data/CC-MAIN-2014-15/segments/1397609521512.15/wat/CC-MAIN-20140416005201-00304-ip-10-147-4-33.ec2.internal.warc.wat.gz',\n",
        "  290566091),\n",
        " ('common-crawl/crawl-data/CC-MAIN-2014-15/segments/1397609521512.15/wat/CC-MAIN-20140416005201-00305-ip-10-147-4-33.ec2.internal.warc.wat.gz',\n",
        "  292870436),\n",
        " ('common-crawl/crawl-data/CC-MAIN-2014-15/segments/1397609521512.15/wat/CC-MAIN-20140416005201-00306-ip-10-147-4-33.ec2.internal.warc.wat.gz',\n",
        "  292439500),\n",
        " ('common-crawl/crawl-data/CC-MAIN-2014-15/segments/1397609521512.15/wat/CC-MAIN-20140416005201-00307-ip-10-147-4-33.ec2.internal.warc.wat.gz',\n",
        "  292721650),\n",
        " ('common-crawl/crawl-data/CC-MAIN-2014-15/segments/1397609521512.15/wat/CC-MAIN-20140416005201-00308-ip-10-147-4-33.ec2.internal.warc.wat.gz',\n",
        "  290147153),\n",
        " ('common-crawl/crawl-data/CC-MAIN-2014-15/segments/1397609521512.15/wat/CC-MAIN-20140416005201-00309-ip-10-147-4-33.ec2.internal.warc.wat.gz',\n",
        "  293796357),\n",
        " ('common-crawl/crawl-data/CC-MAIN-2014-15/segments/1397609521512.15/wat/CC-MAIN-20140416005201-00310-ip-10-147-4-33.ec2.internal.warc.wat.gz',\n",
        "  290896689),\n",
        " ('common-crawl/crawl-data/CC-MAIN-2014-15/segments/1397609521512.15/wat/CC-MAIN-20140416005201-00311-ip-10-147-4-33.ec2.internal.warc.wat.gz',\n",
        "  293184339),\n",
        " ('common-crawl/crawl-data/CC-MAIN-2014-15/segments/1397609521512.15/wat/CC-MAIN-20140416005201-00312-ip-10-147-4-33.ec2.internal.warc.wat.gz',\n",
        "  292316410),\n",
        " ('common-crawl/crawl-data/CC-MAIN-2014-15/segments/1397609521512.15/wat/CC-MAIN-20140416005201-00313-ip-10-147-4-33.ec2.internal.warc.wat.gz',\n",
        "  292451001),\n",
        " ('common-crawl/crawl-data/CC-MAIN-2014-15/segments/1397609521512.15/wat/CC-MAIN-20140416005201-00314-ip-10-147-4-33.ec2.internal.warc.wat.gz',\n",
        "  292884560),\n",
        " ('common-crawl/crawl-data/CC-MAIN-2014-15/segments/1397609521512.15/wat/CC-MAIN-20140416005201-00315-ip-10-147-4-33.ec2.internal.warc.wat.gz',\n",
        "  290768096),\n",
        " ('common-crawl/crawl-data/CC-MAIN-2014-15/segments/1397609521512.15/wat/CC-MAIN-20140416005201-00316-ip-10-147-4-33.ec2.internal.warc.wat.gz',\n",
        "  293474812),\n",
        " ('common-crawl/crawl-data/CC-MAIN-2014-15/segments/1397609521512.15/wat/CC-MAIN-20140416005201-00317-ip-10-147-4-33.ec2.internal.warc.wat.gz',\n",
        "  293541643),\n",
        " ('common-crawl/crawl-data/CC-MAIN-2014-15/segments/1397609521512.15/wat/CC-MAIN-20140416005201-00318-ip-10-147-4-33.ec2.internal.warc.wat.gz',\n",
        "  294713154),\n",
        " ('common-crawl/crawl-data/CC-MAIN-2014-15/segments/1397609521512.15/wat/CC-MAIN-20140416005201-00319-ip-10-147-4-33.ec2.internal.warc.wat.gz',\n",
        "  292448465),\n",
        " ('common-crawl/crawl-data/CC-MAIN-2014-15/segments/1397609521512.15/wat/CC-MAIN-20140416005201-00090-ip-10-147-4-33.ec2.internal.warc.wat.gz',\n",
        "  293993059),\n",
        " ('common-crawl/crawl-data/CC-MAIN-2014-15/segments/1397609521512.15/wat/CC-MAIN-20140416005201-00091-ip-10-147-4-33.ec2.internal.warc.wat.gz',\n",
        "  292581824),\n",
        " ('common-crawl/crawl-data/CC-MAIN-2014-15/segments/1397609521512.15/wat/CC-MAIN-20140416005201-00092-ip-10-147-4-33.ec2.internal.warc.wat.gz',\n",
        "  289882189),\n",
        " ('common-crawl/crawl-data/CC-MAIN-2014-15/segments/1397609521512.15/wat/CC-MAIN-20140416005201-00093-ip-10-147-4-33.ec2.internal.warc.wat.gz',\n",
        "  290695494),\n",
        " ('common-crawl/crawl-data/CC-MAIN-2014-15/segments/1397609521512.15/wat/CC-MAIN-20140416005201-00094-ip-10-147-4-33.ec2.internal.warc.wat.gz',\n",
        "  293096476),\n",
        " ('common-crawl/crawl-data/CC-MAIN-2014-15/segments/1397609521512.15/wat/CC-MAIN-20140416005201-00095-ip-10-147-4-33.ec2.internal.warc.wat.gz',\n",
        "  293638538),\n",
        " ('common-crawl/crawl-data/CC-MAIN-2014-15/segments/1397609521512.15/wat/CC-MAIN-20140416005201-00096-ip-10-147-4-33.ec2.internal.warc.wat.gz',\n",
        "  294075915),\n",
        " ('common-crawl/crawl-data/CC-MAIN-2014-15/segments/1397609521512.15/wat/CC-MAIN-20140416005201-00097-ip-10-147-4-33.ec2.internal.warc.wat.gz',\n",
        "  293094159),\n",
        " ('common-crawl/crawl-data/CC-MAIN-2014-15/segments/1397609521512.15/wat/CC-MAIN-20140416005201-00098-ip-10-147-4-33.ec2.internal.warc.wat.gz',\n",
        "  297035301),\n",
        " ('common-crawl/crawl-data/CC-MAIN-2014-15/segments/1397609521512.15/wat/CC-MAIN-20140416005201-00099-ip-10-147-4-33.ec2.internal.warc.wat.gz',\n",
        "  289833585),\n",
        " ('common-crawl/crawl-data/CC-MAIN-2014-15/segments/1397609521512.15/wat/CC-MAIN-20140416005201-00210-ip-10-147-4-33.ec2.internal.warc.wat.gz',\n",
        "  290501509),\n",
        " ('common-crawl/crawl-data/CC-MAIN-2014-15/segments/1397609521512.15/wat/CC-MAIN-20140416005201-00211-ip-10-147-4-33.ec2.internal.warc.wat.gz',\n",
        "  293062626),\n",
        " ('common-crawl/crawl-data/CC-MAIN-2014-15/segments/1397609521512.15/wat/CC-MAIN-20140416005201-00212-ip-10-147-4-33.ec2.internal.warc.wat.gz',\n",
        "  293461229),\n",
        " ('common-crawl/crawl-data/CC-MAIN-2014-15/segments/1397609521512.15/wat/CC-MAIN-20140416005201-00213-ip-10-147-4-33.ec2.internal.warc.wat.gz',\n",
        "  291859031),\n",
        " ('common-crawl/crawl-data/CC-MAIN-2014-15/segments/1397609521512.15/wat/CC-MAIN-20140416005201-00214-ip-10-147-4-33.ec2.internal.warc.wat.gz',\n",
        "  291102663),\n",
        " ('common-crawl/crawl-data/CC-MAIN-2014-15/segments/1397609521512.15/wat/CC-MAIN-20140416005201-00215-ip-10-147-4-33.ec2.internal.warc.wat.gz',\n",
        "  291277174),\n",
        " ('common-crawl/crawl-data/CC-MAIN-2014-15/segments/1397609521512.15/wat/CC-MAIN-20140416005201-00216-ip-10-147-4-33.ec2.internal.warc.wat.gz',\n",
        "  293090054),\n",
        " ('common-crawl/crawl-data/CC-MAIN-2014-15/segments/1397609521512.15/wat/CC-MAIN-20140416005201-00217-ip-10-147-4-33.ec2.internal.warc.wat.gz',\n",
        "  292676544),\n",
        " ('common-crawl/crawl-data/CC-MAIN-2014-15/segments/1397609521512.15/wat/CC-MAIN-20140416005201-00218-ip-10-147-4-33.ec2.internal.warc.wat.gz',\n",
        "  291605315),\n",
        " ('common-crawl/crawl-data/CC-MAIN-2014-15/segments/1397609521512.15/wat/CC-MAIN-20140416005201-00219-ip-10-147-4-33.ec2.internal.warc.wat.gz',\n",
        "  294860303),\n",
        " ('common-crawl/crawl-data/CC-MAIN-2014-15/segments/1397609521512.15/wat/CC-MAIN-20140416005201-00150-ip-10-147-4-33.ec2.internal.warc.wat.gz',\n",
        "  288297799),\n",
        " ('common-crawl/crawl-data/CC-MAIN-2014-15/segments/1397609521512.15/wat/CC-MAIN-20140416005201-00151-ip-10-147-4-33.ec2.internal.warc.wat.gz',\n",
        "  291413684),\n",
        " ('common-crawl/crawl-data/CC-MAIN-2014-15/segments/1397609521512.15/wat/CC-MAIN-20140416005201-00152-ip-10-147-4-33.ec2.internal.warc.wat.gz',\n",
        "  290529366),\n",
        " ('common-crawl/crawl-data/CC-MAIN-2014-15/segments/1397609521512.15/wat/CC-MAIN-20140416005201-00153-ip-10-147-4-33.ec2.internal.warc.wat.gz',\n",
        "  295629358),\n",
        " ('common-crawl/crawl-data/CC-MAIN-2014-15/segments/1397609521512.15/wat/CC-MAIN-20140416005201-00154-ip-10-147-4-33.ec2.internal.warc.wat.gz',\n",
        "  292580973),\n",
        " ('common-crawl/crawl-data/CC-MAIN-2014-15/segments/1397609521512.15/wat/CC-MAIN-20140416005201-00155-ip-10-147-4-33.ec2.internal.warc.wat.gz',\n",
        "  292800230),\n",
        " ('common-crawl/crawl-data/CC-MAIN-2014-15/segments/1397609521512.15/wat/CC-MAIN-20140416005201-00156-ip-10-147-4-33.ec2.internal.warc.wat.gz',\n",
        "  291516700),\n",
        " ('common-crawl/crawl-data/CC-MAIN-2014-15/segments/1397609521512.15/wat/CC-MAIN-20140416005201-00157-ip-10-147-4-33.ec2.internal.warc.wat.gz',\n",
        "  294692876),\n",
        " ('common-crawl/crawl-data/CC-MAIN-2014-15/segments/1397609521512.15/wat/CC-MAIN-20140416005201-00158-ip-10-147-4-33.ec2.internal.warc.wat.gz',\n",
        "  290690196),\n",
        " ('common-crawl/crawl-data/CC-MAIN-2014-15/segments/1397609521512.15/wat/CC-MAIN-20140416005201-00159-ip-10-147-4-33.ec2.internal.warc.wat.gz',\n",
        "  293078758),\n",
        " ('common-crawl/crawl-data/CC-MAIN-2014-15/segments/1397609521512.15/wat/CC-MAIN-20140416005201-00050-ip-10-147-4-33.ec2.internal.warc.wat.gz',\n",
        "  291864429),\n",
        " ('common-crawl/crawl-data/CC-MAIN-2014-15/segments/1397609521512.15/wat/CC-MAIN-20140416005201-00051-ip-10-147-4-33.ec2.internal.warc.wat.gz',\n",
        "  293265893),\n",
        " ('common-crawl/crawl-data/CC-MAIN-2014-15/segments/1397609521512.15/wat/CC-MAIN-20140416005201-00052-ip-10-147-4-33.ec2.internal.warc.wat.gz',\n",
        "  291368758),\n",
        " ('common-crawl/crawl-data/CC-MAIN-2014-15/segments/1397609521512.15/wat/CC-MAIN-20140416005201-00053-ip-10-147-4-33.ec2.internal.warc.wat.gz',\n",
        "  294257285),\n",
        " ('common-crawl/crawl-data/CC-MAIN-2014-15/segments/1397609521512.15/wat/CC-MAIN-20140416005201-00054-ip-10-147-4-33.ec2.internal.warc.wat.gz',\n",
        "  295084604),\n",
        " ('common-crawl/crawl-data/CC-MAIN-2014-15/segments/1397609521512.15/wat/CC-MAIN-20140416005201-00055-ip-10-147-4-33.ec2.internal.warc.wat.gz',\n",
        "  292272353),\n",
        " ('common-crawl/crawl-data/CC-MAIN-2014-15/segments/1397609521512.15/wat/CC-MAIN-20140416005201-00056-ip-10-147-4-33.ec2.internal.warc.wat.gz',\n",
        "  289866657),\n",
        " ('common-crawl/crawl-data/CC-MAIN-2014-15/segments/1397609521512.15/wat/CC-MAIN-20140416005201-00057-ip-10-147-4-33.ec2.internal.warc.wat.gz',\n",
        "  292488792),\n",
        " ('common-crawl/crawl-data/CC-MAIN-2014-15/segments/1397609521512.15/wat/CC-MAIN-20140416005201-00058-ip-10-147-4-33.ec2.internal.warc.wat.gz',\n",
        "  294352784),\n",
        " ('common-crawl/crawl-data/CC-MAIN-2014-15/segments/1397609521512.15/wat/CC-MAIN-20140416005201-00059-ip-10-147-4-33.ec2.internal.warc.wat.gz',\n",
        "  290935267),\n",
        " ('common-crawl/crawl-data/CC-MAIN-2014-15/segments/1397609521512.15/wat/CC-MAIN-20140416005201-00020-ip-10-147-4-33.ec2.internal.warc.wat.gz',\n",
        "  293507205),\n",
        " ('common-crawl/crawl-data/CC-MAIN-2014-15/segments/1397609521512.15/wat/CC-MAIN-20140416005201-00021-ip-10-147-4-33.ec2.internal.warc.wat.gz',\n",
        "  291013845),\n",
        " ('common-crawl/crawl-data/CC-MAIN-2014-15/segments/1397609521512.15/wat/CC-MAIN-20140416005201-00022-ip-10-147-4-33.ec2.internal.warc.wat.gz',\n",
        "  293387341),\n",
        " ('common-crawl/crawl-data/CC-MAIN-2014-15/segments/1397609521512.15/wat/CC-MAIN-20140416005201-00023-ip-10-147-4-33.ec2.internal.warc.wat.gz',\n",
        "  293890625),\n",
        " ('common-crawl/crawl-data/CC-MAIN-2014-15/segments/1397609521512.15/wat/CC-MAIN-20140416005201-00024-ip-10-147-4-33.ec2.internal.warc.wat.gz',\n",
        "  294171542),\n",
        " ('common-crawl/crawl-data/CC-MAIN-2014-15/segments/1397609521512.15/wat/CC-MAIN-20140416005201-00025-ip-10-147-4-33.ec2.internal.warc.wat.gz',\n",
        "  292781118),\n",
        " ('common-crawl/crawl-data/CC-MAIN-2014-15/segments/1397609521512.15/wat/CC-MAIN-20140416005201-00026-ip-10-147-4-33.ec2.internal.warc.wat.gz',\n",
        "  291425663),\n",
        " ('common-crawl/crawl-data/CC-MAIN-2014-15/segments/1397609521512.15/wat/CC-MAIN-20140416005201-00027-ip-10-147-4-33.ec2.internal.warc.wat.gz',\n",
        "  292228069),\n",
        " ('common-crawl/crawl-data/CC-MAIN-2014-15/segments/1397609521512.15/wat/CC-MAIN-20140416005201-00028-ip-10-147-4-33.ec2.internal.warc.wat.gz',\n",
        "  293396547),\n",
        " ('common-crawl/crawl-data/CC-MAIN-2014-15/segments/1397609521512.15/wat/CC-MAIN-20140416005201-00029-ip-10-147-4-33.ec2.internal.warc.wat.gz',\n",
        "  294643864),\n",
        " ('common-crawl/crawl-data/CC-MAIN-2014-15/segments/1397609521512.15/wat/CC-MAIN-20140416005201-00420-ip-10-147-4-33.ec2.internal.warc.wat.gz',\n",
        "  290987229),\n",
        " ('common-crawl/crawl-data/CC-MAIN-2014-15/segments/1397609521512.15/wat/CC-MAIN-20140416005201-00421-ip-10-147-4-33.ec2.internal.warc.wat.gz',\n",
        "  294352210),\n",
        " ('common-crawl/crawl-data/CC-MAIN-2014-15/segments/1397609521512.15/wat/CC-MAIN-20140416005201-00422-ip-10-147-4-33.ec2.internal.warc.wat.gz',\n",
        "  292798930),\n",
        " ('common-crawl/crawl-data/CC-MAIN-2014-15/segments/1397609521512.15/wat/CC-MAIN-20140416005201-00423-ip-10-147-4-33.ec2.internal.warc.wat.gz',\n",
        "  294744032),\n",
        " ('common-crawl/crawl-data/CC-MAIN-2014-15/segments/1397609521512.15/wat/CC-MAIN-20140416005201-00424-ip-10-147-4-33.ec2.internal.warc.wat.gz',\n",
        "  290809223),\n",
        " ('common-crawl/crawl-data/CC-MAIN-2014-15/segments/1397609521512.15/wat/CC-MAIN-20140416005201-00425-ip-10-147-4-33.ec2.internal.warc.wat.gz',\n",
        "  293186933),\n",
        " ('common-crawl/crawl-data/CC-MAIN-2014-15/segments/1397609521512.15/wat/CC-MAIN-20140416005201-00426-ip-10-147-4-33.ec2.internal.warc.wat.gz',\n",
        "  293225211),\n",
        " ('common-crawl/crawl-data/CC-MAIN-2014-15/segments/1397609521512.15/wat/CC-MAIN-20140416005201-00427-ip-10-147-4-33.ec2.internal.warc.wat.gz',\n",
        "  291085992),\n",
        " ('common-crawl/crawl-data/CC-MAIN-2014-15/segments/1397609521512.15/wat/CC-MAIN-20140416005201-00428-ip-10-147-4-33.ec2.internal.warc.wat.gz',\n",
        "  296282924),\n",
        " ('common-crawl/crawl-data/CC-MAIN-2014-15/segments/1397609521512.15/wat/CC-MAIN-20140416005201-00429-ip-10-147-4-33.ec2.internal.warc.wat.gz',\n",
        "  290350125),\n",
        " ('common-crawl/crawl-data/CC-MAIN-2014-15/segments/1397609521512.15/wat/CC-MAIN-20140416005201-00080-ip-10-147-4-33.ec2.internal.warc.wat.gz',\n",
        "  290939438),\n",
        " ('common-crawl/crawl-data/CC-MAIN-2014-15/segments/1397609521512.15/wat/CC-MAIN-20140416005201-00081-ip-10-147-4-33.ec2.internal.warc.wat.gz',\n",
        "  293131849),\n",
        " ('common-crawl/crawl-data/CC-MAIN-2014-15/segments/1397609521512.15/wat/CC-MAIN-20140416005201-00082-ip-10-147-4-33.ec2.internal.warc.wat.gz',\n",
        "  290876559),\n",
        " ('common-crawl/crawl-data/CC-MAIN-2014-15/segments/1397609521512.15/wat/CC-MAIN-20140416005201-00083-ip-10-147-4-33.ec2.internal.warc.wat.gz',\n",
        "  292261436),\n",
        " ('common-crawl/crawl-data/CC-MAIN-2014-15/segments/1397609521512.15/wat/CC-MAIN-20140416005201-00084-ip-10-147-4-33.ec2.internal.warc.wat.gz',\n",
        "  291531936),\n",
        " ('common-crawl/crawl-data/CC-MAIN-2014-15/segments/1397609521512.15/wat/CC-MAIN-20140416005201-00085-ip-10-147-4-33.ec2.internal.warc.wat.gz',\n",
        "  290800734),\n",
        " ('common-crawl/crawl-data/CC-MAIN-2014-15/segments/1397609521512.15/wat/CC-MAIN-20140416005201-00086-ip-10-147-4-33.ec2.internal.warc.wat.gz',\n",
        "  291909631),\n",
        " ('common-crawl/crawl-data/CC-MAIN-2014-15/segments/1397609521512.15/wat/CC-MAIN-20140416005201-00087-ip-10-147-4-33.ec2.internal.warc.wat.gz',\n",
        "  293681382),\n",
        " ('common-crawl/crawl-data/CC-MAIN-2014-15/segments/1397609521512.15/wat/CC-MAIN-20140416005201-00088-ip-10-147-4-33.ec2.internal.warc.wat.gz',\n",
        "  290038184),\n",
        " ('common-crawl/crawl-data/CC-MAIN-2014-15/segments/1397609521512.15/wat/CC-MAIN-20140416005201-00089-ip-10-147-4-33.ec2.internal.warc.wat.gz',\n",
        "  293110367),\n",
        " ('common-crawl/crawl-data/CC-MAIN-2014-15/segments/1397609521512.15/wat/CC-MAIN-20140416005201-00350-ip-10-147-4-33.ec2.internal.warc.wat.gz',\n",
        "  293447271),\n",
        " ('common-crawl/crawl-data/CC-MAIN-2014-15/segments/1397609521512.15/wat/CC-MAIN-20140416005201-00351-ip-10-147-4-33.ec2.internal.warc.wat.gz',\n",
        "  291380259),\n",
        " ('common-crawl/crawl-data/CC-MAIN-2014-15/segments/1397609521512.15/wat/CC-MAIN-20140416005201-00352-ip-10-147-4-33.ec2.internal.warc.wat.gz',\n",
        "  291700388),\n",
        " ('common-crawl/crawl-data/CC-MAIN-2014-15/segments/1397609521512.15/wat/CC-MAIN-20140416005201-00353-ip-10-147-4-33.ec2.internal.warc.wat.gz',\n",
        "  293747961),\n",
        " ('common-crawl/crawl-data/CC-MAIN-2014-15/segments/1397609521512.15/wat/CC-MAIN-20140416005201-00354-ip-10-147-4-33.ec2.internal.warc.wat.gz',\n",
        "  295452499),\n",
        " ('common-crawl/crawl-data/CC-MAIN-2014-15/segments/1397609521512.15/wat/CC-MAIN-20140416005201-00355-ip-10-147-4-33.ec2.internal.warc.wat.gz',\n",
        "  291986893),\n",
        " ('common-crawl/crawl-data/CC-MAIN-2014-15/segments/1397609521512.15/wat/CC-MAIN-20140416005201-00356-ip-10-147-4-33.ec2.internal.warc.wat.gz',\n",
        "  293008293),\n",
        " ('common-crawl/crawl-data/CC-MAIN-2014-15/segments/1397609521512.15/wat/CC-MAIN-20140416005201-00357-ip-10-147-4-33.ec2.internal.warc.wat.gz',\n",
        "  293701125),\n",
        " ('common-crawl/crawl-data/CC-MAIN-2014-15/segments/1397609521512.15/wat/CC-MAIN-20140416005201-00358-ip-10-147-4-33.ec2.internal.warc.wat.gz',\n",
        "  291306059),\n",
        " ('common-crawl/crawl-data/CC-MAIN-2014-15/segments/1397609521512.15/wat/CC-MAIN-20140416005201-00359-ip-10-147-4-33.ec2.internal.warc.wat.gz',\n",
        "  293129352),\n",
        " ('common-crawl/crawl-data/CC-MAIN-2014-15/segments/1397609521512.15/wat/CC-MAIN-20140416005201-00110-ip-10-147-4-33.ec2.internal.warc.wat.gz',\n",
        "  292771936),\n",
        " ('common-crawl/crawl-data/CC-MAIN-2014-15/segments/1397609521512.15/wat/CC-MAIN-20140416005201-00111-ip-10-147-4-33.ec2.internal.warc.wat.gz',\n",
        "  293487991),\n",
        " ('common-crawl/crawl-data/CC-MAIN-2014-15/segments/1397609521512.15/wat/CC-MAIN-20140416005201-00112-ip-10-147-4-33.ec2.internal.warc.wat.gz',\n",
        "  294289257),\n",
        " ('common-crawl/crawl-data/CC-MAIN-2014-15/segments/1397609521512.15/wat/CC-MAIN-20140416005201-00113-ip-10-147-4-33.ec2.internal.warc.wat.gz',\n",
        "  295196379),\n",
        " ('common-crawl/crawl-data/CC-MAIN-2014-15/segments/1397609521512.15/wat/CC-MAIN-20140416005201-00114-ip-10-147-4-33.ec2.internal.warc.wat.gz',\n",
        "  291261198),\n",
        " ('common-crawl/crawl-data/CC-MAIN-2014-15/segments/1397609521512.15/wat/CC-MAIN-20140416005201-00115-ip-10-147-4-33.ec2.internal.warc.wat.gz',\n",
        "  294465838),\n",
        " ('common-crawl/crawl-data/CC-MAIN-2014-15/segments/1397609521512.15/wat/CC-MAIN-20140416005201-00116-ip-10-147-4-33.ec2.internal.warc.wat.gz',\n",
        "  293411410),\n",
        " ('common-crawl/crawl-data/CC-MAIN-2014-15/segments/1397609521512.15/wat/CC-MAIN-20140416005201-00117-ip-10-147-4-33.ec2.internal.warc.wat.gz',\n",
        "  294625203),\n",
        " ('common-crawl/crawl-data/CC-MAIN-2014-15/segments/1397609521512.15/wat/CC-MAIN-20140416005201-00118-ip-10-147-4-33.ec2.internal.warc.wat.gz',\n",
        "  291387576),\n",
        " ('common-crawl/crawl-data/CC-MAIN-2014-15/segments/1397609521512.15/wat/CC-MAIN-20140416005201-00119-ip-10-147-4-33.ec2.internal.warc.wat.gz',\n",
        "  293466741),\n",
        " ('common-crawl/crawl-data/CC-MAIN-2014-15/segments/1397609521512.15/wat/CC-MAIN-20140416005201-00260-ip-10-147-4-33.ec2.internal.warc.wat.gz',\n",
        "  292408465),\n",
        " ('common-crawl/crawl-data/CC-MAIN-2014-15/segments/1397609521512.15/wat/CC-MAIN-20140416005201-00261-ip-10-147-4-33.ec2.internal.warc.wat.gz',\n",
        "  292492234),\n",
        " ('common-crawl/crawl-data/CC-MAIN-2014-15/segments/1397609521512.15/wat/CC-MAIN-20140416005201-00262-ip-10-147-4-33.ec2.internal.warc.wat.gz',\n",
        "  294798662),\n",
        " ('common-crawl/crawl-data/CC-MAIN-2014-15/segments/1397609521512.15/wat/CC-MAIN-20140416005201-00263-ip-10-147-4-33.ec2.internal.warc.wat.gz',\n",
        "  294337385),\n",
        " ('common-crawl/crawl-data/CC-MAIN-2014-15/segments/1397609521512.15/wat/CC-MAIN-20140416005201-00264-ip-10-147-4-33.ec2.internal.warc.wat.gz',\n",
        "  299165726),\n",
        " ('common-crawl/crawl-data/CC-MAIN-2014-15/segments/1397609521512.15/wat/CC-MAIN-20140416005201-00265-ip-10-147-4-33.ec2.internal.warc.wat.gz',\n",
        "  294480873),\n",
        " ('common-crawl/crawl-data/CC-MAIN-2014-15/segments/1397609521512.15/wat/CC-MAIN-20140416005201-00266-ip-10-147-4-33.ec2.internal.warc.wat.gz',\n",
        "  295815502),\n",
        " ('common-crawl/crawl-data/CC-MAIN-2014-15/segments/1397609521512.15/wat/CC-MAIN-20140416005201-00267-ip-10-147-4-33.ec2.internal.warc.wat.gz',\n",
        "  291391317),\n",
        " ('common-crawl/crawl-data/CC-MAIN-2014-15/segments/1397609521512.15/wat/CC-MAIN-20140416005201-00268-ip-10-147-4-33.ec2.internal.warc.wat.gz',\n",
        "  294720628),\n",
        " ('common-crawl/crawl-data/CC-MAIN-2014-15/segments/1397609521512.15/wat/CC-MAIN-20140416005201-00269-ip-10-147-4-33.ec2.internal.warc.wat.gz',\n",
        "  294093562),\n",
        " ('common-crawl/crawl-data/CC-MAIN-2014-15/segments/1397609521512.15/wat/CC-MAIN-20140416005201-00410-ip-10-147-4-33.ec2.internal.warc.wat.gz',\n",
        "  291163254),\n",
        " ('common-crawl/crawl-data/CC-MAIN-2014-15/segments/1397609521512.15/wat/CC-MAIN-20140416005201-00411-ip-10-147-4-33.ec2.internal.warc.wat.gz',\n",
        "  294821707),\n",
        " ('common-crawl/crawl-data/CC-MAIN-2014-15/segments/1397609521512.15/wat/CC-MAIN-20140416005201-00412-ip-10-147-4-33.ec2.internal.warc.wat.gz',\n",
        "  289384400),\n",
        " ('common-crawl/crawl-data/CC-MAIN-2014-15/segments/1397609521512.15/wat/CC-MAIN-20140416005201-00413-ip-10-147-4-33.ec2.internal.warc.wat.gz',\n",
        "  290995505),\n",
        " ('common-crawl/crawl-data/CC-MAIN-2014-15/segments/1397609521512.15/wat/CC-MAIN-20140416005201-00414-ip-10-147-4-33.ec2.internal.warc.wat.gz',\n",
        "  295244411),\n",
        " ('common-crawl/crawl-data/CC-MAIN-2014-15/segments/1397609521512.15/wat/CC-MAIN-20140416005201-00415-ip-10-147-4-33.ec2.internal.warc.wat.gz',\n",
        "  289902767),\n",
        " ('common-crawl/crawl-data/CC-MAIN-2014-15/segments/1397609521512.15/wat/CC-MAIN-20140416005201-00416-ip-10-147-4-33.ec2.internal.warc.wat.gz',\n",
        "  291309039),\n",
        " ('common-crawl/crawl-data/CC-MAIN-2014-15/segments/1397609521512.15/wat/CC-MAIN-20140416005201-00417-ip-10-147-4-33.ec2.internal.warc.wat.gz',\n",
        "  292584469),\n",
        " ('common-crawl/crawl-data/CC-MAIN-2014-15/segments/1397609521512.15/wat/CC-MAIN-20140416005201-00418-ip-10-147-4-33.ec2.internal.warc.wat.gz',\n",
        "  293037032),\n",
        " ('common-crawl/crawl-data/CC-MAIN-2014-15/segments/1397609521512.15/wat/CC-MAIN-20140416005201-00419-ip-10-147-4-33.ec2.internal.warc.wat.gz',\n",
        "  295462499),\n",
        " ('common-crawl/crawl-data/CC-MAIN-2014-15/segments/1397609521512.15/wat/CC-MAIN-20140416005201-00100-ip-10-147-4-33.ec2.internal.warc.wat.gz',\n",
        "  294795785),\n",
        " ('common-crawl/crawl-data/CC-MAIN-2014-15/segments/1397609521512.15/wat/CC-MAIN-20140416005201-00101-ip-10-147-4-33.ec2.internal.warc.wat.gz',\n",
        "  293580700),\n",
        " ('common-crawl/crawl-data/CC-MAIN-2014-15/segments/1397609521512.15/wat/CC-MAIN-20140416005201-00102-ip-10-147-4-33.ec2.internal.warc.wat.gz',\n",
        "  294714715),\n",
        " ('common-crawl/crawl-data/CC-MAIN-2014-15/segments/1397609521512.15/wat/CC-MAIN-20140416005201-00103-ip-10-147-4-33.ec2.internal.warc.wat.gz',\n",
        "  297420623),\n",
        " ('common-crawl/crawl-data/CC-MAIN-2014-15/segments/1397609521512.15/wat/CC-MAIN-20140416005201-00104-ip-10-147-4-33.ec2.internal.warc.wat.gz',\n",
        "  292422871),\n",
        " ('common-crawl/crawl-data/CC-MAIN-2014-15/segments/1397609521512.15/wat/CC-MAIN-20140416005201-00105-ip-10-147-4-33.ec2.internal.warc.wat.gz',\n",
        "  294332361),\n",
        " ('common-crawl/crawl-data/CC-MAIN-2014-15/segments/1397609521512.15/wat/CC-MAIN-20140416005201-00106-ip-10-147-4-33.ec2.internal.warc.wat.gz',\n",
        "  293621691),\n",
        " ('common-crawl/crawl-data/CC-MAIN-2014-15/segments/1397609521512.15/wat/CC-MAIN-20140416005201-00107-ip-10-147-4-33.ec2.internal.warc.wat.gz',\n",
        "  292340654),\n",
        " ('common-crawl/crawl-data/CC-MAIN-2014-15/segments/1397609521512.15/wat/CC-MAIN-20140416005201-00108-ip-10-147-4-33.ec2.internal.warc.wat.gz',\n",
        "  291830462),\n",
        " ('common-crawl/crawl-data/CC-MAIN-2014-15/segments/1397609521512.15/wat/CC-MAIN-20140416005201-00109-ip-10-147-4-33.ec2.internal.warc.wat.gz',\n",
        "  295709813),\n",
        " ('common-crawl/crawl-data/CC-MAIN-2014-15/segments/1397609521512.15/wat/CC-MAIN-20140416005201-00280-ip-10-147-4-33.ec2.internal.warc.wat.gz',\n",
        "  289967699),\n",
        " ('common-crawl/crawl-data/CC-MAIN-2014-15/segments/1397609521512.15/wat/CC-MAIN-20140416005201-00281-ip-10-147-4-33.ec2.internal.warc.wat.gz',\n",
        "  295735243),\n",
        " ('common-crawl/crawl-data/CC-MAIN-2014-15/segments/1397609521512.15/wat/CC-MAIN-20140416005201-00282-ip-10-147-4-33.ec2.internal.warc.wat.gz',\n",
        "  293528380),\n",
        " ('common-crawl/crawl-data/CC-MAIN-2014-15/segments/1397609521512.15/wat/CC-MAIN-20140416005201-00283-ip-10-147-4-33.ec2.internal.warc.wat.gz',\n",
        "  290713831),\n",
        " ('common-crawl/crawl-data/CC-MAIN-2014-15/segments/1397609521512.15/wat/CC-MAIN-20140416005201-00284-ip-10-147-4-33.ec2.internal.warc.wat.gz',\n",
        "  294930641),\n",
        " ('common-crawl/crawl-data/CC-MAIN-2014-15/segments/1397609521512.15/wat/CC-MAIN-20140416005201-00285-ip-10-147-4-33.ec2.internal.warc.wat.gz',\n",
        "  294454333),\n",
        " ('common-crawl/crawl-data/CC-MAIN-2014-15/segments/1397609521512.15/wat/CC-MAIN-20140416005201-00286-ip-10-147-4-33.ec2.internal.warc.wat.gz',\n",
        "  289821486),\n",
        " ('common-crawl/crawl-data/CC-MAIN-2014-15/segments/1397609521512.15/wat/CC-MAIN-20140416005201-00287-ip-10-147-4-33.ec2.internal.warc.wat.gz',\n",
        "  293939706),\n",
        " ('common-crawl/crawl-data/CC-MAIN-2014-15/segments/1397609521512.15/wat/CC-MAIN-20140416005201-00288-ip-10-147-4-33.ec2.internal.warc.wat.gz',\n",
        "  293343956),\n",
        " ('common-crawl/crawl-data/CC-MAIN-2014-15/segments/1397609521512.15/wat/CC-MAIN-20140416005201-00289-ip-10-147-4-33.ec2.internal.warc.wat.gz',\n",
        "  291458243),\n",
        " ('common-crawl/crawl-data/CC-MAIN-2014-15/segments/1397609521512.15/wat/CC-MAIN-20140416005201-00180-ip-10-147-4-33.ec2.internal.warc.wat.gz',\n",
        "  294509814),\n",
        " ('common-crawl/crawl-data/CC-MAIN-2014-15/segments/1397609521512.15/wat/CC-MAIN-20140416005201-00181-ip-10-147-4-33.ec2.internal.warc.wat.gz',\n",
        "  292197525),\n",
        " ('common-crawl/crawl-data/CC-MAIN-2014-15/segments/1397609521512.15/wat/CC-MAIN-20140416005201-00182-ip-10-147-4-33.ec2.internal.warc.wat.gz',\n",
        "  290078041),\n",
        " ('common-crawl/crawl-data/CC-MAIN-2014-15/segments/1397609521512.15/wat/CC-MAIN-20140416005201-00183-ip-10-147-4-33.ec2.internal.warc.wat.gz',\n",
        "  293962880),\n",
        " ('common-crawl/crawl-data/CC-MAIN-2014-15/segments/1397609521512.15/wat/CC-MAIN-20140416005201-00184-ip-10-147-4-33.ec2.internal.warc.wat.gz',\n",
        "  292423172),\n",
        " ('common-crawl/crawl-data/CC-MAIN-2014-15/segments/1397609521512.15/wat/CC-MAIN-20140416005201-00185-ip-10-147-4-33.ec2.internal.warc.wat.gz',\n",
        "  292101100),\n",
        " ('common-crawl/crawl-data/CC-MAIN-2014-15/segments/1397609521512.15/wat/CC-MAIN-20140416005201-00186-ip-10-147-4-33.ec2.internal.warc.wat.gz',\n",
        "  291388019),\n",
        " ('common-crawl/crawl-data/CC-MAIN-2014-15/segments/1397609521512.15/wat/CC-MAIN-20140416005201-00187-ip-10-147-4-33.ec2.internal.warc.wat.gz',\n",
        "  289795200),\n",
        " ('common-crawl/crawl-data/CC-MAIN-2014-15/segments/1397609521512.15/wat/CC-MAIN-20140416005201-00188-ip-10-147-4-33.ec2.internal.warc.wat.gz',\n",
        "  293353755),\n",
        " ('common-crawl/crawl-data/CC-MAIN-2014-15/segments/1397609521512.15/wat/CC-MAIN-20140416005201-00189-ip-10-147-4-33.ec2.internal.warc.wat.gz',\n",
        "  291926579),\n",
        " ('common-crawl/crawl-data/CC-MAIN-2014-15/segments/1397609521512.15/wat/CC-MAIN-20140416005201-00340-ip-10-147-4-33.ec2.internal.warc.wat.gz',\n",
        "  292833041),\n",
        " ('common-crawl/crawl-data/CC-MAIN-2014-15/segments/1397609521512.15/wat/CC-MAIN-20140416005201-00341-ip-10-147-4-33.ec2.internal.warc.wat.gz',\n",
        "  291432234),\n",
        " ('common-crawl/crawl-data/CC-MAIN-2014-15/segments/1397609521512.15/wat/CC-MAIN-20140416005201-00342-ip-10-147-4-33.ec2.internal.warc.wat.gz',\n",
        "  293332306),\n",
        " ('common-crawl/crawl-data/CC-MAIN-2014-15/segments/1397609521512.15/wat/CC-MAIN-20140416005201-00343-ip-10-147-4-33.ec2.internal.warc.wat.gz',\n",
        "  292656307),\n",
        " ('common-crawl/crawl-data/CC-MAIN-2014-15/segments/1397609521512.15/wat/CC-MAIN-20140416005201-00344-ip-10-147-4-33.ec2.internal.warc.wat.gz',\n",
        "  291025220),\n",
        " ('common-crawl/crawl-data/CC-MAIN-2014-15/segments/1397609521512.15/wat/CC-MAIN-20140416005201-00345-ip-10-147-4-33.ec2.internal.warc.wat.gz',\n",
        "  291353105),\n",
        " ('common-crawl/crawl-data/CC-MAIN-2014-15/segments/1397609521512.15/wat/CC-MAIN-20140416005201-00346-ip-10-147-4-33.ec2.internal.warc.wat.gz',\n",
        "  290609586),\n",
        " ('common-crawl/crawl-data/CC-MAIN-2014-15/segments/1397609521512.15/wat/CC-MAIN-20140416005201-00347-ip-10-147-4-33.ec2.internal.warc.wat.gz',\n",
        "  292674118),\n",
        " ('common-crawl/crawl-data/CC-MAIN-2014-15/segments/1397609521512.15/wat/CC-MAIN-20140416005201-00348-ip-10-147-4-33.ec2.internal.warc.wat.gz',\n",
        "  291995314),\n",
        " ('common-crawl/crawl-data/CC-MAIN-2014-15/segments/1397609521512.15/wat/CC-MAIN-20140416005201-00349-ip-10-147-4-33.ec2.internal.warc.wat.gz',\n",
        "  292457283),\n",
        " ('common-crawl/crawl-data/CC-MAIN-2014-15/segments/1397609521512.15/wat/CC-MAIN-20140416005201-00450-ip-10-147-4-33.ec2.internal.warc.wat.gz',\n",
        "  291189993),\n",
        " ('common-crawl/crawl-data/CC-MAIN-2014-15/segments/1397609521512.15/wat/CC-MAIN-20140416005201-00451-ip-10-147-4-33.ec2.internal.warc.wat.gz',\n",
        "  291019857),\n",
        " ('common-crawl/crawl-data/CC-MAIN-2014-15/segments/1397609521512.15/wat/CC-MAIN-20140416005201-00452-ip-10-147-4-33.ec2.internal.warc.wat.gz',\n",
        "  294423946),\n",
        " ('common-crawl/crawl-data/CC-MAIN-2014-15/segments/1397609521512.15/wat/CC-MAIN-20140416005201-00453-ip-10-147-4-33.ec2.internal.warc.wat.gz',\n",
        "  294265672),\n",
        " ('common-crawl/crawl-data/CC-MAIN-2014-15/segments/1397609521512.15/wat/CC-MAIN-20140416005201-00454-ip-10-147-4-33.ec2.internal.warc.wat.gz',\n",
        "  294599579),\n",
        " ('common-crawl/crawl-data/CC-MAIN-2014-15/segments/1397609521512.15/wat/CC-MAIN-20140416005201-00455-ip-10-147-4-33.ec2.internal.warc.wat.gz',\n",
        "  290873676),\n",
        " ('common-crawl/crawl-data/CC-MAIN-2014-15/segments/1397609521512.15/wat/CC-MAIN-20140416005201-00456-ip-10-147-4-33.ec2.internal.warc.wat.gz',\n",
        "  291529271),\n",
        " ('common-crawl/crawl-data/CC-MAIN-2014-15/segments/1397609521512.15/wat/CC-MAIN-20140416005201-00457-ip-10-147-4-33.ec2.internal.warc.wat.gz',\n",
        "  292332925),\n",
        " ('common-crawl/crawl-data/CC-MAIN-2014-15/segments/1397609521512.15/wat/CC-MAIN-20140416005201-00458-ip-10-147-4-33.ec2.internal.warc.wat.gz',\n",
        "  293829643),\n",
        " ('common-crawl/crawl-data/CC-MAIN-2014-15/segments/1397609521512.15/wat/CC-MAIN-20140416005201-00459-ip-10-147-4-33.ec2.internal.warc.wat.gz',\n",
        "  292331672),\n",
        " ('common-crawl/crawl-data/CC-MAIN-2014-15/segments/1397609521512.15/wat/CC-MAIN-20140416005201-00160-ip-10-147-4-33.ec2.internal.warc.wat.gz',\n",
        "  294456535),\n",
        " ('common-crawl/crawl-data/CC-MAIN-2014-15/segments/1397609521512.15/wat/CC-MAIN-20140416005201-00161-ip-10-147-4-33.ec2.internal.warc.wat.gz',\n",
        "  292643625),\n",
        " ('common-crawl/crawl-data/CC-MAIN-2014-15/segments/1397609521512.15/wat/CC-MAIN-20140416005201-00162-ip-10-147-4-33.ec2.internal.warc.wat.gz',\n",
        "  294050742),\n",
        " ('common-crawl/crawl-data/CC-MAIN-2014-15/segments/1397609521512.15/wat/CC-MAIN-20140416005201-00163-ip-10-147-4-33.ec2.internal.warc.wat.gz',\n",
        "  292144076),\n",
        " ('common-crawl/crawl-data/CC-MAIN-2014-15/segments/1397609521512.15/wat/CC-MAIN-20140416005201-00164-ip-10-147-4-33.ec2.internal.warc.wat.gz',\n",
        "  292425350),\n",
        " ('common-crawl/crawl-data/CC-MAIN-2014-15/segments/1397609521512.15/wat/CC-MAIN-20140416005201-00165-ip-10-147-4-33.ec2.internal.warc.wat.gz',\n",
        "  296734180),\n",
        " ('common-crawl/crawl-data/CC-MAIN-2014-15/segments/1397609521512.15/wat/CC-MAIN-20140416005201-00166-ip-10-147-4-33.ec2.internal.warc.wat.gz',\n",
        "  292607303),\n",
        " ('common-crawl/crawl-data/CC-MAIN-2014-15/segments/1397609521512.15/wat/CC-MAIN-20140416005201-00167-ip-10-147-4-33.ec2.internal.warc.wat.gz',\n",
        "  289666048),\n",
        " ('common-crawl/crawl-data/CC-MAIN-2014-15/segments/1397609521512.15/wat/CC-MAIN-20140416005201-00168-ip-10-147-4-33.ec2.internal.warc.wat.gz',\n",
        "  292298810),\n",
        " ('common-crawl/crawl-data/CC-MAIN-2014-15/segments/1397609521512.15/wat/CC-MAIN-20140416005201-00169-ip-10-147-4-33.ec2.internal.warc.wat.gz',\n",
        "  293285607),\n",
        " ('common-crawl/crawl-data/CC-MAIN-2014-15/segments/1397609521512.15/wat/CC-MAIN-20140416005201-00140-ip-10-147-4-33.ec2.internal.warc.wat.gz',\n",
        "  293376139),\n",
        " ('common-crawl/crawl-data/CC-MAIN-2014-15/segments/1397609521512.15/wat/CC-MAIN-20140416005201-00141-ip-10-147-4-33.ec2.internal.warc.wat.gz',\n",
        "  294210537),\n",
        " ('common-crawl/crawl-data/CC-MAIN-2014-15/segments/1397609521512.15/wat/CC-MAIN-20140416005201-00142-ip-10-147-4-33.ec2.internal.warc.wat.gz',\n",
        "  292678892),\n",
        " ('common-crawl/crawl-data/CC-MAIN-2014-15/segments/1397609521512.15/wat/CC-MAIN-20140416005201-00143-ip-10-147-4-33.ec2.internal.warc.wat.gz',\n",
        "  291450695),\n",
        " ('common-crawl/crawl-data/CC-MAIN-2014-15/segments/1397609521512.15/wat/CC-MAIN-20140416005201-00144-ip-10-147-4-33.ec2.internal.warc.wat.gz',\n",
        "  288486224),\n",
        " ('common-crawl/crawl-data/CC-MAIN-2014-15/segments/1397609521512.15/wat/CC-MAIN-20140416005201-00145-ip-10-147-4-33.ec2.internal.warc.wat.gz',\n",
        "  293323090),\n",
        " ('common-crawl/crawl-data/CC-MAIN-2014-15/segments/1397609521512.15/wat/CC-MAIN-20140416005201-00146-ip-10-147-4-33.ec2.internal.warc.wat.gz',\n",
        "  289751816),\n",
        " ('common-crawl/crawl-data/CC-MAIN-2014-15/segments/1397609521512.15/wat/CC-MAIN-20140416005201-00147-ip-10-147-4-33.ec2.internal.warc.wat.gz',\n",
        "  290087231),\n",
        " ('common-crawl/crawl-data/CC-MAIN-2014-15/segments/1397609521512.15/wat/CC-MAIN-20140416005201-00148-ip-10-147-4-33.ec2.internal.warc.wat.gz',\n",
        "  292120564),\n",
        " ('common-crawl/crawl-data/CC-MAIN-2014-15/segments/1397609521512.15/wat/CC-MAIN-20140416005201-00149-ip-10-147-4-33.ec2.internal.warc.wat.gz',\n",
        "  294631325),\n",
        " ('common-crawl/crawl-data/CC-MAIN-2014-15/segments/1397609521512.15/wat/CC-MAIN-20140416005201-00030-ip-10-147-4-33.ec2.internal.warc.wat.gz',\n",
        "  293031758),\n",
        " ('common-crawl/crawl-data/CC-MAIN-2014-15/segments/1397609521512.15/wat/CC-MAIN-20140416005201-00031-ip-10-147-4-33.ec2.internal.warc.wat.gz',\n",
        "  294623857),\n",
        " ('common-crawl/crawl-data/CC-MAIN-2014-15/segments/1397609521512.15/wat/CC-MAIN-20140416005201-00032-ip-10-147-4-33.ec2.internal.warc.wat.gz',\n",
        "  292050631),\n",
        " ('common-crawl/crawl-data/CC-MAIN-2014-15/segments/1397609521512.15/wat/CC-MAIN-20140416005201-00033-ip-10-147-4-33.ec2.internal.warc.wat.gz',\n",
        "  293635359),\n",
        " ('common-crawl/crawl-data/CC-MAIN-2014-15/segments/1397609521512.15/wat/CC-MAIN-20140416005201-00034-ip-10-147-4-33.ec2.internal.warc.wat.gz',\n",
        "  290840925),\n",
        " ('common-crawl/crawl-data/CC-MAIN-2014-15/segments/1397609521512.15/wat/CC-MAIN-20140416005201-00035-ip-10-147-4-33.ec2.internal.warc.wat.gz',\n",
        "  292604815),\n",
        " ('common-crawl/crawl-data/CC-MAIN-2014-15/segments/1397609521512.15/wat/CC-MAIN-20140416005201-00036-ip-10-147-4-33.ec2.internal.warc.wat.gz',\n",
        "  291961286),\n",
        " ('common-crawl/crawl-data/CC-MAIN-2014-15/segments/1397609521512.15/wat/CC-MAIN-20140416005201-00037-ip-10-147-4-33.ec2.internal.warc.wat.gz',\n",
        "  290262402),\n",
        " ('common-crawl/crawl-data/CC-MAIN-2014-15/segments/1397609521512.15/wat/CC-MAIN-20140416005201-00038-ip-10-147-4-33.ec2.internal.warc.wat.gz',\n",
        "  294296273),\n",
        " ('common-crawl/crawl-data/CC-MAIN-2014-15/segments/1397609521512.15/wat/CC-MAIN-20140416005201-00039-ip-10-147-4-33.ec2.internal.warc.wat.gz',\n",
        "  294036903),\n",
        " ('common-crawl/crawl-data/CC-MAIN-2014-15/segments/1397609521512.15/wat/CC-MAIN-20140416005201-00130-ip-10-147-4-33.ec2.internal.warc.wat.gz',\n",
        "  291836655),\n",
        " ('common-crawl/crawl-data/CC-MAIN-2014-15/segments/1397609521512.15/wat/CC-MAIN-20140416005201-00131-ip-10-147-4-33.ec2.internal.warc.wat.gz',\n",
        "  292250478),\n",
        " ('common-crawl/crawl-data/CC-MAIN-2014-15/segments/1397609521512.15/wat/CC-MAIN-20140416005201-00132-ip-10-147-4-33.ec2.internal.warc.wat.gz',\n",
        "  292306462),\n",
        " ('common-crawl/crawl-data/CC-MAIN-2014-15/segments/1397609521512.15/wat/CC-MAIN-20140416005201-00133-ip-10-147-4-33.ec2.internal.warc.wat.gz',\n",
        "  293036457),\n",
        " ('common-crawl/crawl-data/CC-MAIN-2014-15/segments/1397609521512.15/wat/CC-MAIN-20140416005201-00134-ip-10-147-4-33.ec2.internal.warc.wat.gz',\n",
        "  292650630),\n",
        " ('common-crawl/crawl-data/CC-MAIN-2014-15/segments/1397609521512.15/wat/CC-MAIN-20140416005201-00135-ip-10-147-4-33.ec2.internal.warc.wat.gz',\n",
        "  290932269),\n",
        " ('common-crawl/crawl-data/CC-MAIN-2014-15/segments/1397609521512.15/wat/CC-MAIN-20140416005201-00136-ip-10-147-4-33.ec2.internal.warc.wat.gz',\n",
        "  289655366),\n",
        " ('common-crawl/crawl-data/CC-MAIN-2014-15/segments/1397609521512.15/wat/CC-MAIN-20140416005201-00137-ip-10-147-4-33.ec2.internal.warc.wat.gz',\n",
        "  291524160),\n",
        " ('common-crawl/crawl-data/CC-MAIN-2014-15/segments/1397609521512.15/wat/CC-MAIN-20140416005201-00138-ip-10-147-4-33.ec2.internal.warc.wat.gz',\n",
        "  291868073),\n",
        " ('common-crawl/crawl-data/CC-MAIN-2014-15/segments/1397609521512.15/wat/CC-MAIN-20140416005201-00139-ip-10-147-4-33.ec2.internal.warc.wat.gz',\n",
        "  293306565),\n",
        " ('common-crawl/crawl-data/CC-MAIN-2014-15/segments/1397609521512.15/wat/CC-MAIN-20140416005201-00230-ip-10-147-4-33.ec2.internal.warc.wat.gz',\n",
        "  292546179),\n",
        " ('common-crawl/crawl-data/CC-MAIN-2014-15/segments/1397609521512.15/wat/CC-MAIN-20140416005201-00231-ip-10-147-4-33.ec2.internal.warc.wat.gz',\n",
        "  293445290),\n",
        " ('common-crawl/crawl-data/CC-MAIN-2014-15/segments/1397609521512.15/wat/CC-MAIN-20140416005201-00232-ip-10-147-4-33.ec2.internal.warc.wat.gz',\n",
        "  291001506),\n",
        " ('common-crawl/crawl-data/CC-MAIN-2014-15/segments/1397609521512.15/wat/CC-MAIN-20140416005201-00233-ip-10-147-4-33.ec2.internal.warc.wat.gz',\n",
        "  291459722),\n",
        " ('common-crawl/crawl-data/CC-MAIN-2014-15/segments/1397609521512.15/wat/CC-MAIN-20140416005201-00234-ip-10-147-4-33.ec2.internal.warc.wat.gz',\n",
        "  287326745),\n",
        " ('common-crawl/crawl-data/CC-MAIN-2014-15/segments/1397609521512.15/wat/CC-MAIN-20140416005201-00235-ip-10-147-4-33.ec2.internal.warc.wat.gz',\n",
        "  291994218),\n",
        " ('common-crawl/crawl-data/CC-MAIN-2014-15/segments/1397609521512.15/wat/CC-MAIN-20140416005201-00236-ip-10-147-4-33.ec2.internal.warc.wat.gz',\n",
        "  292045867),\n",
        " ('common-crawl/crawl-data/CC-MAIN-2014-15/segments/1397609521512.15/wat/CC-MAIN-20140416005201-00237-ip-10-147-4-33.ec2.internal.warc.wat.gz',\n",
        "  291418496),\n",
        " ('common-crawl/crawl-data/CC-MAIN-2014-15/segments/1397609521512.15/wat/CC-MAIN-20140416005201-00238-ip-10-147-4-33.ec2.internal.warc.wat.gz',\n",
        "  291931300),\n",
        " ('common-crawl/crawl-data/CC-MAIN-2014-15/segments/1397609521512.15/wat/CC-MAIN-20140416005201-00239-ip-10-147-4-33.ec2.internal.warc.wat.gz',\n",
        "  293127753),\n",
        " ('common-crawl/crawl-data/CC-MAIN-2014-15/segments/1397609521512.15/wat/CC-MAIN-20140416005201-00370-ip-10-147-4-33.ec2.internal.warc.wat.gz',\n",
        "  293653260),\n",
        " ('common-crawl/crawl-data/CC-MAIN-2014-15/segments/1397609521512.15/wat/CC-MAIN-20140416005201-00371-ip-10-147-4-33.ec2.internal.warc.wat.gz',\n",
        "  292907239),\n",
        " ('common-crawl/crawl-data/CC-MAIN-2014-15/segments/1397609521512.15/wat/CC-MAIN-20140416005201-00372-ip-10-147-4-33.ec2.internal.warc.wat.gz',\n",
        "  291743580),\n",
        " ('common-crawl/crawl-data/CC-MAIN-2014-15/segments/1397609521512.15/wat/CC-MAIN-20140416005201-00373-ip-10-147-4-33.ec2.internal.warc.wat.gz',\n",
        "  293869096),\n",
        " ('common-crawl/crawl-data/CC-MAIN-2014-15/segments/1397609521512.15/wat/CC-MAIN-20140416005201-00374-ip-10-147-4-33.ec2.internal.warc.wat.gz',\n",
        "  293380328),\n",
        " ('common-crawl/crawl-data/CC-MAIN-2014-15/segments/1397609521512.15/wat/CC-MAIN-20140416005201-00375-ip-10-147-4-33.ec2.internal.warc.wat.gz',\n",
        "  294736441),\n",
        " ('common-crawl/crawl-data/CC-MAIN-2014-15/segments/1397609521512.15/wat/CC-MAIN-20140416005201-00376-ip-10-147-4-33.ec2.internal.warc.wat.gz',\n",
        "  291209174),\n",
        " ('common-crawl/crawl-data/CC-MAIN-2014-15/segments/1397609521512.15/wat/CC-MAIN-20140416005201-00377-ip-10-147-4-33.ec2.internal.warc.wat.gz',\n",
        "  295827246),\n",
        " ('common-crawl/crawl-data/CC-MAIN-2014-15/segments/1397609521512.15/wat/CC-MAIN-20140416005201-00378-ip-10-147-4-33.ec2.internal.warc.wat.gz',\n",
        "  294054985),\n",
        " ('common-crawl/crawl-data/CC-MAIN-2014-15/segments/1397609521512.15/wat/CC-MAIN-20140416005201-00379-ip-10-147-4-33.ec2.internal.warc.wat.gz',\n",
        "  293704957),\n",
        " ('common-crawl/crawl-data/CC-MAIN-2014-15/segments/1397609521512.15/wat/CC-MAIN-20140416005201-00380-ip-10-147-4-33.ec2.internal.warc.wat.gz',\n",
        "  291984509),\n",
        " ('common-crawl/crawl-data/CC-MAIN-2014-15/segments/1397609521512.15/wat/CC-MAIN-20140416005201-00381-ip-10-147-4-33.ec2.internal.warc.wat.gz',\n",
        "  294342665),\n",
        " ('common-crawl/crawl-data/CC-MAIN-2014-15/segments/1397609521512.15/wat/CC-MAIN-20140416005201-00382-ip-10-147-4-33.ec2.internal.warc.wat.gz',\n",
        "  291261175),\n",
        " ('common-crawl/crawl-data/CC-MAIN-2014-15/segments/1397609521512.15/wat/CC-MAIN-20140416005201-00383-ip-10-147-4-33.ec2.internal.warc.wat.gz',\n",
        "  290780234),\n",
        " ('common-crawl/crawl-data/CC-MAIN-2014-15/segments/1397609521512.15/wat/CC-MAIN-20140416005201-00384-ip-10-147-4-33.ec2.internal.warc.wat.gz',\n",
        "  293415143),\n",
        " ('common-crawl/crawl-data/CC-MAIN-2014-15/segments/1397609521512.15/wat/CC-MAIN-20140416005201-00385-ip-10-147-4-33.ec2.internal.warc.wat.gz',\n",
        "  296146700),\n",
        " ('common-crawl/crawl-data/CC-MAIN-2014-15/segments/1397609521512.15/wat/CC-MAIN-20140416005201-00386-ip-10-147-4-33.ec2.internal.warc.wat.gz',\n",
        "  295039633),\n",
        " ('common-crawl/crawl-data/CC-MAIN-2014-15/segments/1397609521512.15/wat/CC-MAIN-20140416005201-00387-ip-10-147-4-33.ec2.internal.warc.wat.gz',\n",
        "  293953314),\n",
        " ('common-crawl/crawl-data/CC-MAIN-2014-15/segments/1397609521512.15/wat/CC-MAIN-20140416005201-00388-ip-10-147-4-33.ec2.internal.warc.wat.gz',\n",
        "  292586151),\n",
        " ('common-crawl/crawl-data/CC-MAIN-2014-15/segments/1397609521512.15/wat/CC-MAIN-20140416005201-00389-ip-10-147-4-33.ec2.internal.warc.wat.gz',\n",
        "  292695203),\n",
        " ('common-crawl/crawl-data/CC-MAIN-2014-15/segments/1397609521512.15/wat/CC-MAIN-20140416005201-00060-ip-10-147-4-33.ec2.internal.warc.wat.gz',\n",
        "  290960673),\n",
        " ('common-crawl/crawl-data/CC-MAIN-2014-15/segments/1397609521512.15/wat/CC-MAIN-20140416005201-00061-ip-10-147-4-33.ec2.internal.warc.wat.gz',\n",
        "  289829555),\n",
        " ('common-crawl/crawl-data/CC-MAIN-2014-15/segments/1397609521512.15/wat/CC-MAIN-20140416005201-00062-ip-10-147-4-33.ec2.internal.warc.wat.gz',\n",
        "  290759751),\n",
        " ('common-crawl/crawl-data/CC-MAIN-2014-15/segments/1397609521512.15/wat/CC-MAIN-20140416005201-00063-ip-10-147-4-33.ec2.internal.warc.wat.gz',\n",
        "  292569792),\n",
        " ('common-crawl/crawl-data/CC-MAIN-2014-15/segments/1397609521512.15/wat/CC-MAIN-20140416005201-00064-ip-10-147-4-33.ec2.internal.warc.wat.gz',\n",
        "  291654095),\n",
        " ('common-crawl/crawl-data/CC-MAIN-2014-15/segments/1397609521512.15/wat/CC-MAIN-20140416005201-00065-ip-10-147-4-33.ec2.internal.warc.wat.gz',\n",
        "  295253893),\n",
        " ('common-crawl/crawl-data/CC-MAIN-2014-15/segments/1397609521512.15/wat/CC-MAIN-20140416005201-00066-ip-10-147-4-33.ec2.internal.warc.wat.gz',\n",
        "  293989144),\n",
        " ('common-crawl/crawl-data/CC-MAIN-2014-15/segments/1397609521512.15/wat/CC-MAIN-20140416005201-00067-ip-10-147-4-33.ec2.internal.warc.wat.gz',\n",
        "  293213510),\n",
        " ('common-crawl/crawl-data/CC-MAIN-2014-15/segments/1397609521512.15/wat/CC-MAIN-20140416005201-00068-ip-10-147-4-33.ec2.internal.warc.wat.gz',\n",
        "  288848374),\n",
        " ('common-crawl/crawl-data/CC-MAIN-2014-15/segments/1397609521512.15/wat/CC-MAIN-20140416005201-00069-ip-10-147-4-33.ec2.internal.warc.wat.gz',\n",
        "  292288788),\n",
        " ('common-crawl/crawl-data/CC-MAIN-2014-15/segments/1397609521512.15/wat/CC-MAIN-20140416005201-00440-ip-10-147-4-33.ec2.internal.warc.wat.gz',\n",
        "  292376199),\n",
        " ('common-crawl/crawl-data/CC-MAIN-2014-15/segments/1397609521512.15/wat/CC-MAIN-20140416005201-00441-ip-10-147-4-33.ec2.internal.warc.wat.gz',\n",
        "  293965180),\n",
        " ('common-crawl/crawl-data/CC-MAIN-2014-15/segments/1397609521512.15/wat/CC-MAIN-20140416005201-00442-ip-10-147-4-33.ec2.internal.warc.wat.gz',\n",
        "  291718606),\n",
        " ('common-crawl/crawl-data/CC-MAIN-2014-15/segments/1397609521512.15/wat/CC-MAIN-20140416005201-00443-ip-10-147-4-33.ec2.internal.warc.wat.gz',\n",
        "  291200613),\n",
        " ('common-crawl/crawl-data/CC-MAIN-2014-15/segments/1397609521512.15/wat/CC-MAIN-20140416005201-00444-ip-10-147-4-33.ec2.internal.warc.wat.gz',\n",
        "  291926561),\n",
        " ('common-crawl/crawl-data/CC-MAIN-2014-15/segments/1397609521512.15/wat/CC-MAIN-20140416005201-00445-ip-10-147-4-33.ec2.internal.warc.wat.gz',\n",
        "  293388171),\n",
        " ('common-crawl/crawl-data/CC-MAIN-2014-15/segments/1397609521512.15/wat/CC-MAIN-20140416005201-00446-ip-10-147-4-33.ec2.internal.warc.wat.gz',\n",
        "  291916269),\n",
        " ('common-crawl/crawl-data/CC-MAIN-2014-15/segments/1397609521512.15/wat/CC-MAIN-20140416005201-00447-ip-10-147-4-33.ec2.internal.warc.wat.gz',\n",
        "  291712931),\n",
        " ('common-crawl/crawl-data/CC-MAIN-2014-15/segments/1397609521512.15/wat/CC-MAIN-20140416005201-00448-ip-10-147-4-33.ec2.internal.warc.wat.gz',\n",
        "  295237363),\n",
        " ('common-crawl/crawl-data/CC-MAIN-2014-15/segments/1397609521512.15/wat/CC-MAIN-20140416005201-00449-ip-10-147-4-33.ec2.internal.warc.wat.gz',\n",
        "  295626197),\n",
        " ('common-crawl/crawl-data/CC-MAIN-2014-15/segments/1397609521512.15/wat/CC-MAIN-20140416005201-00040-ip-10-147-4-33.ec2.internal.warc.wat.gz',\n",
        "  293120041),\n",
        " ('common-crawl/crawl-data/CC-MAIN-2014-15/segments/1397609521512.15/wat/CC-MAIN-20140416005201-00041-ip-10-147-4-33.ec2.internal.warc.wat.gz',\n",
        "  291534479),\n",
        " ('common-crawl/crawl-data/CC-MAIN-2014-15/segments/1397609521512.15/wat/CC-MAIN-20140416005201-00042-ip-10-147-4-33.ec2.internal.warc.wat.gz',\n",
        "  289695228),\n",
        " ('common-crawl/crawl-data/CC-MAIN-2014-15/segments/1397609521512.15/wat/CC-MAIN-20140416005201-00043-ip-10-147-4-33.ec2.internal.warc.wat.gz',\n",
        "  293732300),\n",
        " ('common-crawl/crawl-data/CC-MAIN-2014-15/segments/1397609521512.15/wat/CC-MAIN-20140416005201-00044-ip-10-147-4-33.ec2.internal.warc.wat.gz',\n",
        "  292272265),\n",
        " ('common-crawl/crawl-data/CC-MAIN-2014-15/segments/1397609521512.15/wat/CC-MAIN-20140416005201-00045-ip-10-147-4-33.ec2.internal.warc.wat.gz',\n",
        "  294602425),\n",
        " ('common-crawl/crawl-data/CC-MAIN-2014-15/segments/1397609521512.15/wat/CC-MAIN-20140416005201-00046-ip-10-147-4-33.ec2.internal.warc.wat.gz',\n",
        "  294989710),\n",
        " ('common-crawl/crawl-data/CC-MAIN-2014-15/segments/1397609521512.15/wat/CC-MAIN-20140416005201-00047-ip-10-147-4-33.ec2.internal.warc.wat.gz',\n",
        "  290646580),\n",
        " ('common-crawl/crawl-data/CC-MAIN-2014-15/segments/1397609521512.15/wat/CC-MAIN-20140416005201-00048-ip-10-147-4-33.ec2.internal.warc.wat.gz',\n",
        "  290296978),\n",
        " ('common-crawl/crawl-data/CC-MAIN-2014-15/segments/1397609521512.15/wat/CC-MAIN-20140416005201-00049-ip-10-147-4-33.ec2.internal.warc.wat.gz',\n",
        "  291819375),\n",
        " ('common-crawl/crawl-data/CC-MAIN-2014-15/segments/1397609521512.15/wat/CC-MAIN-20140416005201-00120-ip-10-147-4-33.ec2.internal.warc.wat.gz',\n",
        "  294426344),\n",
        " ('common-crawl/crawl-data/CC-MAIN-2014-15/segments/1397609521512.15/wat/CC-MAIN-20140416005201-00121-ip-10-147-4-33.ec2.internal.warc.wat.gz',\n",
        "  292074237),\n",
        " ('common-crawl/crawl-data/CC-MAIN-2014-15/segments/1397609521512.15/wat/CC-MAIN-20140416005201-00122-ip-10-147-4-33.ec2.internal.warc.wat.gz',\n",
        "  290612570),\n",
        " ('common-crawl/crawl-data/CC-MAIN-2014-15/segments/1397609521512.15/wat/CC-MAIN-20140416005201-00123-ip-10-147-4-33.ec2.internal.warc.wat.gz',\n",
        "  290472560),\n",
        " ('common-crawl/crawl-data/CC-MAIN-2014-15/segments/1397609521512.15/wat/CC-MAIN-20140416005201-00124-ip-10-147-4-33.ec2.internal.warc.wat.gz',\n",
        "  293745383),\n",
        " ('common-crawl/crawl-data/CC-MAIN-2014-15/segments/1397609521512.15/wat/CC-MAIN-20140416005201-00125-ip-10-147-4-33.ec2.internal.warc.wat.gz',\n",
        "  292936852),\n",
        " ('common-crawl/crawl-data/CC-MAIN-2014-15/segments/1397609521512.15/wat/CC-MAIN-20140416005201-00126-ip-10-147-4-33.ec2.internal.warc.wat.gz',\n",
        "  294326422),\n",
        " ('common-crawl/crawl-data/CC-MAIN-2014-15/segments/1397609521512.15/wat/CC-MAIN-20140416005201-00127-ip-10-147-4-33.ec2.internal.warc.wat.gz',\n",
        "  291619899),\n",
        " ('common-crawl/crawl-data/CC-MAIN-2014-15/segments/1397609521512.15/wat/CC-MAIN-20140416005201-00128-ip-10-147-4-33.ec2.internal.warc.wat.gz',\n",
        "  294728606),\n",
        " ('common-crawl/crawl-data/CC-MAIN-2014-15/segments/1397609521512.15/wat/CC-MAIN-20140416005201-00129-ip-10-147-4-33.ec2.internal.warc.wat.gz',\n",
        "  294303281),\n",
        " ('common-crawl/crawl-data/CC-MAIN-2014-15/segments/1397609521512.15/wat/CC-MAIN-20140416005201-00430-ip-10-147-4-33.ec2.internal.warc.wat.gz',\n",
        "  294524552),\n",
        " ('common-crawl/crawl-data/CC-MAIN-2014-15/segments/1397609521512.15/wat/CC-MAIN-20140416005201-00431-ip-10-147-4-33.ec2.internal.warc.wat.gz',\n",
        "  293317557),\n",
        " ('common-crawl/crawl-data/CC-MAIN-2014-15/segments/1397609521512.15/wat/CC-MAIN-20140416005201-00432-ip-10-147-4-33.ec2.internal.warc.wat.gz',\n",
        "  294515158),\n",
        " ('common-crawl/crawl-data/CC-MAIN-2014-15/segments/1397609521512.15/wat/CC-MAIN-20140416005201-00433-ip-10-147-4-33.ec2.internal.warc.wat.gz',\n",
        "  295017279),\n",
        " ('common-crawl/crawl-data/CC-MAIN-2014-15/segments/1397609521512.15/wat/CC-MAIN-20140416005201-00434-ip-10-147-4-33.ec2.internal.warc.wat.gz',\n",
        "  293314113),\n",
        " ('common-crawl/crawl-data/CC-MAIN-2014-15/segments/1397609521512.15/wat/CC-MAIN-20140416005201-00435-ip-10-147-4-33.ec2.internal.warc.wat.gz',\n",
        "  294625785),\n",
        " ('common-crawl/crawl-data/CC-MAIN-2014-15/segments/1397609521512.15/wat/CC-MAIN-20140416005201-00436-ip-10-147-4-33.ec2.internal.warc.wat.gz',\n",
        "  292944359),\n",
        " ('common-crawl/crawl-data/CC-MAIN-2014-15/segments/1397609521512.15/wat/CC-MAIN-20140416005201-00437-ip-10-147-4-33.ec2.internal.warc.wat.gz',\n",
        "  290776476),\n",
        " ('common-crawl/crawl-data/CC-MAIN-2014-15/segments/1397609521512.15/wat/CC-MAIN-20140416005201-00438-ip-10-147-4-33.ec2.internal.warc.wat.gz',\n",
        "  291985390),\n",
        " ('common-crawl/crawl-data/CC-MAIN-2014-15/segments/1397609521512.15/wat/CC-MAIN-20140416005201-00439-ip-10-147-4-33.ec2.internal.warc.wat.gz',\n",
        "  297448339),\n",
        " ('common-crawl/crawl-data/CC-MAIN-2014-15/segments/1397609521512.15/wat/CC-MAIN-20140416005201-00470-ip-10-147-4-33.ec2.internal.warc.wat.gz',\n",
        "  294522325),\n",
        " ('common-crawl/crawl-data/CC-MAIN-2014-15/segments/1397609521512.15/wat/CC-MAIN-20140416005201-00471-ip-10-147-4-33.ec2.internal.warc.wat.gz',\n",
        "  292519319),\n",
        " ('common-crawl/crawl-data/CC-MAIN-2014-15/segments/1397609521512.15/wat/CC-MAIN-20140416005201-00472-ip-10-147-4-33.ec2.internal.warc.wat.gz',\n",
        "  294735607),\n",
        " ('common-crawl/crawl-data/CC-MAIN-2014-15/segments/1397609521512.15/wat/CC-MAIN-20140416005201-00473-ip-10-147-4-33.ec2.internal.warc.wat.gz',\n",
        "  293915843),\n",
        " ('common-crawl/crawl-data/CC-MAIN-2014-15/segments/1397609521512.15/wat/CC-MAIN-20140416005201-00474-ip-10-147-4-33.ec2.internal.warc.wat.gz',\n",
        "  296392696),\n",
        " ('common-crawl/crawl-data/CC-MAIN-2014-15/segments/1397609521512.15/wat/CC-MAIN-20140416005201-00475-ip-10-147-4-33.ec2.internal.warc.wat.gz',\n",
        "  293816690),\n",
        " ('common-crawl/crawl-data/CC-MAIN-2014-15/segments/1397609521512.15/wat/CC-MAIN-20140416005201-00476-ip-10-147-4-33.ec2.internal.warc.wat.gz',\n",
        "  292492189),\n",
        " ('common-crawl/crawl-data/CC-MAIN-2014-15/segments/1397609521512.15/wat/CC-MAIN-20140416005201-00477-ip-10-147-4-33.ec2.internal.warc.wat.gz',\n",
        "  293267707),\n",
        " ('common-crawl/crawl-data/CC-MAIN-2014-15/segments/1397609521512.15/wat/CC-MAIN-20140416005201-00478-ip-10-147-4-33.ec2.internal.warc.wat.gz',\n",
        "  291310172),\n",
        " ('common-crawl/crawl-data/CC-MAIN-2014-15/segments/1397609521512.15/wat/CC-MAIN-20140416005201-00479-ip-10-147-4-33.ec2.internal.warc.wat.gz',\n",
        "  291954352),\n",
        " ('common-crawl/crawl-data/CC-MAIN-2014-15/segments/1397609521512.15/wat/CC-MAIN-20140416005201-00330-ip-10-147-4-33.ec2.internal.warc.wat.gz',\n",
        "  294511795),\n",
        " ('common-crawl/crawl-data/CC-MAIN-2014-15/segments/1397609521512.15/wat/CC-MAIN-20140416005201-00331-ip-10-147-4-33.ec2.internal.warc.wat.gz',\n",
        "  295365964),\n",
        " ('common-crawl/crawl-data/CC-MAIN-2014-15/segments/1397609521512.15/wat/CC-MAIN-20140416005201-00332-ip-10-147-4-33.ec2.internal.warc.wat.gz',\n",
        "  293738522),\n",
        " ('common-crawl/crawl-data/CC-MAIN-2014-15/segments/1397609521512.15/wat/CC-MAIN-20140416005201-00333-ip-10-147-4-33.ec2.internal.warc.wat.gz',\n",
        "  291989762),\n",
        " ('common-crawl/crawl-data/CC-MAIN-2014-15/segments/1397609521512.15/wat/CC-MAIN-20140416005201-00334-ip-10-147-4-33.ec2.internal.warc.wat.gz',\n",
        "  294938287),\n",
        " ('common-crawl/crawl-data/CC-MAIN-2014-15/segments/1397609521512.15/wat/CC-MAIN-20140416005201-00335-ip-10-147-4-33.ec2.internal.warc.wat.gz',\n",
        "  294027490),\n",
        " ('common-crawl/crawl-data/CC-MAIN-2014-15/segments/1397609521512.15/wat/CC-MAIN-20140416005201-00336-ip-10-147-4-33.ec2.internal.warc.wat.gz',\n",
        "  291378879),\n",
        " ('common-crawl/crawl-data/CC-MAIN-2014-15/segments/1397609521512.15/wat/CC-MAIN-20140416005201-00337-ip-10-147-4-33.ec2.internal.warc.wat.gz',\n",
        "  293165321),\n",
        " ('common-crawl/crawl-data/CC-MAIN-2014-15/segments/1397609521512.15/wat/CC-MAIN-20140416005201-00338-ip-10-147-4-33.ec2.internal.warc.wat.gz',\n",
        "  294344376),\n",
        " ('common-crawl/crawl-data/CC-MAIN-2014-15/segments/1397609521512.15/wat/CC-MAIN-20140416005201-00339-ip-10-147-4-33.ec2.internal.warc.wat.gz',\n",
        "  293562146),\n",
        " ('common-crawl/crawl-data/CC-MAIN-2014-15/segments/1397609521512.15/wat/CC-MAIN-20140416005201-00250-ip-10-147-4-33.ec2.internal.warc.wat.gz',\n",
        "  293895378),\n",
        " ('common-crawl/crawl-data/CC-MAIN-2014-15/segments/1397609521512.15/wat/CC-MAIN-20140416005201-00251-ip-10-147-4-33.ec2.internal.warc.wat.gz',\n",
        "  287459840),\n",
        " ('common-crawl/crawl-data/CC-MAIN-2014-15/segments/1397609521512.15/wat/CC-MAIN-20140416005201-00252-ip-10-147-4-33.ec2.internal.warc.wat.gz',\n",
        "  293503345),\n",
        " ('common-crawl/crawl-data/CC-MAIN-2014-15/segments/1397609521512.15/wat/CC-MAIN-20140416005201-00253-ip-10-147-4-33.ec2.internal.warc.wat.gz',\n",
        "  294269329),\n",
        " ('common-crawl/crawl-data/CC-MAIN-2014-15/segments/1397609521512.15/wat/CC-MAIN-20140416005201-00254-ip-10-147-4-33.ec2.internal.warc.wat.gz',\n",
        "  294625555),\n",
        " ('common-crawl/crawl-data/CC-MAIN-2014-15/segments/1397609521512.15/wat/CC-MAIN-20140416005201-00255-ip-10-147-4-33.ec2.internal.warc.wat.gz',\n",
        "  292111439),\n",
        " ('common-crawl/crawl-data/CC-MAIN-2014-15/segments/1397609521512.15/wat/CC-MAIN-20140416005201-00256-ip-10-147-4-33.ec2.internal.warc.wat.gz',\n",
        "  292772440),\n",
        " ('common-crawl/crawl-data/CC-MAIN-2014-15/segments/1397609521512.15/wat/CC-MAIN-20140416005201-00257-ip-10-147-4-33.ec2.internal.warc.wat.gz',\n",
        "  293404509),\n",
        " ('common-crawl/crawl-data/CC-MAIN-2014-15/segments/1397609521512.15/wat/CC-MAIN-20140416005201-00258-ip-10-147-4-33.ec2.internal.warc.wat.gz',\n",
        "  293250920),\n",
        " ('common-crawl/crawl-data/CC-MAIN-2014-15/segments/1397609521512.15/wat/CC-MAIN-20140416005201-00259-ip-10-147-4-33.ec2.internal.warc.wat.gz',\n",
        "  295128727),\n",
        " ('common-crawl/crawl-data/CC-MAIN-2014-15/segments/1397609521512.15/wat/CC-MAIN-20140416005201-00320-ip-10-147-4-33.ec2.internal.warc.wat.gz',\n",
        "  293634598),\n",
        " ('common-crawl/crawl-data/CC-MAIN-2014-15/segments/1397609521512.15/wat/CC-MAIN-20140416005201-00321-ip-10-147-4-33.ec2.internal.warc.wat.gz',\n",
        "  294207489),\n",
        " ('common-crawl/crawl-data/CC-MAIN-2014-15/segments/1397609521512.15/wat/CC-MAIN-20140416005201-00322-ip-10-147-4-33.ec2.internal.warc.wat.gz',\n",
        "  293317940),\n",
        " ('common-crawl/crawl-data/CC-MAIN-2014-15/segments/1397609521512.15/wat/CC-MAIN-20140416005201-00323-ip-10-147-4-33.ec2.internal.warc.wat.gz',\n",
        "  294688828),\n",
        " ('common-crawl/crawl-data/CC-MAIN-2014-15/segments/1397609521512.15/wat/CC-MAIN-20140416005201-00324-ip-10-147-4-33.ec2.internal.warc.wat.gz',\n",
        "  295900943),\n",
        " ('common-crawl/crawl-data/CC-MAIN-2014-15/segments/1397609521512.15/wat/CC-MAIN-20140416005201-00325-ip-10-147-4-33.ec2.internal.warc.wat.gz',\n",
        "  294539795),\n",
        " ('common-crawl/crawl-data/CC-MAIN-2014-15/segments/1397609521512.15/wat/CC-MAIN-20140416005201-00326-ip-10-147-4-33.ec2.internal.warc.wat.gz',\n",
        "  289498747),\n",
        " ('common-crawl/crawl-data/CC-MAIN-2014-15/segments/1397609521512.15/wat/CC-MAIN-20140416005201-00327-ip-10-147-4-33.ec2.internal.warc.wat.gz',\n",
        "  290754493),\n",
        " ('common-crawl/crawl-data/CC-MAIN-2014-15/segments/1397609521512.15/wat/CC-MAIN-20140416005201-00328-ip-10-147-4-33.ec2.internal.warc.wat.gz',\n",
        "  292697428),\n",
        " ('common-crawl/crawl-data/CC-MAIN-2014-15/segments/1397609521512.15/wat/CC-MAIN-20140416005201-00329-ip-10-147-4-33.ec2.internal.warc.wat.gz',\n",
        "  292985972),\n",
        " ('common-crawl/crawl-data/CC-MAIN-2014-15/segments/1397609521512.15/wat/CC-MAIN-20140416005201-00000-ip-10-147-4-33.ec2.internal.warc.wat.gz',\n",
        "  291634176),\n",
        " ('common-crawl/crawl-data/CC-MAIN-2014-15/segments/1397609521512.15/wat/CC-MAIN-20140416005201-00001-ip-10-147-4-33.ec2.internal.warc.wat.gz',\n",
        "  291375568),\n",
        " ('common-crawl/crawl-data/CC-MAIN-2014-15/segments/1397609521512.15/wat/CC-MAIN-20140416005201-00002-ip-10-147-4-33.ec2.internal.warc.wat.gz',\n",
        "  291754976),\n",
        " ('common-crawl/crawl-data/CC-MAIN-2014-15/segments/1397609521512.15/wat/CC-MAIN-20140416005201-00003-ip-10-147-4-33.ec2.internal.warc.wat.gz',\n",
        "  291264352),\n",
        " ('common-crawl/crawl-data/CC-MAIN-2014-15/segments/1397609521512.15/wat/CC-MAIN-20140416005201-00004-ip-10-147-4-33.ec2.internal.warc.wat.gz',\n",
        "  291232626),\n",
        " ('common-crawl/crawl-data/CC-MAIN-2014-15/segments/1397609521512.15/wat/CC-MAIN-20140416005201-00005-ip-10-147-4-33.ec2.internal.warc.wat.gz',\n",
        "  293381508),\n",
        " ('common-crawl/crawl-data/CC-MAIN-2014-15/segments/1397609521512.15/wat/CC-MAIN-20140416005201-00006-ip-10-147-4-33.ec2.internal.warc.wat.gz',\n",
        "  291630699),\n",
        " ('common-crawl/crawl-data/CC-MAIN-2014-15/segments/1397609521512.15/wat/CC-MAIN-20140416005201-00007-ip-10-147-4-33.ec2.internal.warc.wat.gz',\n",
        "  291719098),\n",
        " ('common-crawl/crawl-data/CC-MAIN-2014-15/segments/1397609521512.15/wat/CC-MAIN-20140416005201-00008-ip-10-147-4-33.ec2.internal.warc.wat.gz',\n",
        "  293479155),\n",
        " ('common-crawl/crawl-data/CC-MAIN-2014-15/segments/1397609521512.15/wat/CC-MAIN-20140416005201-00009-ip-10-147-4-33.ec2.internal.warc.wat.gz',\n",
        "  293412342),\n",
        " ('common-crawl/crawl-data/CC-MAIN-2014-15/segments/1397609521512.15/wat/CC-MAIN-20140416005201-00400-ip-10-147-4-33.ec2.internal.warc.wat.gz',\n",
        "  291774665),\n",
        " ('common-crawl/crawl-data/CC-MAIN-2014-15/segments/1397609521512.15/wat/CC-MAIN-20140416005201-00401-ip-10-147-4-33.ec2.internal.warc.wat.gz',\n",
        "  296455331),\n",
        " ('common-crawl/crawl-data/CC-MAIN-2014-15/segments/1397609521512.15/wat/CC-MAIN-20140416005201-00402-ip-10-147-4-33.ec2.internal.warc.wat.gz',\n",
        "  292554943),\n",
        " ('common-crawl/crawl-data/CC-MAIN-2014-15/segments/1397609521512.15/wat/CC-MAIN-20140416005201-00403-ip-10-147-4-33.ec2.internal.warc.wat.gz',\n",
        "  290325526),\n",
        " ('common-crawl/crawl-data/CC-MAIN-2014-15/segments/1397609521512.15/wat/CC-MAIN-20140416005201-00404-ip-10-147-4-33.ec2.internal.warc.wat.gz',\n",
        "  292745044),\n",
        " ('common-crawl/crawl-data/CC-MAIN-2014-15/segments/1397609521512.15/wat/CC-MAIN-20140416005201-00405-ip-10-147-4-33.ec2.internal.warc.wat.gz',\n",
        "  292535249),\n",
        " ('common-crawl/crawl-data/CC-MAIN-2014-15/segments/1397609521512.15/wat/CC-MAIN-20140416005201-00406-ip-10-147-4-33.ec2.internal.warc.wat.gz',\n",
        "  289956697),\n",
        " ('common-crawl/crawl-data/CC-MAIN-2014-15/segments/1397609521512.15/wat/CC-MAIN-20140416005201-00407-ip-10-147-4-33.ec2.internal.warc.wat.gz',\n",
        "  294114974),\n",
        " ('common-crawl/crawl-data/CC-MAIN-2014-15/segments/1397609521512.15/wat/CC-MAIN-20140416005201-00408-ip-10-147-4-33.ec2.internal.warc.wat.gz',\n",
        "  290559245),\n",
        " ('common-crawl/crawl-data/CC-MAIN-2014-15/segments/1397609521512.15/wat/CC-MAIN-20140416005201-00409-ip-10-147-4-33.ec2.internal.warc.wat.gz',\n",
        "  293637944),\n",
        " ('common-crawl/crawl-data/CC-MAIN-2014-15/segments/1397609521512.15/wat/CC-MAIN-20140416005201-00190-ip-10-147-4-33.ec2.internal.warc.wat.gz',\n",
        "  293738831),\n",
        " ('common-crawl/crawl-data/CC-MAIN-2014-15/segments/1397609521512.15/wat/CC-MAIN-20140416005201-00191-ip-10-147-4-33.ec2.internal.warc.wat.gz',\n",
        "  294020387),\n",
        " ('common-crawl/crawl-data/CC-MAIN-2014-15/segments/1397609521512.15/wat/CC-MAIN-20140416005201-00192-ip-10-147-4-33.ec2.internal.warc.wat.gz',\n",
        "  293656300),\n",
        " ('common-crawl/crawl-data/CC-MAIN-2014-15/segments/1397609521512.15/wat/CC-MAIN-20140416005201-00193-ip-10-147-4-33.ec2.internal.warc.wat.gz',\n",
        "  292656132),\n",
        " ('common-crawl/crawl-data/CC-MAIN-2014-15/segments/1397609521512.15/wat/CC-MAIN-20140416005201-00194-ip-10-147-4-33.ec2.internal.warc.wat.gz',\n",
        "  292018281),\n",
        " ('common-crawl/crawl-data/CC-MAIN-2014-15/segments/1397609521512.15/wat/CC-MAIN-20140416005201-00195-ip-10-147-4-33.ec2.internal.warc.wat.gz',\n",
        "  289837160),\n",
        " ('common-crawl/crawl-data/CC-MAIN-2014-15/segments/1397609521512.15/wat/CC-MAIN-20140416005201-00196-ip-10-147-4-33.ec2.internal.warc.wat.gz',\n",
        "  291215862),\n",
        " ('common-crawl/crawl-data/CC-MAIN-2014-15/segments/1397609521512.15/wat/CC-MAIN-20140416005201-00197-ip-10-147-4-33.ec2.internal.warc.wat.gz',\n",
        "  293051654),\n",
        " ('common-crawl/crawl-data/CC-MAIN-2014-15/segments/1397609521512.15/wat/CC-MAIN-20140416005201-00198-ip-10-147-4-33.ec2.internal.warc.wat.gz',\n",
        "  292702319),\n",
        " ('common-crawl/crawl-data/CC-MAIN-2014-15/segments/1397609521512.15/wat/CC-MAIN-20140416005201-00199-ip-10-147-4-33.ec2.internal.warc.wat.gz',\n",
        "  294458163),\n",
        " ('common-crawl/crawl-data/CC-MAIN-2014-15/segments/1397609521512.15/wat/CC-MAIN-20140416005201-00070-ip-10-147-4-33.ec2.internal.warc.wat.gz',\n",
        "  291046521),\n",
        " ('common-crawl/crawl-data/CC-MAIN-2014-15/segments/1397609521512.15/wat/CC-MAIN-20140416005201-00071-ip-10-147-4-33.ec2.internal.warc.wat.gz',\n",
        "  294058314),\n",
        " ('common-crawl/crawl-data/CC-MAIN-2014-15/segments/1397609521512.15/wat/CC-MAIN-20140416005201-00072-ip-10-147-4-33.ec2.internal.warc.wat.gz',\n",
        "  291925020),\n",
        " ('common-crawl/crawl-data/CC-MAIN-2014-15/segments/1397609521512.15/wat/CC-MAIN-20140416005201-00073-ip-10-147-4-33.ec2.internal.warc.wat.gz',\n",
        "  292149068),\n",
        " ('common-crawl/crawl-data/CC-MAIN-2014-15/segments/1397609521512.15/wat/CC-MAIN-20140416005201-00074-ip-10-147-4-33.ec2.internal.warc.wat.gz',\n",
        "  289443372),\n",
        " ('common-crawl/crawl-data/CC-MAIN-2014-15/segments/1397609521512.15/wat/CC-MAIN-20140416005201-00075-ip-10-147-4-33.ec2.internal.warc.wat.gz',\n",
        "  293601909),\n",
        " ('common-crawl/crawl-data/CC-MAIN-2014-15/segments/1397609521512.15/wat/CC-MAIN-20140416005201-00076-ip-10-147-4-33.ec2.internal.warc.wat.gz',\n",
        "  292143389),\n",
        " ('common-crawl/crawl-data/CC-MAIN-2014-15/segments/1397609521512.15/wat/CC-MAIN-20140416005201-00077-ip-10-147-4-33.ec2.internal.warc.wat.gz',\n",
        "  293802621),\n",
        " ('common-crawl/crawl-data/CC-MAIN-2014-15/segments/1397609521512.15/wat/CC-MAIN-20140416005201-00078-ip-10-147-4-33.ec2.internal.warc.wat.gz',\n",
        "  291893461),\n",
        " ('common-crawl/crawl-data/CC-MAIN-2014-15/segments/1397609521512.15/wat/CC-MAIN-20140416005201-00079-ip-10-147-4-33.ec2.internal.warc.wat.gz',\n",
        "  292509035),\n",
        " ('common-crawl/crawl-data/CC-MAIN-2014-15/segments/1397609521512.15/wat/CC-MAIN-20140416005201-00170-ip-10-147-4-33.ec2.internal.warc.wat.gz',\n",
        "  293059589),\n",
        " ('common-crawl/crawl-data/CC-MAIN-2014-15/segments/1397609521512.15/wat/CC-MAIN-20140416005201-00171-ip-10-147-4-33.ec2.internal.warc.wat.gz',\n",
        "  292149279),\n",
        " ('common-crawl/crawl-data/CC-MAIN-2014-15/segments/1397609521512.15/wat/CC-MAIN-20140416005201-00172-ip-10-147-4-33.ec2.internal.warc.wat.gz',\n",
        "  294509894),\n",
        " ('common-crawl/crawl-data/CC-MAIN-2014-15/segments/1397609521512.15/wat/CC-MAIN-20140416005201-00173-ip-10-147-4-33.ec2.internal.warc.wat.gz',\n",
        "  293920446),\n",
        " ('common-crawl/crawl-data/CC-MAIN-2014-15/segments/1397609521512.15/wat/CC-MAIN-20140416005201-00174-ip-10-147-4-33.ec2.internal.warc.wat.gz',\n",
        "  293274860),\n",
        " ('common-crawl/crawl-data/CC-MAIN-2014-15/segments/1397609521512.15/wat/CC-MAIN-20140416005201-00175-ip-10-147-4-33.ec2.internal.warc.wat.gz',\n",
        "  292090041),\n",
        " ('common-crawl/crawl-data/CC-MAIN-2014-15/segments/1397609521512.15/wat/CC-MAIN-20140416005201-00176-ip-10-147-4-33.ec2.internal.warc.wat.gz',\n",
        "  293971405),\n",
        " ('common-crawl/crawl-data/CC-MAIN-2014-15/segments/1397609521512.15/wat/CC-MAIN-20140416005201-00177-ip-10-147-4-33.ec2.internal.warc.wat.gz',\n",
        "  296545890),\n",
        " ('common-crawl/crawl-data/CC-MAIN-2014-15/segments/1397609521512.15/wat/CC-MAIN-20140416005201-00178-ip-10-147-4-33.ec2.internal.warc.wat.gz',\n",
        "  293149759),\n",
        " ('common-crawl/crawl-data/CC-MAIN-2014-15/segments/1397609521512.15/wat/CC-MAIN-20140416005201-00179-ip-10-147-4-33.ec2.internal.warc.wat.gz',\n",
        "  291632206)]"
       ]
      }
     ],
     "prompt_number": 31
    },
    {
     "cell_type": "code",
     "collapsed": false,
     "input": [
      "from pandas import Series, DataFrame\n",
      "df = DataFrame(results, columns=['key', 'size'])\n",
      "df.head()"
     ],
     "language": "python",
     "metadata": {},
     "outputs": [
      {
       "html": [
        "<div style=\"max-height:1000px;max-width:1500px;overflow:auto;\">\n",
        "<table border=\"1\" class=\"dataframe\">\n",
        "  <thead>\n",
        "    <tr style=\"text-align: right;\">\n",
        "      <th></th>\n",
        "      <th>key</th>\n",
        "      <th>size</th>\n",
        "    </tr>\n",
        "  </thead>\n",
        "  <tbody>\n",
        "    <tr>\n",
        "      <th>0</th>\n",
        "      <td> common-crawl/crawl-data/CC-MAIN-2014-15/segmen...</td>\n",
        "      <td> 293474557</td>\n",
        "    </tr>\n",
        "    <tr>\n",
        "      <th>1</th>\n",
        "      <td> common-crawl/crawl-data/CC-MAIN-2014-15/segmen...</td>\n",
        "      <td> 290175002</td>\n",
        "    </tr>\n",
        "    <tr>\n",
        "      <th>2</th>\n",
        "      <td> common-crawl/crawl-data/CC-MAIN-2014-15/segmen...</td>\n",
        "      <td> 290959605</td>\n",
        "    </tr>\n",
        "    <tr>\n",
        "      <th>3</th>\n",
        "      <td> common-crawl/crawl-data/CC-MAIN-2014-15/segmen...</td>\n",
        "      <td> 295523665</td>\n",
        "    </tr>\n",
        "    <tr>\n",
        "      <th>4</th>\n",
        "      <td> common-crawl/crawl-data/CC-MAIN-2014-15/segmen...</td>\n",
        "      <td> 291895112</td>\n",
        "    </tr>\n",
        "  </tbody>\n",
        "</table>\n",
        "</div>"
       ],
       "metadata": {},
       "output_type": "pyout",
       "prompt_number": 32,
       "text": [
        "                                                 key       size\n",
        "0  common-crawl/crawl-data/CC-MAIN-2014-15/segmen...  293474557\n",
        "1  common-crawl/crawl-data/CC-MAIN-2014-15/segmen...  290175002\n",
        "2  common-crawl/crawl-data/CC-MAIN-2014-15/segmen...  290959605\n",
        "3  common-crawl/crawl-data/CC-MAIN-2014-15/segmen...  295523665\n",
        "4  common-crawl/crawl-data/CC-MAIN-2014-15/segmen...  291895112"
       ]
      }
     ],
     "prompt_number": 32
    },
    {
     "cell_type": "code",
     "collapsed": false,
     "input": [
      "df['size'].describe()"
     ],
     "language": "python",
     "metadata": {},
     "outputs": [
      {
       "metadata": {},
       "output_type": "pyout",
       "prompt_number": 33,
       "text": [
        "count    5.000000e+02\n",
        "mean     2.927675e+08\n",
        "std      1.678063e+06\n",
        "min      2.873267e+08\n",
        "25%      2.916222e+08\n",
        "50%      2.927265e+08\n",
        "75%      2.939380e+08\n",
        "max      2.991657e+08\n",
        "dtype: float64"
       ]
      }
     ],
     "prompt_number": 33
    },
    {
     "cell_type": "code",
     "collapsed": false,
     "input": [
      "%pylab --no-import-all inline"
     ],
     "language": "python",
     "metadata": {},
     "outputs": [
      {
       "output_type": "stream",
       "stream": "stdout",
       "text": [
        "Populating the interactive namespace from numpy and matplotlib\n"
       ]
      }
     ],
     "prompt_number": 34
    },
    {
     "cell_type": "code",
     "collapsed": false,
     "input": [
      "import pylab as P\n",
      "P.hist(df['size'])"
     ],
     "language": "python",
     "metadata": {},
     "outputs": [
      {
       "metadata": {},
       "output_type": "pyout",
       "prompt_number": 35,
       "text": [
        "(array([   4.,    9.,   52.,  108.,  122.,  125.,   60.,   15.,    4.,    1.]),\n",
        " array([  2.87326745e+08,   2.88510643e+08,   2.89694541e+08,\n",
        "          2.90878439e+08,   2.92062337e+08,   2.93246236e+08,\n",
        "          2.94430134e+08,   2.95614032e+08,   2.96797930e+08,\n",
        "          2.97981828e+08,   2.99165726e+08]),\n",
        " <a list of 10 Patch objects>)"
       ]
      },
      {
       "metadata": {},
       "output_type": "display_data",
       "png": "[encoded data removed]",
       "text": [
        "<matplotlib.figure.Figure at 0x12555cad0>"
       ]
      }
     ],
     "prompt_number": 35
    },
    {
     "cell_type": "code",
     "collapsed": false,
     "input": [
      "# total byte size of all the wat files\n",
      "print (format(sum(df['size']),\",d\"))"
     ],
     "language": "python",
     "metadata": {},
     "outputs": []
    },
    {
     "cell_type": "code",
     "collapsed": false,
     "input": [
      "# save results\n",
      "import csv\n",
      "with open('CC-MAIN-2014-15.wat.csv', 'wb') as csvfile:\n",
      "    wat_writer = csv.writer(csvfile, delimiter=',',\n",
      "                            quotechar='|', quoting=csv.QUOTE_MINIMAL)\n",
      "    wat_writer.writerow(['key', 'size'])\n",
      "    for result in results:\n",
      "        wat_writer.writerow(result)"
     ],
     "language": "python",
     "metadata": {},
     "outputs": []
    },
    {
     "cell_type": "code",
     "collapsed": false,
     "input": [
      "!head CC-MAIN-2014-15.wat.csv"
     ],
     "language": "python",
     "metadata": {},
     "outputs": []
    },
    {
     "cell_type": "heading",
     "level": 1,
     "metadata": {},
     "source": [
      "Taking apart a WAT file"
     ]
    },
    {
     "cell_type": "code",
     "collapsed": false,
     "input": [
      "# this won't work for the version of boto I'm currently using -- a bug to be resolved\n",
      "\n",
      "key = bucket.get_key(wat_segments[0])\n",
      "url = key.generate_url(expires_in=0, query_auth=False)\n",
      "url"
     ],
     "language": "python",
     "metadata": {},
     "outputs": [
      {
       "ename": "AttributeError",
       "evalue": "'AnonAuthHandler' object has no attribute '_hmac_256'",
       "output_type": "pyerr",
       "traceback": [
        "\u001b[0;31m---------------------------------------------------------------------------\u001b[0m\n\u001b[0;31mAttributeError\u001b[0m                            Traceback (most recent call last)",
        "\u001b[0;32m<ipython-input-36-9ffe16543f26>\u001b[0m in \u001b[0;36m<module>\u001b[0;34m()\u001b[0m\n\u001b[1;32m      2\u001b[0m \u001b[0;34m\u001b[0m\u001b[0m\n\u001b[1;32m      3\u001b[0m \u001b[0mkey\u001b[0m \u001b[0;34m=\u001b[0m \u001b[0mbucket\u001b[0m\u001b[0;34m.\u001b[0m\u001b[0mget_key\u001b[0m\u001b[0;34m(\u001b[0m\u001b[0mwat_segments\u001b[0m\u001b[0;34m[\u001b[0m\u001b[0;36m0\u001b[0m\u001b[0;34m]\u001b[0m\u001b[0;34m)\u001b[0m\u001b[0;34m\u001b[0m\u001b[0m\n\u001b[0;32m----> 4\u001b[0;31m \u001b[0murl\u001b[0m \u001b[0;34m=\u001b[0m \u001b[0mkey\u001b[0m\u001b[0;34m.\u001b[0m\u001b[0mgenerate_url\u001b[0m\u001b[0;34m(\u001b[0m\u001b[0mexpires_in\u001b[0m\u001b[0;34m=\u001b[0m\u001b[0;36m0\u001b[0m\u001b[0;34m,\u001b[0m \u001b[0mquery_auth\u001b[0m\u001b[0;34m=\u001b[0m\u001b[0mFalse\u001b[0m\u001b[0;34m)\u001b[0m\u001b[0;34m\u001b[0m\u001b[0m\n\u001b[0m\u001b[1;32m      5\u001b[0m \u001b[0murl\u001b[0m\u001b[0;34m\u001b[0m\u001b[0m\n",
        "\u001b[0;32m/Users/raymondyee/anaconda/envs/cc-mrjob/lib/python2.7/site-packages/boto/s3/key.pyc\u001b[0m in \u001b[0;36mgenerate_url\u001b[0;34m(self, expires_in, method, headers, query_auth, force_http, response_headers, expires_in_absolute, version_id, policy, reduced_redundancy, encrypt_key)\u001b[0m\n\u001b[1;32m    615\u001b[0m                                                    \u001b[0mresponse_headers\u001b[0m\u001b[0;34m,\u001b[0m\u001b[0;34m\u001b[0m\u001b[0m\n\u001b[1;32m    616\u001b[0m                                                    \u001b[0mexpires_in_absolute\u001b[0m\u001b[0;34m,\u001b[0m\u001b[0;34m\u001b[0m\u001b[0m\n\u001b[0;32m--> 617\u001b[0;31m                                                    version_id)\n\u001b[0m\u001b[1;32m    618\u001b[0m \u001b[0;34m\u001b[0m\u001b[0m\n\u001b[1;32m    619\u001b[0m     def send_file(self, fp, headers=None, cb=None, num_cb=10,\n",
        "\u001b[0;32m/Users/raymondyee/anaconda/envs/cc-mrjob/lib/python2.7/site-packages/boto/s3/connection.pyc\u001b[0m in \u001b[0;36mgenerate_url\u001b[0;34m(self, expires_in, method, bucket, key, headers, query_auth, force_http, response_headers, expires_in_absolute, version_id)\u001b[0m\n\u001b[1;32m    349\u001b[0m         c_string = boto.utils.canonical_string(method, auth_path, headers,\n\u001b[1;32m    350\u001b[0m                                                expires, self.provider)\n\u001b[0;32m--> 351\u001b[0;31m         \u001b[0mb64_hmac\u001b[0m \u001b[0;34m=\u001b[0m \u001b[0mself\u001b[0m\u001b[0;34m.\u001b[0m\u001b[0m_auth_handler\u001b[0m\u001b[0;34m.\u001b[0m\u001b[0msign_string\u001b[0m\u001b[0;34m(\u001b[0m\u001b[0mc_string\u001b[0m\u001b[0;34m)\u001b[0m\u001b[0;34m\u001b[0m\u001b[0m\n\u001b[0m\u001b[1;32m    352\u001b[0m         \u001b[0mencoded_canonical\u001b[0m \u001b[0;34m=\u001b[0m \u001b[0murllib\u001b[0m\u001b[0;34m.\u001b[0m\u001b[0mquote\u001b[0m\u001b[0;34m(\u001b[0m\u001b[0mb64_hmac\u001b[0m\u001b[0;34m,\u001b[0m \u001b[0msafe\u001b[0m\u001b[0;34m=\u001b[0m\u001b[0;34m''\u001b[0m\u001b[0;34m)\u001b[0m\u001b[0;34m\u001b[0m\u001b[0m\n\u001b[1;32m    353\u001b[0m         \u001b[0mself\u001b[0m\u001b[0;34m.\u001b[0m\u001b[0mcalling_format\u001b[0m\u001b[0;34m.\u001b[0m\u001b[0mbuild_path_base\u001b[0m\u001b[0;34m(\u001b[0m\u001b[0mbucket\u001b[0m\u001b[0;34m,\u001b[0m \u001b[0mkey\u001b[0m\u001b[0;34m)\u001b[0m\u001b[0;34m\u001b[0m\u001b[0m\n",
        "\u001b[0;32m/Users/raymondyee/anaconda/envs/cc-mrjob/lib/python2.7/site-packages/boto/auth.pyc\u001b[0m in \u001b[0;36msign_string\u001b[0;34m(self, string_to_sign)\u001b[0m\n\u001b[1;32m    106\u001b[0m \u001b[0;34m\u001b[0m\u001b[0m\n\u001b[1;32m    107\u001b[0m     \u001b[0;32mdef\u001b[0m \u001b[0msign_string\u001b[0m\u001b[0;34m(\u001b[0m\u001b[0mself\u001b[0m\u001b[0;34m,\u001b[0m \u001b[0mstring_to_sign\u001b[0m\u001b[0;34m)\u001b[0m\u001b[0;34m:\u001b[0m\u001b[0;34m\u001b[0m\u001b[0m\n\u001b[0;32m--> 108\u001b[0;31m         \u001b[0mnew_hmac\u001b[0m \u001b[0;34m=\u001b[0m \u001b[0mself\u001b[0m\u001b[0;34m.\u001b[0m\u001b[0m_get_hmac\u001b[0m\u001b[0;34m(\u001b[0m\u001b[0;34m)\u001b[0m\u001b[0;34m\u001b[0m\u001b[0m\n\u001b[0m\u001b[1;32m    109\u001b[0m         \u001b[0mnew_hmac\u001b[0m\u001b[0;34m.\u001b[0m\u001b[0mupdate\u001b[0m\u001b[0;34m(\u001b[0m\u001b[0mstring_to_sign\u001b[0m\u001b[0;34m)\u001b[0m\u001b[0;34m\u001b[0m\u001b[0m\n\u001b[1;32m    110\u001b[0m         \u001b[0;32mreturn\u001b[0m \u001b[0mbase64\u001b[0m\u001b[0;34m.\u001b[0m\u001b[0mencodestring\u001b[0m\u001b[0;34m(\u001b[0m\u001b[0mnew_hmac\u001b[0m\u001b[0;34m.\u001b[0m\u001b[0mdigest\u001b[0m\u001b[0;34m(\u001b[0m\u001b[0;34m)\u001b[0m\u001b[0;34m)\u001b[0m\u001b[0;34m.\u001b[0m\u001b[0mstrip\u001b[0m\u001b[0;34m(\u001b[0m\u001b[0;34m)\u001b[0m\u001b[0;34m\u001b[0m\u001b[0m\n",
        "\u001b[0;32m/Users/raymondyee/anaconda/envs/cc-mrjob/lib/python2.7/site-packages/boto/auth.pyc\u001b[0m in \u001b[0;36m_get_hmac\u001b[0;34m(self)\u001b[0m\n\u001b[1;32m     98\u001b[0m \u001b[0;34m\u001b[0m\u001b[0m\n\u001b[1;32m     99\u001b[0m     \u001b[0;32mdef\u001b[0m \u001b[0m_get_hmac\u001b[0m\u001b[0;34m(\u001b[0m\u001b[0mself\u001b[0m\u001b[0;34m)\u001b[0m\u001b[0;34m:\u001b[0m\u001b[0;34m\u001b[0m\u001b[0m\n\u001b[0;32m--> 100\u001b[0;31m         \u001b[0;32mif\u001b[0m \u001b[0mself\u001b[0m\u001b[0;34m.\u001b[0m\u001b[0m_hmac_256\u001b[0m\u001b[0;34m:\u001b[0m\u001b[0;34m\u001b[0m\u001b[0m\n\u001b[0m\u001b[1;32m    101\u001b[0m             \u001b[0mdigestmod\u001b[0m \u001b[0;34m=\u001b[0m \u001b[0msha256\u001b[0m\u001b[0;34m\u001b[0m\u001b[0m\n\u001b[1;32m    102\u001b[0m         \u001b[0;32melse\u001b[0m\u001b[0;34m:\u001b[0m\u001b[0;34m\u001b[0m\u001b[0m\n",
        "\u001b[0;31mAttributeError\u001b[0m: 'AnonAuthHandler' object has no attribute '_hmac_256'"
       ]
      }
     ],
     "prompt_number": 36
    },
    {
     "cell_type": "code",
     "collapsed": false,
     "input": [
      "wat_segments[0]"
     ],
     "language": "python",
     "metadata": {},
     "outputs": [
      {
       "metadata": {},
       "output_type": "pyout",
       "prompt_number": 37,
       "text": [
        "'common-crawl/crawl-data/CC-MAIN-2014-15/segments/1397609521512.15/wat/CC-MAIN-20140416005201-00000-ip-10-147-4-33.ec2.internal.warc.wat.gz'"
       ]
      }
     ],
     "prompt_number": 37
    },
    {
     "cell_type": "code",
     "collapsed": false,
     "input": [
      "# looks like within any segment ID, we should expect warc, wat, wet buckets\n",
      "\n",
      "!s3cmd ls s3://aws-publicdatasets/common-crawl/crawl-data/CC-MAIN-2014-15/segments/1397609521512.15/"
     ],
     "language": "python",
     "metadata": {},
     "outputs": [
      {
       "output_type": "stream",
       "stream": "stdout",
       "text": [
        "                       DIR   s3://aws-publicdatasets/common-crawl/crawl-data/CC-MAIN-2014-15/segments/1397609521512.15/warc/\r\n",
        "                       DIR   s3://aws-publicdatasets/common-crawl/crawl-data/CC-MAIN-2014-15/segments/1397609521512.15/wat/\r\n",
        "                       DIR   s3://aws-publicdatasets/common-crawl/crawl-data/CC-MAIN-2014-15/segments/1397609521512.15/wet/\r\n"
       ]
      }
     ],
     "prompt_number": 38
    },
    {
     "cell_type": "code",
     "collapsed": false,
     "input": [
      "from gzipstream import GzipStreamFile"
     ],
     "language": "python",
     "metadata": {},
     "outputs": [],
     "prompt_number": 39
    },
    {
     "cell_type": "code",
     "collapsed": false,
     "input": [
      "import boto\n",
      "from itertools import islice\n",
      "from boto.s3.key import Key\n",
      "from gzipstream import GzipStreamFile\n",
      "import warc\n",
      "import json\n",
      "\n",
      "\n",
      "def test_gzipstream():\n",
      "\n",
      "  output = []\n",
      "    \n",
      "  # Let's use a random gzipped web archive (WARC) file from the 2014-15 Common Crawl dataset\n",
      "  ## Connect to Amazon S3 using anonymous credentials\n",
      "  conn = boto.connect_s3(anon=True)\n",
      "  pds = conn.get_bucket('aws-publicdatasets')\n",
      "  ## Start a connection to one of the WARC files\n",
      "  k = Key(pds)\n",
      "  k.key = 'common-crawl/crawl-data/CC-MAIN-2014-15/segments/1397609521512.15/warc/CC-MAIN-20140416005201-00000-ip-10-147-4-33.ec2.internal.warc.gz'\n",
      "\n",
      "  # The warc library accepts file like objects, so let's use GzipStreamFile\n",
      "  f = warc.WARCFile(fileobj=GzipStreamFile(k))\n",
      "  for num, record in islice(enumerate(f),100):\n",
      "    if record['WARC-Type'] == 'response':\n",
      "      # Imagine we're interested in the URL, the length of content, and any Content-Type strings in there\n",
      "      output.append((record['WARC-Target-URI'], record['Content-Length']))\n",
      "      output.append( '\\n'.join(x for x in record.payload.read().replace('\\r', '').split('\\n\\n')[0].split('\\n') if 'content-type:' in x.lower()))\n",
      "      output.append( '=-=-' * 10)\n",
      " \n",
      "  return output\n"
     ],
     "language": "python",
     "metadata": {},
     "outputs": [],
     "prompt_number": 40
    },
    {
     "cell_type": "code",
     "collapsed": false,
     "input": [
      "test_gzipstream()"
     ],
     "language": "python",
     "metadata": {},
     "outputs": [
      {
       "metadata": {},
       "output_type": "pyout",
       "prompt_number": 41,
       "text": [
        "[('http://0.r.msn.com/?ld=7vcce2peyBW35crYf_GsBv9jVUCUzaOZ04HEjhtpfBuqc1WnrSkUYo_KF537V8NJr1Ff8thwizW86Siv0U4--aPfTXKSojKnGbwgLrrCITsyduBgJPYHOa4vRiVe_cnA2NhH7UpA&u=www.otcstockpick.com%2Fwatch-list%2F',\n",
        "  '174'),\n",
        " '',\n",
        " '=-=-=-=-=-=-=-=-=-=-=-=-=-=-=-=-=-=-=-=-',\n",
        " ('http://0.r.msn.com/?ld=8vg6Kt1ynTnBbaGK-KD2u6WDVUCUzuQupJgS1b4hj_eEoiCx8Cow6835mASFL16EboO-P6HUs_Th4uIA_GDxFdUcZtO-BR_Vk0bfVkETqk_BwBdHIaflFipyHseDbaJsLKKRFPxKFQyq5jenuk7-f0L_lpc_U&u=www.Lehmers.com%2F%3Fcs%3Ae%3Dm%26cs%3Aq%3Dused%2520jeep',\n",
        "  '174'),\n",
        " '',\n",
        " '=-=-=-=-=-=-=-=-=-=-=-=-=-=-=-=-=-=-=-=-',\n",
        " ('http://0.static.wix.com/dicons/56d667_3295f77262e6c4103145eca3d192d630.wix_doc_ico',\n",
        "  '25082'),\n",
        " 'Content-Type: image/jpeg',\n",
        " '=-=-=-=-=-=-=-=-=-=-=-=-=-=-=-=-=-=-=-=-',\n",
        " ('http://0.static.wix.com/dicons/8038c4_d8d8c47443ae8eb89f31d24be240d73f.wix_doc_ico',\n",
        "  '14349'),\n",
        " 'Content-Type: image/jpeg',\n",
        " '=-=-=-=-=-=-=-=-=-=-=-=-=-=-=-=-=-=-=-=-',\n",
        " ('http://008safeworld.tumblr.com/', '48981'),\n",
        " 'Content-Type: text/html; charset=utf-8',\n",
        " '=-=-=-=-=-=-=-=-=-=-=-=-=-=-=-=-=-=-=-=-',\n",
        " ('http://02809photo.com/', '27489'),\n",
        " 'Content-Type: text/html; charset=UTF-8',\n",
        " '=-=-=-=-=-=-=-=-=-=-=-=-=-=-=-=-=-=-=-=-',\n",
        " ('http://0351de3.netsolhost.com/WordPress/2012/05/21/on-latinos-racism-pitbull-men-in-black-going-along-getting-along-and-gaining-control/',\n",
        "  '51689'),\n",
        " 'Content-Type: text/html; charset=UTF-8',\n",
        " '=-=-=-=-=-=-=-=-=-=-=-=-=-=-=-=-=-=-=-=-',\n",
        " ('http://0x20.be/smw/index.php?title=Newline_2011/Pictures&diff=prev&oldid=5816',\n",
        "  '20364'),\n",
        " 'Content-Type: text/html; charset=UTF-8',\n",
        " '=-=-=-=-=-=-=-=-=-=-=-=-=-=-=-=-=-=-=-=-',\n",
        " ('http://0x20.be/smw/index.php?title=Special:RecentChangesLinked&from=20130310085629&target=Meeting47',\n",
        "  '23405'),\n",
        " 'Content-Type: text/html; charset=UTF-8',\n",
        " '=-=-=-=-=-=-=-=-=-=-=-=-=-=-=-=-=-=-=-=-',\n",
        " ('http://1000threadsblog.com/2013/03/16/two-holidays-and-a-link-of-my-own/',\n",
        "  '49815'),\n",
        " 'Content-Type: text/html; charset=UTF-8',\n",
        " '=-=-=-=-=-=-=-=-=-=-=-=-=-=-=-=-=-=-=-=-',\n",
        " ('http://100nudists.info/lilota-preteen-modelx/preteen-met-art.html',\n",
        "  '19230'),\n",
        " 'Content-Type: text/html',\n",
        " '=-=-=-=-=-=-=-=-=-=-=-=-=-=-=-=-=-=-=-=-',\n",
        " ('http://100votos.com/?cod=tahureszurdos', '11494'),\n",
        " 'Content-Type: text/html',\n",
        " '=-=-=-=-=-=-=-=-=-=-=-=-=-=-=-=-=-=-=-=-',\n",
        " ('http://1019ampradio.cbslocal.com/music-videos/Emblem3/3000+Miles+Teaser/USSM21302109/',\n",
        "  '79170'),\n",
        " 'Content-Type: text/html; charset=UTF-8',\n",
        " '=-=-=-=-=-=-=-=-=-=-=-=-=-=-=-=-=-=-=-=-',\n",
        " ('http://1019ampradio.cbslocal.com/tag/republic/', '57871'),\n",
        " 'Content-Type: text/html; charset=UTF-8',\n",
        " '=-=-=-=-=-=-=-=-=-=-=-=-=-=-=-=-=-=-=-=-',\n",
        " ('http://1029thebuzz.com/medium/bush-buzz-session-photos', '28407'),\n",
        " 'Content-Type: text/html; charset=utf-8',\n",
        " '=-=-=-=-=-=-=-=-=-=-=-=-=-=-=-=-=-=-=-=-',\n",
        " ('http://1037theloon.com/tags/earthquake/feed/', '3538'),\n",
        " 'Content-Type: text/xml; charset=UTF-8',\n",
        " '=-=-=-=-=-=-=-=-=-=-=-=-=-=-=-=-=-=-=-=-',\n",
        " ('http://103gbfrocks.com/103gbf-and-budweisers-ski-day-weekend-get-ready/',\n",
        "  '73121'),\n",
        " 'Content-Type: text/html; charset=UTF-8',\n",
        " '=-=-=-=-=-=-=-=-=-=-=-=-=-=-=-=-=-=-=-=-',\n",
        " ('http://1045theteam.com/tags/afc-predictions/feed/', '4297'),\n",
        " 'Content-Type: text/xml; charset=UTF-8',\n",
        " '=-=-=-=-=-=-=-=-=-=-=-=-=-=-=-=-=-=-=-=-',\n",
        " ('http://1063thebuzz.com/tags/crush-of-the-day/page/12/', '72587'),\n",
        " 'Content-Type: text/html; charset=UTF-8',\n",
        " '=-=-=-=-=-=-=-=-=-=-=-=-=-=-=-=-=-=-=-=-',\n",
        " ('http://1063thebuzz.com/vip/trivia/buzz-trivia-rare-cowboys-items/',\n",
        "  '61023'),\n",
        " 'Content-Type: text/html; charset=UTF-8',\n",
        " '=-=-=-=-=-=-=-=-=-=-=-=-=-=-=-=-=-=-=-=-',\n",
        " ('http://1150kknw.com/calendar/2013-01-26--2014-01-26/44/87426', '51484'),\n",
        " 'Content-Type: text/html; charset=utf-8',\n",
        " '=-=-=-=-=-=-=-=-=-=-=-=-=-=-=-=-=-=-=-=-',\n",
        " ('http://11870.com/victormferrara?t=postres%2Bcaseros', '20597'),\n",
        " 'Content-Type: text/html;charset=utf-8',\n",
        " '=-=-=-=-=-=-=-=-=-=-=-=-=-=-=-=-=-=-=-=-',\n",
        " ('http://11o6.tumblr.com/post/3672170445/schizopolis', '24101'),\n",
        " 'Content-Type: text/html; charset=utf-8',\n",
        " '=-=-=-=-=-=-=-=-=-=-=-=-=-=-=-=-=-=-=-=-',\n",
        " ('http://1350kman.com/report-olathe-south-proudct-to-play-for-k-state-women/',\n",
        "  '33650'),\n",
        " 'Content-Type: text/html; charset=UTF-8',\n",
        " '=-=-=-=-=-=-=-=-=-=-=-=-=-=-=-=-=-=-=-=-',\n",
        " ('http://13door.com/tag/haunted-house-denver/', '66804'),\n",
        " 'Content-Type: text/html; charset=UTF-8',\n",
        " '=-=-=-=-=-=-=-=-=-=-=-=-=-=-=-=-=-=-=-=-',\n",
        " ('http://142throckmorton.inticketing.com/evinfo.php?eventid=277025', '43167'),\n",
        " 'Content-Type: text/html; charset=UTF-8',\n",
        " '=-=-=-=-=-=-=-=-=-=-=-=-=-=-=-=-=-=-=-=-',\n",
        " ('http://1690wmlb.com/stone-mountain-wobblers/', '32936'),\n",
        " 'Content-Type: text/html; charset=UTF-8',\n",
        " '=-=-=-=-=-=-=-=-=-=-=-=-=-=-=-=-=-=-=-=-',\n",
        " ('http://17hmr.net/index.php?topic=6540.msg92178', '9412'),\n",
        " 'Content-Type: text/html; charset=ISO-8859-1',\n",
        " '=-=-=-=-=-=-=-=-=-=-=-=-=-=-=-=-=-=-=-=-',\n",
        " ('http://17hmr.net/index.php?topic=8012.msg112652', '10860'),\n",
        " 'Content-Type: text/html; charset=ISO-8859-1',\n",
        " '=-=-=-=-=-=-=-=-=-=-=-=-=-=-=-=-=-=-=-=-',\n",
        " ('http://17hmr.net/index.php?topic=958.msg7520', '9410'),\n",
        " 'Content-Type: text/html; charset=ISO-8859-1',\n",
        " '=-=-=-=-=-=-=-=-=-=-=-=-=-=-=-=-=-=-=-=-',\n",
        " ('http://18b-gouttedor.scola.ac-paris.fr/spip.php?article2194', '29255'),\n",
        " 'Content-Type: text/html; charset=utf-8',\n",
        " '=-=-=-=-=-=-=-=-=-=-=-=-=-=-=-=-=-=-=-=-',\n",
        " ('http://1caseycolette.blogspot.com/2011/11/80-worth-of-amazon-gift-cards-giveaway.html?showComment=1323514602233',\n",
        "  '147016'),\n",
        " 'Content-Type: text/html; charset=UTF-8',\n",
        " '=-=-=-=-=-=-=-=-=-=-=-=-=-=-=-=-=-=-=-=-',\n",
        " ('http://2009.igem.org/Special:RecentChangesLinked/Team:Imperial_College_London/Achievements',\n",
        "  '14377'),\n",
        " 'Content-Type: text/html; charset=utf-8',\n",
        " '=-=-=-=-=-=-=-=-=-=-=-=-=-=-=-=-=-=-=-=-']"
       ]
      }
     ],
     "prompt_number": 41
    },
    {
     "cell_type": "code",
     "collapsed": false,
     "input": [
      "def warc_records(key_name, limit=None):\n",
      "    conn = boto.connect_s3(anon=True)\n",
      "    bucket = conn.get_bucket('aws-publicdatasets')\n",
      "    key = bucket.get_key(key_name)\n",
      "\n",
      "    # The warc library accepts file like objects, so let's use GzipStreamFile\n",
      "    f = warc.WARCFile(fileobj=GzipStreamFile(key))\n",
      "    for record in islice(f, limit):\n",
      "        yield record"
     ],
     "language": "python",
     "metadata": {},
     "outputs": [],
     "prompt_number": 42
    },
    {
     "cell_type": "code",
     "collapsed": false,
     "input": [
      "# let's compute some stats on the headers\n",
      "from collections import Counter\n",
      "c=Counter()\n",
      "[c.update(record.header.keys()) for record in warc_records(wat_segments[0],1)]\n",
      "c"
     ],
     "language": "python",
     "metadata": {},
     "outputs": [
      {
       "metadata": {},
       "output_type": "pyout",
       "prompt_number": 43,
       "text": [
        "Counter({'warc-type': 1, 'content-length': 1, 'warc-filename': 1, 'warc-date': 1, 'content-type': 1, 'warc-record-id': 1})"
       ]
      }
     ],
     "prompt_number": 43
    },
    {
     "cell_type": "code",
     "collapsed": false,
     "input": [
      "# warc-type\n",
      "\n",
      "# looks like \n",
      "# first record is 'warcinfo\n",
      "# rest is 'metadata'\n",
      "\n",
      "c=Counter()\n",
      "[c.update([record['warc-type']]) for record in warc_records(wat_segments[0],100)]\n",
      "\n",
      "c"
     ],
     "language": "python",
     "metadata": {},
     "outputs": [
      {
       "metadata": {},
       "output_type": "pyout",
       "prompt_number": 44,
       "text": [
        "Counter({'metadata': 99, 'warcinfo': 1})"
       ]
      }
     ],
     "prompt_number": 44
    },
    {
     "cell_type": "code",
     "collapsed": false,
     "input": [
      "# content-type\n",
      "\n",
      "c=Counter()\n",
      "[c.update([record['content-type']]) for record in warc_records(wat_segments[0],100)]\n",
      "\n",
      "c"
     ],
     "language": "python",
     "metadata": {},
     "outputs": [
      {
       "metadata": {},
       "output_type": "pyout",
       "prompt_number": 45,
       "text": [
        "Counter({'application/json': 99, 'application/warc-fields': 1})"
       ]
      }
     ],
     "prompt_number": 45
    },
    {
     "cell_type": "code",
     "collapsed": false,
     "input": [
      "# what"
     ],
     "language": "python",
     "metadata": {},
     "outputs": []
    },
    {
     "cell_type": "code",
     "collapsed": false,
     "input": [
      "wrecords = warc_records(wat_segments[0])"
     ],
     "language": "python",
     "metadata": {},
     "outputs": [],
     "prompt_number": 46
    },
    {
     "cell_type": "code",
     "collapsed": false,
     "input": [
      "record = wrecords.next()"
     ],
     "language": "python",
     "metadata": {},
     "outputs": [],
     "prompt_number": 47
    },
    {
     "cell_type": "code",
     "collapsed": false,
     "input": [
      "# http://warc.readthedocs.org/en/latest/#working-with-warc-header\n",
      "\n",
      "record.header.items()"
     ],
     "language": "python",
     "metadata": {},
     "outputs": [
      {
       "metadata": {},
       "output_type": "pyout",
       "prompt_number": 48,
       "text": [
        "[('warc-type', 'warcinfo'),\n",
        " ('content-length', '108'),\n",
        " ('warc-filename',\n",
        "  'CC-MAIN-20140416005201-00000-ip-10-147-4-33.ec2.internal.warc.gz'),\n",
        " ('warc-date', '2014-06-26T21:06:57Z'),\n",
        " ('content-type', 'application/warc-fields'),\n",
        " ('warc-record-id', '<urn:uuid:bd41c21b-69fd-480c-9433-df5b94187156>')]"
       ]
      }
     ],
     "prompt_number": 48
    },
    {
     "cell_type": "code",
     "collapsed": false,
     "input": [
      "#payload\n",
      "dir(record.payload)"
     ],
     "language": "python",
     "metadata": {},
     "outputs": []
    },
    {
     "cell_type": "code",
     "collapsed": false,
     "input": [
      "record.header.get('content-type')"
     ],
     "language": "python",
     "metadata": {},
     "outputs": []
    },
    {
     "cell_type": "code",
     "collapsed": false,
     "input": [
      "# payload\n",
      "\n",
      "\n",
      "s = record.payload.read()\n",
      "len(s)"
     ],
     "language": "python",
     "metadata": {},
     "outputs": []
    },
    {
     "cell_type": "code",
     "collapsed": false,
     "input": [
      "if record.header.get('content-type') == 'application/json':\n",
      "    payload = json.loads(s)\n",
      "else:\n",
      "    payload = s\n",
      "    \n",
      "payload"
     ],
     "language": "python",
     "metadata": {},
     "outputs": []
    },
    {
     "cell_type": "code",
     "collapsed": false,
     "input": [
      "payload['Envelope']['WARC-Header-Metadata']['WARC-Target-URI']"
     ],
     "language": "python",
     "metadata": {},
     "outputs": []
    },
    {
     "cell_type": "code",
     "collapsed": false,
     "input": [
      "import urlparse\n",
      "urlparse.urlparse(payload['Envelope']['WARC-Header-Metadata']['WARC-Target-URI']).netloc"
     ],
     "language": "python",
     "metadata": {},
     "outputs": []
    },
    {
     "cell_type": "code",
     "collapsed": false,
     "input": [
      "# let's just run through a segment with minimal processing (to test processing speed)\n",
      "\n",
      "import urlparse\n",
      "\n",
      "def walk_through_segment(segment_id, limit=None):\n",
      "    \n",
      "    for (i,record) in enumerate(warc_records(segment_id,limit)):\n",
      "        print (\"\\r>> Record: %d\" % i, end=\"\")\n",
      "\n"
     ],
     "language": "python",
     "metadata": {},
     "outputs": [],
     "prompt_number": 58
    },
    {
     "cell_type": "code",
     "collapsed": false,
     "input": [
      "%time walk_through_segment(wat_segments[0],100)"
     ],
     "language": "python",
     "metadata": {},
     "outputs": []
    },
    {
     "cell_type": "code",
     "collapsed": false,
     "input": [
      "import urlparse\n",
      "\n",
      "def netloc_count_for_segment(segment_id, limit=None):\n",
      "    \n",
      "    c = Counter()\n",
      "\n",
      "    for (i, record) in enumerate(warc_records(segment_id,limit)):\n",
      "\n",
      "        print (\"\\r>>Record: %d\" % i, end=\"\")\n",
      "        s = record.payload.read()\n",
      "        if record.header.get('content-type') == 'application/json':\n",
      "            payload = json.loads(s)\n",
      "            url = payload['Envelope']['WARC-Header-Metadata'].get('WARC-Target-URI')\n",
      "            if url:\n",
      "                netloc = urlparse.urlparse(url).netloc\n",
      "                c.update([netloc])\n",
      "            else:\n",
      "                c.update([None])\n",
      "\n",
      "    return c\n",
      "\n",
      "\n",
      "        "
     ],
     "language": "python",
     "metadata": {},
     "outputs": [],
     "prompt_number": 49
    },
    {
     "cell_type": "code",
     "collapsed": false,
     "input": [
      "%time netloc_count_for_segment(wat_segments[0],1000)"
     ],
     "language": "python",
     "metadata": {},
     "outputs": [
      {
       "output_type": "stream",
       "stream": "stdout",
       "text": [
        "\r",
        ">>Record: 0\r",
        ">>Record: 1\r",
        ">>Record: 2\r",
        ">>Record: 3\r",
        ">>Record: 4\r",
        ">>Record: 5"
       ]
      },
      {
       "output_type": "stream",
       "stream": "stdout",
       "text": [
        "\r",
        ">>Record: 6\r",
        ">>Record: 7\r",
        ">>Record: 8\r",
        ">>Record: 9\r",
        ">>Record: 10"
       ]
      },
      {
       "output_type": "stream",
       "stream": "stdout",
       "text": [
        "\r",
        ">>Record: 11\r",
        ">>Record: 12\r",
        ">>Record: 13\r",
        ">>Record: 14\r",
        ">>Record: 15\r",
        ">>Record: 16\r",
        ">>Record: 17\r",
        ">>Record: 18\r",
        ">>Record: 19"
       ]
      },
      {
       "output_type": "stream",
       "stream": "stdout",
       "text": [
        "\r",
        ">>Record: 20\r",
        ">>Record: 21\r",
        ">>Record: 22\r",
        ">>Record: 23\r",
        ">>Record: 24\r",
        ">>Record: 25\r",
        ">>Record: 26\r",
        ">>Record: 27\r",
        ">>Record: 28\r",
        ">>Record: 29\r",
        ">>Record: 30\r",
        ">>Record: 31"
       ]
      },
      {
       "output_type": "stream",
       "stream": "stdout",
       "text": [
        "\r",
        ">>Record: 32\r",
        ">>Record: 33\r",
        ">>Record: 34\r",
        ">>Record: 35\r",
        ">>Record: 36\r",
        ">>Record: 37\r",
        ">>Record: 38\r",
        ">>Record: 39\r",
        ">>Record: 40\r",
        ">>Record: 41\r",
        ">>Record: 42\r",
        ">>Record: 43\r",
        ">>Record: 44\r",
        ">>Record: 45\r",
        ">>Record: 46"
       ]
      },
      {
       "output_type": "stream",
       "stream": "stdout",
       "text": [
        "\r",
        ">>Record: 47\r",
        ">>Record: 48\r",
        ">>Record: 49\r",
        ">>Record: 50\r",
        ">>Record: 51\r",
        ">>Record: 52\r",
        ">>Record: 53\r",
        ">>Record: 54\r",
        ">>Record: 55"
       ]
      },
      {
       "output_type": "stream",
       "stream": "stdout",
       "text": [
        "\r",
        ">>Record: 56\r",
        ">>Record: 57\r",
        ">>Record: 58\r",
        ">>Record: 59\r",
        ">>Record: 60\r",
        ">>Record: 61\r",
        ">>Record: 62"
       ]
      },
      {
       "output_type": "stream",
       "stream": "stdout",
       "text": [
        "\r",
        ">>Record: 63\r",
        ">>Record: 64\r",
        ">>Record: 65\r",
        ">>Record: 66\r",
        ">>Record: 67\r",
        ">>Record: 68"
       ]
      },
      {
       "output_type": "stream",
       "stream": "stdout",
       "text": [
        "\r",
        ">>Record: 69\r",
        ">>Record: 70"
       ]
      },
      {
       "output_type": "stream",
       "stream": "stdout",
       "text": [
        "\r",
        ">>Record: 71\r",
        ">>Record: 72\r",
        ">>Record: 73\r",
        ">>Record: 74\r",
        ">>Record: 75\r",
        ">>Record: 76"
       ]
      },
      {
       "output_type": "stream",
       "stream": "stdout",
       "text": [
        "\r",
        ">>Record: 77\r",
        ">>Record: 78\r",
        ">>Record: 79\r",
        ">>Record: 80\r",
        ">>Record: 81\r",
        ">>Record: 82"
       ]
      },
      {
       "output_type": "stream",
       "stream": "stdout",
       "text": [
        "\r",
        ">>Record: 83\r",
        ">>Record: 84\r",
        ">>Record: 85"
       ]
      },
      {
       "output_type": "stream",
       "stream": "stdout",
       "text": [
        "\r",
        ">>Record: 86\r",
        ">>Record: 87\r",
        ">>Record: 88"
       ]
      },
      {
       "output_type": "stream",
       "stream": "stdout",
       "text": [
        "\r",
        ">>Record: 89\r",
        ">>Record: 90"
       ]
      },
      {
       "output_type": "stream",
       "stream": "stdout",
       "text": [
        "\r",
        ">>Record: 91\r",
        ">>Record: 92\r",
        ">>Record: 93\r",
        ">>Record: 94\r",
        ">>Record: 95\r",
        ">>Record: 96\r",
        ">>Record: 97"
       ]
      },
      {
       "output_type": "stream",
       "stream": "stdout",
       "text": [
        "\r",
        ">>Record: 98\r",
        ">>Record: 99\r",
        ">>Record: 100\r",
        ">>Record: 101\r",
        ">>Record: 102\r",
        ">>Record: 103\r",
        ">>Record: 104\r",
        ">>Record: 105\r",
        ">>Record: 106"
       ]
      },
      {
       "output_type": "stream",
       "stream": "stdout",
       "text": [
        "\r",
        ">>Record: 107\r",
        ">>Record: 108\r",
        ">>Record: 109\r",
        ">>Record: 110\r",
        ">>Record: 111\r",
        ">>Record: 112\r",
        ">>Record: 113\r",
        ">>Record: 114\r",
        ">>Record: 115"
       ]
      },
      {
       "output_type": "stream",
       "stream": "stdout",
       "text": [
        "\r",
        ">>Record: 116\r",
        ">>Record: 117\r",
        ">>Record: 118\r",
        ">>Record: 119\r",
        ">>Record: 120\r",
        ">>Record: 121"
       ]
      },
      {
       "output_type": "stream",
       "stream": "stdout",
       "text": [
        "\r",
        ">>Record: 122\r",
        ">>Record: 123\r",
        ">>Record: 124\r",
        ">>Record: 125\r",
        ">>Record: 126\r",
        ">>Record: 127\r",
        ">>Record: 128\r",
        ">>Record: 129\r",
        ">>Record: 130"
       ]
      },
      {
       "output_type": "stream",
       "stream": "stdout",
       "text": [
        "\r",
        ">>Record: 131\r",
        ">>Record: 132\r",
        ">>Record: 133\r",
        ">>Record: 134\r",
        ">>Record: 135\r",
        ">>Record: 136"
       ]
      },
      {
       "output_type": "stream",
       "stream": "stdout",
       "text": [
        "\r",
        ">>Record: 137\r",
        ">>Record: 138\r",
        ">>Record: 139\r",
        ">>Record: 140\r",
        ">>Record: 141\r",
        ">>Record: 142\r",
        ">>Record: 143\r",
        ">>Record: 144\r",
        ">>Record: 145\r",
        ">>Record: 146\r",
        ">>Record: 147"
       ]
      },
      {
       "output_type": "stream",
       "stream": "stdout",
       "text": [
        "\r",
        ">>Record: 148\r",
        ">>Record: 149\r",
        ">>Record: 150\r",
        ">>Record: 151\r",
        ">>Record: 152"
       ]
      },
      {
       "output_type": "stream",
       "stream": "stdout",
       "text": [
        "\r",
        ">>Record: 153\r",
        ">>Record: 154\r",
        ">>Record: 155\r",
        ">>Record: 156\r",
        ">>Record: 157\r",
        ">>Record: 158\r",
        ">>Record: 159\r",
        ">>Record: 160"
       ]
      },
      {
       "output_type": "stream",
       "stream": "stdout",
       "text": [
        "\r",
        ">>Record: 161\r",
        ">>Record: 162\r",
        ">>Record: 163\r",
        ">>Record: 164\r",
        ">>Record: 165"
       ]
      },
      {
       "output_type": "stream",
       "stream": "stdout",
       "text": [
        "\r",
        ">>Record: 166\r",
        ">>Record: 167\r",
        ">>Record: 168\r",
        ">>Record: 169"
       ]
      },
      {
       "output_type": "stream",
       "stream": "stdout",
       "text": [
        "\r",
        ">>Record: 170\r",
        ">>Record: 171\r",
        ">>Record: 172"
       ]
      },
      {
       "output_type": "stream",
       "stream": "stdout",
       "text": [
        "\r",
        ">>Record: 173\r",
        ">>Record: 174\r",
        ">>Record: 175\r",
        ">>Record: 176\r",
        ">>Record: 177\r",
        ">>Record: 178"
       ]
      },
      {
       "output_type": "stream",
       "stream": "stdout",
       "text": [
        "\r",
        ">>Record: 179\r",
        ">>Record: 180\r",
        ">>Record: 181\r",
        ">>Record: 182\r",
        ">>Record: 183\r",
        ">>Record: 184"
       ]
      },
      {
       "output_type": "stream",
       "stream": "stdout",
       "text": [
        "\r",
        ">>Record: 185\r",
        ">>Record: 186\r",
        ">>Record: 187\r",
        ">>Record: 188\r",
        ">>Record: 189\r",
        ">>Record: 190"
       ]
      },
      {
       "output_type": "stream",
       "stream": "stdout",
       "text": [
        "\r",
        ">>Record: 191\r",
        ">>Record: 192"
       ]
      },
      {
       "output_type": "stream",
       "stream": "stdout",
       "text": [
        "\r",
        ">>Record: 193\r",
        ">>Record: 194\r",
        ">>Record: 195\r",
        ">>Record: 196\r",
        ">>Record: 197\r",
        ">>Record: 198\r",
        ">>Record: 199"
       ]
      },
      {
       "output_type": "stream",
       "stream": "stdout",
       "text": [
        "\r",
        ">>Record: 200\r",
        ">>Record: 201"
       ]
      },
      {
       "output_type": "stream",
       "stream": "stdout",
       "text": [
        "\r",
        ">>Record: 202\r",
        ">>Record: 203\r",
        ">>Record: 204\r",
        ">>Record: 205"
       ]
      },
      {
       "output_type": "stream",
       "stream": "stdout",
       "text": [
        "\r",
        ">>Record: 206\r",
        ">>Record: 207\r",
        ">>Record: 208\r",
        ">>Record: 209\r",
        ">>Record: 210\r",
        ">>Record: 211"
       ]
      },
      {
       "output_type": "stream",
       "stream": "stdout",
       "text": [
        "\r",
        ">>Record: 212\r",
        ">>Record: 213\r",
        ">>Record: 214\r",
        ">>Record: 215\r",
        ">>Record: 216\r",
        ">>Record: 217\r",
        ">>Record: 218\r",
        ">>Record: 219\r",
        ">>Record: 220\r",
        ">>Record: 221\r",
        ">>Record: 222\r",
        ">>Record: 223\r",
        ">>Record: 224\r",
        ">>Record: 225\r",
        ">>Record: 226\r",
        ">>Record: 227\r",
        ">>Record: 228\r",
        ">>Record: 229"
       ]
      },
      {
       "output_type": "stream",
       "stream": "stdout",
       "text": [
        "\r",
        ">>Record: 230\r",
        ">>Record: 231\r",
        ">>Record: 232\r",
        ">>Record: 233\r",
        ">>Record: 234\r",
        ">>Record: 235\r",
        ">>Record: 236\r",
        ">>Record: 237\r",
        ">>Record: 238\r",
        ">>Record: 239\r",
        ">>Record: 240\r",
        ">>Record: 241\r",
        ">>Record: 242\r",
        ">>Record: 243\r",
        ">>Record: 244"
       ]
      },
      {
       "output_type": "stream",
       "stream": "stdout",
       "text": [
        "\r",
        ">>Record: 245\r",
        ">>Record: 246\r",
        ">>Record: 247\r",
        ">>Record: 248\r",
        ">>Record: 249\r",
        ">>Record: 250\r",
        ">>Record: 251\r",
        ">>Record: 252\r",
        ">>Record: 253"
       ]
      },
      {
       "output_type": "stream",
       "stream": "stdout",
       "text": [
        "\r",
        ">>Record: 254\r",
        ">>Record: 255\r",
        ">>Record: 256\r",
        ">>Record: 257\r",
        ">>Record: 258\r",
        ">>Record: 259\r",
        ">>Record: 260\r",
        ">>Record: 261\r",
        ">>Record: 262"
       ]
      },
      {
       "output_type": "stream",
       "stream": "stdout",
       "text": [
        "\r",
        ">>Record: 263\r",
        ">>Record: 264\r",
        ">>Record: 265\r",
        ">>Record: 266\r",
        ">>Record: 267\r",
        ">>Record: 268\r",
        ">>Record: 269\r",
        ">>Record: 270\r",
        ">>Record: 271"
       ]
      },
      {
       "output_type": "stream",
       "stream": "stdout",
       "text": [
        "\r",
        ">>Record: 272\r",
        ">>Record: 273\r",
        ">>Record: 274\r",
        ">>Record: 275\r",
        ">>Record: 276\r",
        ">>Record: 277\r",
        ">>Record: 278\r",
        ">>Record: 279\r",
        ">>Record: 280\r",
        ">>Record: 281\r",
        ">>Record: 282\r",
        ">>Record: 283"
       ]
      },
      {
       "output_type": "stream",
       "stream": "stdout",
       "text": [
        "\r",
        ">>Record: 284\r",
        ">>Record: 285\r",
        ">>Record: 286\r",
        ">>Record: 287\r",
        ">>Record: 288\r",
        ">>Record: 289\r",
        ">>Record: 290\r",
        ">>Record: 291\r",
        ">>Record: 292"
       ]
      },
      {
       "output_type": "stream",
       "stream": "stdout",
       "text": [
        "\r",
        ">>Record: 293\r",
        ">>Record: 294\r",
        ">>Record: 295\r",
        ">>Record: 296\r",
        ">>Record: 297\r",
        ">>Record: 298\r",
        ">>Record: 299\r",
        ">>Record: 300\r",
        ">>Record: 301"
       ]
      },
      {
       "output_type": "stream",
       "stream": "stdout",
       "text": [
        "\r",
        ">>Record: 302\r",
        ">>Record: 303\r",
        ">>Record: 304\r",
        ">>Record: 305\r",
        ">>Record: 306\r",
        ">>Record: 307\r",
        ">>Record: 308\r",
        ">>Record: 309\r",
        ">>Record: 310\r",
        ">>Record: 311"
       ]
      },
      {
       "output_type": "stream",
       "stream": "stdout",
       "text": [
        "\r",
        ">>Record: 312\r",
        ">>Record: 313\r",
        ">>Record: 314\r",
        ">>Record: 315\r",
        ">>Record: 316\r",
        ">>Record: 317\r",
        ">>Record: 318"
       ]
      },
      {
       "output_type": "stream",
       "stream": "stdout",
       "text": [
        "\r",
        ">>Record: 319\r",
        ">>Record: 320\r",
        ">>Record: 321\r",
        ">>Record: 322\r",
        ">>Record: 323"
       ]
      },
      {
       "output_type": "stream",
       "stream": "stdout",
       "text": [
        "\r",
        ">>Record: 324\r",
        ">>Record: 325\r",
        ">>Record: 326\r",
        ">>Record: 327\r",
        ">>Record: 328"
       ]
      },
      {
       "output_type": "stream",
       "stream": "stdout",
       "text": [
        "\r",
        ">>Record: 329\r",
        ">>Record: 330\r",
        ">>Record: 331\r",
        ">>Record: 332\r",
        ">>Record: 333\r",
        ">>Record: 334\r",
        ">>Record: 335\r",
        ">>Record: 336\r",
        ">>Record: 337\r",
        ">>Record: 338\r",
        ">>Record: 339\r",
        ">>Record: 340\r",
        ">>Record: 341\r",
        ">>Record: 342\r",
        ">>Record: 343\r",
        ">>Record: 344\r",
        ">>Record: 345\r",
        ">>Record: 346\r",
        ">>Record: 347\r",
        ">>Record: 348\r",
        ">>Record: 349\r",
        ">>Record: 350\r",
        ">>Record: 351\r",
        ">>Record: 352\r",
        ">>Record: 353\r",
        ">>Record: 354\r",
        ">>Record: 355\r",
        ">>Record: 356\r",
        ">>Record: 357\r",
        ">>Record: 358\r",
        ">>Record: 359\r",
        ">>Record: 360\r",
        ">>Record: 361\r",
        ">>Record: 362\r",
        ">>Record: 363\r",
        ">>Record: 364"
       ]
      },
      {
       "output_type": "stream",
       "stream": "stdout",
       "text": [
        "\r",
        ">>Record: 365\r",
        ">>Record: 366\r",
        ">>Record: 367\r",
        ">>Record: 368\r",
        ">>Record: 369\r",
        ">>Record: 370\r",
        ">>Record: 371\r",
        ">>Record: 372\r",
        ">>Record: 373\r",
        ">>Record: 374\r",
        ">>Record: 375\r",
        ">>Record: 376\r",
        ">>Record: 377\r",
        ">>Record: 378\r",
        ">>Record: 379"
       ]
      },
      {
       "output_type": "stream",
       "stream": "stdout",
       "text": [
        "\r",
        ">>Record: 380\r",
        ">>Record: 381\r",
        ">>Record: 382\r",
        ">>Record: 383"
       ]
      },
      {
       "output_type": "stream",
       "stream": "stdout",
       "text": [
        "\r",
        ">>Record: 384\r",
        ">>Record: 385\r",
        ">>Record: 386"
       ]
      },
      {
       "output_type": "stream",
       "stream": "stdout",
       "text": [
        "\r",
        ">>Record: 387\r",
        ">>Record: 388\r",
        ">>Record: 389\r",
        ">>Record: 390\r",
        ">>Record: 391\r",
        ">>Record: 392\r",
        ">>Record: 393\r",
        ">>Record: 394"
       ]
      },
      {
       "output_type": "stream",
       "stream": "stdout",
       "text": [
        "\r",
        ">>Record: 395\r",
        ">>Record: 396\r",
        ">>Record: 397\r",
        ">>Record: 398\r",
        ">>Record: 399\r",
        ">>Record: 400\r",
        ">>Record: 401\r",
        ">>Record: 402\r",
        ">>Record: 403"
       ]
      },
      {
       "output_type": "stream",
       "stream": "stdout",
       "text": [
        "\r",
        ">>Record: 404\r",
        ">>Record: 405\r",
        ">>Record: 406\r",
        ">>Record: 407\r",
        ">>Record: 408\r",
        ">>Record: 409\r",
        ">>Record: 410\r",
        ">>Record: 411\r",
        ">>Record: 412\r",
        ">>Record: 413\r",
        ">>Record: 414\r",
        ">>Record: 415\r",
        ">>Record: 416"
       ]
      },
      {
       "output_type": "stream",
       "stream": "stdout",
       "text": [
        "\r",
        ">>Record: 417\r",
        ">>Record: 418\r",
        ">>Record: 419\r",
        ">>Record: 420\r",
        ">>Record: 421\r",
        ">>Record: 422\r",
        ">>Record: 423\r",
        ">>Record: 424"
       ]
      },
      {
       "output_type": "stream",
       "stream": "stdout",
       "text": [
        "\r",
        ">>Record: 425\r",
        ">>Record: 426\r",
        ">>Record: 427\r",
        ">>Record: 428\r",
        ">>Record: 429\r",
        ">>Record: 430\r",
        ">>Record: 431\r",
        ">>Record: 432\r",
        ">>Record: 433\r",
        ">>Record: 434\r",
        ">>Record: 435\r",
        ">>Record: 436\r",
        ">>Record: 437\r",
        ">>Record: 438\r",
        ">>Record: 439\r",
        ">>Record: 440\r",
        ">>Record: 441\r",
        ">>Record: 442\r",
        ">>Record: 443\r",
        ">>Record: 444"
       ]
      },
      {
       "output_type": "stream",
       "stream": "stdout",
       "text": [
        "\r",
        ">>Record: 445\r",
        ">>Record: 446\r",
        ">>Record: 447\r",
        ">>Record: 448\r",
        ">>Record: 449"
       ]
      },
      {
       "output_type": "stream",
       "stream": "stdout",
       "text": [
        "\r",
        ">>Record: 450\r",
        ">>Record: 451\r",
        ">>Record: 452\r",
        ">>Record: 453\r",
        ">>Record: 454\r",
        ">>Record: 455\r",
        ">>Record: 456\r",
        ">>Record: 457\r",
        ">>Record: 458\r",
        ">>Record: 459\r",
        ">>Record: 460\r",
        ">>Record: 461\r",
        ">>Record: 462\r",
        ">>Record: 463"
       ]
      },
      {
       "output_type": "stream",
       "stream": "stdout",
       "text": [
        "\r",
        ">>Record: 464\r",
        ">>Record: 465\r",
        ">>Record: 466\r",
        ">>Record: 467\r",
        ">>Record: 468\r",
        ">>Record: 469\r",
        ">>Record: 470\r",
        ">>Record: 471\r",
        ">>Record: 472\r",
        ">>Record: 473\r",
        ">>Record: 474\r",
        ">>Record: 475\r",
        ">>Record: 476\r",
        ">>Record: 477\r",
        ">>Record: 478\r",
        ">>Record: 479\r",
        ">>Record: 480\r",
        ">>Record: 481\r",
        ">>Record: 482\r",
        ">>Record: 483\r",
        ">>Record: 484"
       ]
      },
      {
       "output_type": "stream",
       "stream": "stdout",
       "text": [
        "\r",
        ">>Record: 485\r",
        ">>Record: 486\r",
        ">>Record: 487\r",
        ">>Record: 488\r",
        ">>Record: 489\r",
        ">>Record: 490"
       ]
      },
      {
       "output_type": "stream",
       "stream": "stdout",
       "text": [
        "\r",
        ">>Record: 491\r",
        ">>Record: 492\r",
        ">>Record: 493\r",
        ">>Record: 494\r",
        ">>Record: 495\r",
        ">>Record: 496\r",
        ">>Record: 497\r",
        ">>Record: 498\r",
        ">>Record: 499\r",
        ">>Record: 500\r",
        ">>Record: 501\r",
        ">>Record: 502\r",
        ">>Record: 503\r",
        ">>Record: 504\r",
        ">>Record: 505\r",
        ">>Record: 506\r",
        ">>Record: 507\r",
        ">>Record: 508\r",
        ">>Record: 509\r",
        ">>Record: 510\r",
        ">>Record: 511\r",
        ">>Record: 512\r",
        ">>Record: 513\r",
        ">>Record: 514\r",
        ">>Record: 515\r",
        ">>Record: 516\r",
        ">>Record: 517\r",
        ">>Record: 518\r",
        ">>Record: 519\r",
        ">>Record: 520\r",
        ">>Record: 521\r",
        ">>Record: 522\r",
        ">>Record: 523\r",
        ">>Record: 524\r",
        ">>Record: 525\r",
        ">>Record: 526\r",
        ">>Record: 527\r",
        ">>Record: 528\r",
        ">>Record: 529\r",
        ">>Record: 530\r",
        ">>Record: 531\r",
        ">>Record: 532\r",
        ">>Record: 533\r",
        ">>Record: 534\r",
        ">>Record: 535\r",
        ">>Record: 536\r",
        ">>Record: 537\r",
        ">>Record: 538\r",
        ">>Record: 539\r",
        ">>Record: 540\r",
        ">>Record: 541\r",
        ">>Record: 542\r",
        ">>Record: 543\r",
        ">>Record: 544"
       ]
      },
      {
       "output_type": "stream",
       "stream": "stdout",
       "text": [
        "\r",
        ">>Record: 545\r",
        ">>Record: 546\r",
        ">>Record: 547\r",
        ">>Record: 548\r",
        ">>Record: 549\r",
        ">>Record: 550"
       ]
      },
      {
       "output_type": "stream",
       "stream": "stdout",
       "text": [
        "\r",
        ">>Record: 551\r",
        ">>Record: 552\r",
        ">>Record: 553\r",
        ">>Record: 554\r",
        ">>Record: 555\r",
        ">>Record: 556\r",
        ">>Record: 557\r",
        ">>Record: 558\r",
        ">>Record: 559\r",
        ">>Record: 560\r",
        ">>Record: 561\r",
        ">>Record: 562\r",
        ">>Record: 563\r",
        ">>Record: 564\r",
        ">>Record: 565\r",
        ">>Record: 566\r",
        ">>Record: 567\r",
        ">>Record: 568\r",
        ">>Record: 569\r",
        ">>Record: 570\r",
        ">>Record: 571\r",
        ">>Record: 572\r",
        ">>Record: 573\r",
        ">>Record: 574\r",
        ">>Record: 575\r",
        ">>Record: 576\r",
        ">>Record: 577"
       ]
      },
      {
       "output_type": "stream",
       "stream": "stdout",
       "text": [
        "\r",
        ">>Record: 578\r",
        ">>Record: 579\r",
        ">>Record: 580\r",
        ">>Record: 581\r",
        ">>Record: 582\r",
        ">>Record: 583\r",
        ">>Record: 584\r",
        ">>Record: 585\r",
        ">>Record: 586\r",
        ">>Record: 587\r",
        ">>Record: 588\r",
        ">>Record: 589"
       ]
      },
      {
       "output_type": "stream",
       "stream": "stdout",
       "text": [
        "\r",
        ">>Record: 590\r",
        ">>Record: 591"
       ]
      },
      {
       "output_type": "stream",
       "stream": "stdout",
       "text": [
        "\r",
        ">>Record: 592\r",
        ">>Record: 593\r",
        ">>Record: 594\r",
        ">>Record: 595"
       ]
      },
      {
       "output_type": "stream",
       "stream": "stdout",
       "text": [
        "\r",
        ">>Record: 596\r",
        ">>Record: 597\r",
        ">>Record: 598\r",
        ">>Record: 599\r",
        ">>Record: 600\r",
        ">>Record: 601"
       ]
      },
      {
       "output_type": "stream",
       "stream": "stdout",
       "text": [
        "\r",
        ">>Record: 602\r",
        ">>Record: 603\r",
        ">>Record: 604\r",
        ">>Record: 605\r",
        ">>Record: 606\r",
        ">>Record: 607"
       ]
      },
      {
       "output_type": "stream",
       "stream": "stdout",
       "text": [
        "\r",
        ">>Record: 608\r",
        ">>Record: 609\r",
        ">>Record: 610"
       ]
      },
      {
       "output_type": "stream",
       "stream": "stdout",
       "text": [
        "\r",
        ">>Record: 611\r",
        ">>Record: 612\r",
        ">>Record: 613\r",
        ">>Record: 614\r",
        ">>Record: 615"
       ]
      },
      {
       "output_type": "stream",
       "stream": "stdout",
       "text": [
        "\r",
        ">>Record: 616\r",
        ">>Record: 617\r",
        ">>Record: 618"
       ]
      },
      {
       "output_type": "stream",
       "stream": "stdout",
       "text": [
        "\r",
        ">>Record: 619\r",
        ">>Record: 620\r",
        ">>Record: 621\r",
        ">>Record: 622"
       ]
      },
      {
       "output_type": "stream",
       "stream": "stdout",
       "text": [
        "\r",
        ">>Record: 623\r",
        ">>Record: 624\r",
        ">>Record: 625"
       ]
      },
      {
       "output_type": "stream",
       "stream": "stdout",
       "text": [
        "\r",
        ">>Record: 626\r",
        ">>Record: 627\r",
        ">>Record: 628"
       ]
      },
      {
       "output_type": "stream",
       "stream": "stdout",
       "text": [
        "\r",
        ">>Record: 629\r",
        ">>Record: 630\r",
        ">>Record: 631\r",
        ">>Record: 632"
       ]
      },
      {
       "output_type": "stream",
       "stream": "stdout",
       "text": [
        "\r",
        ">>Record: 633\r",
        ">>Record: 634\r",
        ">>Record: 635\r",
        ">>Record: 636\r",
        ">>Record: 637\r",
        ">>Record: 638\r",
        ">>Record: 639\r",
        ">>Record: 640"
       ]
      },
      {
       "output_type": "stream",
       "stream": "stdout",
       "text": [
        "\r",
        ">>Record: 641\r",
        ">>Record: 642\r",
        ">>Record: 643"
       ]
      },
      {
       "output_type": "stream",
       "stream": "stdout",
       "text": [
        "\r",
        ">>Record: 644\r",
        ">>Record: 645"
       ]
      },
      {
       "output_type": "stream",
       "stream": "stdout",
       "text": [
        "\r",
        ">>Record: 646\r",
        ">>Record: 647\r",
        ">>Record: 648\r",
        ">>Record: 649\r",
        ">>Record: 650\r",
        ">>Record: 651\r",
        ">>Record: 652"
       ]
      },
      {
       "output_type": "stream",
       "stream": "stdout",
       "text": [
        "\r",
        ">>Record: 653\r",
        ">>Record: 654\r",
        ">>Record: 655"
       ]
      },
      {
       "output_type": "stream",
       "stream": "stdout",
       "text": [
        "\r",
        ">>Record: 656\r",
        ">>Record: 657\r",
        ">>Record: 658"
       ]
      },
      {
       "output_type": "stream",
       "stream": "stdout",
       "text": [
        "\r",
        ">>Record: 659\r",
        ">>Record: 660\r",
        ">>Record: 661\r",
        ">>Record: 662\r",
        ">>Record: 663\r",
        ">>Record: 664\r",
        ">>Record: 665\r",
        ">>Record: 666\r",
        ">>Record: 667"
       ]
      },
      {
       "output_type": "stream",
       "stream": "stdout",
       "text": [
        "\r",
        ">>Record: 668\r",
        ">>Record: 669\r",
        ">>Record: 670\r",
        ">>Record: 671\r",
        ">>Record: 672\r",
        ">>Record: 673\r",
        ">>Record: 674\r",
        ">>Record: 675"
       ]
      },
      {
       "output_type": "stream",
       "stream": "stdout",
       "text": [
        "\r",
        ">>Record: 676\r",
        ">>Record: 677\r",
        ">>Record: 678\r",
        ">>Record: 679"
       ]
      },
      {
       "output_type": "stream",
       "stream": "stdout",
       "text": [
        "\r",
        ">>Record: 680\r",
        ">>Record: 681\r",
        ">>Record: 682\r",
        ">>Record: 683\r",
        ">>Record: 684\r",
        ">>Record: 685\r",
        ">>Record: 686"
       ]
      },
      {
       "output_type": "stream",
       "stream": "stdout",
       "text": [
        "\r",
        ">>Record: 687\r",
        ">>Record: 688\r",
        ">>Record: 689\r",
        ">>Record: 690\r",
        ">>Record: 691"
       ]
      },
      {
       "output_type": "stream",
       "stream": "stdout",
       "text": [
        "\r",
        ">>Record: 692\r",
        ">>Record: 693\r",
        ">>Record: 694"
       ]
      },
      {
       "output_type": "stream",
       "stream": "stdout",
       "text": [
        "\r",
        ">>Record: 695\r",
        ">>Record: 696\r",
        ">>Record: 697"
       ]
      },
      {
       "output_type": "stream",
       "stream": "stdout",
       "text": [
        "\r",
        ">>Record: 698\r",
        ">>Record: 699\r",
        ">>Record: 700\r",
        ">>Record: 701"
       ]
      },
      {
       "output_type": "stream",
       "stream": "stdout",
       "text": [
        "\r",
        ">>Record: 702\r",
        ">>Record: 703\r",
        ">>Record: 704\r",
        ">>Record: 705\r",
        ">>Record: 706"
       ]
      },
      {
       "output_type": "stream",
       "stream": "stdout",
       "text": [
        "\r",
        ">>Record: 707\r",
        ">>Record: 708\r",
        ">>Record: 709\r",
        ">>Record: 710\r",
        ">>Record: 711\r",
        ">>Record: 712"
       ]
      },
      {
       "output_type": "stream",
       "stream": "stdout",
       "text": [
        "\r",
        ">>Record: 713\r",
        ">>Record: 714\r",
        ">>Record: 715\r",
        ">>Record: 716\r",
        ">>Record: 717\r",
        ">>Record: 718\r",
        ">>Record: 719\r",
        ">>Record: 720\r",
        ">>Record: 721"
       ]
      },
      {
       "output_type": "stream",
       "stream": "stdout",
       "text": [
        "\r",
        ">>Record: 722\r",
        ">>Record: 723\r",
        ">>Record: 724\r",
        ">>Record: 725\r",
        ">>Record: 726"
       ]
      },
      {
       "output_type": "stream",
       "stream": "stdout",
       "text": [
        "\r",
        ">>Record: 727\r",
        ">>Record: 728\r",
        ">>Record: 729\r",
        ">>Record: 730\r",
        ">>Record: 731"
       ]
      },
      {
       "output_type": "stream",
       "stream": "stdout",
       "text": [
        "\r",
        ">>Record: 732\r",
        ">>Record: 733\r",
        ">>Record: 734\r",
        ">>Record: 735"
       ]
      },
      {
       "output_type": "stream",
       "stream": "stdout",
       "text": [
        "\r",
        ">>Record: 736\r",
        ">>Record: 737\r",
        ">>Record: 738\r",
        ">>Record: 739\r",
        ">>Record: 740\r",
        ">>Record: 741\r",
        ">>Record: 742\r",
        ">>Record: 743\r",
        ">>Record: 744\r",
        ">>Record: 745"
       ]
      },
      {
       "output_type": "stream",
       "stream": "stdout",
       "text": [
        "\r",
        ">>Record: 746\r",
        ">>Record: 747\r",
        ">>Record: 748\r",
        ">>Record: 749\r",
        ">>Record: 750\r",
        ">>Record: 751\r",
        ">>Record: 752\r",
        ">>Record: 753\r",
        ">>Record: 754\r",
        ">>Record: 755\r",
        ">>Record: 756\r",
        ">>Record: 757"
       ]
      },
      {
       "output_type": "stream",
       "stream": "stdout",
       "text": [
        "\r",
        ">>Record: 758\r",
        ">>Record: 759\r",
        ">>Record: 760\r",
        ">>Record: 761"
       ]
      },
      {
       "output_type": "stream",
       "stream": "stdout",
       "text": [
        "\r",
        ">>Record: 762\r",
        ">>Record: 763\r",
        ">>Record: 764\r",
        ">>Record: 765\r",
        ">>Record: 766\r",
        ">>Record: 767\r",
        ">>Record: 768\r",
        ">>Record: 769"
       ]
      },
      {
       "output_type": "stream",
       "stream": "stdout",
       "text": [
        "\r",
        ">>Record: 770\r",
        ">>Record: 771\r",
        ">>Record: 772\r",
        ">>Record: 773\r",
        ">>Record: 774"
       ]
      },
      {
       "output_type": "stream",
       "stream": "stdout",
       "text": [
        "\r",
        ">>Record: 775\r",
        ">>Record: 776\r",
        ">>Record: 777\r",
        ">>Record: 778\r",
        ">>Record: 779\r",
        ">>Record: 780\r",
        ">>Record: 781\r",
        ">>Record: 782"
       ]
      },
      {
       "output_type": "stream",
       "stream": "stdout",
       "text": [
        "\r",
        ">>Record: 783\r",
        ">>Record: 784\r",
        ">>Record: 785\r",
        ">>Record: 786\r",
        ">>Record: 787\r",
        ">>Record: 788\r",
        ">>Record: 789\r",
        ">>Record: 790"
       ]
      },
      {
       "output_type": "stream",
       "stream": "stdout",
       "text": [
        "\r",
        ">>Record: 791\r",
        ">>Record: 792\r",
        ">>Record: 793\r",
        ">>Record: 794\r",
        ">>Record: 795\r",
        ">>Record: 796"
       ]
      },
      {
       "output_type": "stream",
       "stream": "stdout",
       "text": [
        "\r",
        ">>Record: 797\r",
        ">>Record: 798\r",
        ">>Record: 799\r",
        ">>Record: 800\r",
        ">>Record: 801"
       ]
      },
      {
       "output_type": "stream",
       "stream": "stdout",
       "text": [
        "\r",
        ">>Record: 802\r",
        ">>Record: 803\r",
        ">>Record: 804\r",
        ">>Record: 805\r",
        ">>Record: 806\r",
        ">>Record: 807\r",
        ">>Record: 808\r",
        ">>Record: 809\r",
        ">>Record: 810\r",
        ">>Record: 811"
       ]
      },
      {
       "output_type": "stream",
       "stream": "stdout",
       "text": [
        "\r",
        ">>Record: 812\r",
        ">>Record: 813\r",
        ">>Record: 814"
       ]
      },
      {
       "output_type": "stream",
       "stream": "stdout",
       "text": [
        "\r",
        ">>Record: 815\r",
        ">>Record: 816\r",
        ">>Record: 817\r",
        ">>Record: 818\r",
        ">>Record: 819\r",
        ">>Record: 820"
       ]
      },
      {
       "output_type": "stream",
       "stream": "stdout",
       "text": [
        "\r",
        ">>Record: 821\r",
        ">>Record: 822\r",
        ">>Record: 823\r",
        ">>Record: 824\r",
        ">>Record: 825\r",
        ">>Record: 826\r",
        ">>Record: 827\r",
        ">>Record: 828\r",
        ">>Record: 829\r",
        ">>Record: 830\r",
        ">>Record: 831\r",
        ">>Record: 832\r",
        ">>Record: 833\r",
        ">>Record: 834\r",
        ">>Record: 835"
       ]
      },
      {
       "output_type": "stream",
       "stream": "stdout",
       "text": [
        "\r",
        ">>Record: 836\r",
        ">>Record: 837\r",
        ">>Record: 838\r",
        ">>Record: 839\r",
        ">>Record: 840\r",
        ">>Record: 841\r",
        ">>Record: 842\r",
        ">>Record: 843\r",
        ">>Record: 844"
       ]
      },
      {
       "output_type": "stream",
       "stream": "stdout",
       "text": [
        "\r",
        ">>Record: 845\r",
        ">>Record: 846\r",
        ">>Record: 847\r",
        ">>Record: 848\r",
        ">>Record: 849\r",
        ">>Record: 850"
       ]
      },
      {
       "output_type": "stream",
       "stream": "stdout",
       "text": [
        "\r",
        ">>Record: 851\r",
        ">>Record: 852\r",
        ">>Record: 853\r",
        ">>Record: 854\r",
        ">>Record: 855\r",
        ">>Record: 856"
       ]
      },
      {
       "output_type": "stream",
       "stream": "stdout",
       "text": [
        "\r",
        ">>Record: 857\r",
        ">>Record: 858\r",
        ">>Record: 859\r",
        ">>Record: 860"
       ]
      },
      {
       "output_type": "stream",
       "stream": "stdout",
       "text": [
        "\r",
        ">>Record: 861\r",
        ">>Record: 862\r",
        ">>Record: 863\r",
        ">>Record: 864"
       ]
      },
      {
       "output_type": "stream",
       "stream": "stdout",
       "text": [
        "\r",
        ">>Record: 865\r",
        ">>Record: 866\r",
        ">>Record: 867\r",
        ">>Record: 868\r",
        ">>Record: 869\r",
        ">>Record: 870\r",
        ">>Record: 871\r",
        ">>Record: 872\r",
        ">>Record: 873\r",
        ">>Record: 874"
       ]
      },
      {
       "output_type": "stream",
       "stream": "stdout",
       "text": [
        "\r",
        ">>Record: 875\r",
        ">>Record: 876\r",
        ">>Record: 877\r",
        ">>Record: 878\r",
        ">>Record: 879\r",
        ">>Record: 880"
       ]
      },
      {
       "output_type": "stream",
       "stream": "stdout",
       "text": [
        "\r",
        ">>Record: 881\r",
        ">>Record: 882\r",
        ">>Record: 883\r",
        ">>Record: 884\r",
        ">>Record: 885\r",
        ">>Record: 886\r",
        ">>Record: 887\r",
        ">>Record: 888\r",
        ">>Record: 889\r",
        ">>Record: 890\r",
        ">>Record: 891\r",
        ">>Record: 892"
       ]
      },
      {
       "output_type": "stream",
       "stream": "stdout",
       "text": [
        "\r",
        ">>Record: 893\r",
        ">>Record: 894\r",
        ">>Record: 895\r",
        ">>Record: 896\r",
        ">>Record: 897\r",
        ">>Record: 898"
       ]
      },
      {
       "output_type": "stream",
       "stream": "stdout",
       "text": [
        "\r",
        ">>Record: 899\r",
        ">>Record: 900\r",
        ">>Record: 901\r",
        ">>Record: 902\r",
        ">>Record: 903\r",
        ">>Record: 904\r",
        ">>Record: 905\r",
        ">>Record: 906\r",
        ">>Record: 907"
       ]
      },
      {
       "output_type": "stream",
       "stream": "stdout",
       "text": [
        "\r",
        ">>Record: 908\r",
        ">>Record: 909\r",
        ">>Record: 910\r",
        ">>Record: 911\r",
        ">>Record: 912\r",
        ">>Record: 913\r",
        ">>Record: 914\r",
        ">>Record: 915"
       ]
      },
      {
       "output_type": "stream",
       "stream": "stdout",
       "text": [
        "\r",
        ">>Record: 916\r",
        ">>Record: 917\r",
        ">>Record: 918\r",
        ">>Record: 919"
       ]
      },
      {
       "output_type": "stream",
       "stream": "stdout",
       "text": [
        "\r",
        ">>Record: 920\r",
        ">>Record: 921\r",
        ">>Record: 922\r",
        ">>Record: 923\r",
        ">>Record: 924\r",
        ">>Record: 925\r",
        ">>Record: 926\r",
        ">>Record: 927\r",
        ">>Record: 928\r",
        ">>Record: 929\r",
        ">>Record: 930\r",
        ">>Record: 931"
       ]
      },
      {
       "output_type": "stream",
       "stream": "stdout",
       "text": [
        "\r",
        ">>Record: 932\r",
        ">>Record: 933\r",
        ">>Record: 934\r",
        ">>Record: 935\r",
        ">>Record: 936\r",
        ">>Record: 937\r",
        ">>Record: 938\r",
        ">>Record: 939\r",
        ">>Record: 940\r",
        ">>Record: 941"
       ]
      },
      {
       "output_type": "stream",
       "stream": "stdout",
       "text": [
        "\r",
        ">>Record: 942\r",
        ">>Record: 943\r",
        ">>Record: 944\r",
        ">>Record: 945\r",
        ">>Record: 946\r",
        ">>Record: 947\r",
        ">>Record: 948\r",
        ">>Record: 949\r",
        ">>Record: 950\r",
        ">>Record: 951\r",
        ">>Record: 952"
       ]
      },
      {
       "output_type": "stream",
       "stream": "stdout",
       "text": [
        "\r",
        ">>Record: 953\r",
        ">>Record: 954\r",
        ">>Record: 955\r",
        ">>Record: 956\r",
        ">>Record: 957\r",
        ">>Record: 958\r",
        ">>Record: 959\r",
        ">>Record: 960\r",
        ">>Record: 961\r",
        ">>Record: 962\r",
        ">>Record: 963\r",
        ">>Record: 964"
       ]
      },
      {
       "output_type": "stream",
       "stream": "stdout",
       "text": [
        "\r",
        ">>Record: 965\r",
        ">>Record: 966\r",
        ">>Record: 967\r",
        ">>Record: 968\r",
        ">>Record: 969\r",
        ">>Record: 970"
       ]
      },
      {
       "output_type": "stream",
       "stream": "stdout",
       "text": [
        "\r",
        ">>Record: 971\r",
        ">>Record: 972\r",
        ">>Record: 973\r",
        ">>Record: 974"
       ]
      },
      {
       "output_type": "stream",
       "stream": "stdout",
       "text": [
        "\r",
        ">>Record: 975\r",
        ">>Record: 976\r",
        ">>Record: 977\r",
        ">>Record: 978\r",
        ">>Record: 979"
       ]
      },
      {
       "output_type": "stream",
       "stream": "stdout",
       "text": [
        "\r",
        ">>Record: 980\r",
        ">>Record: 981\r",
        ">>Record: 982\r",
        ">>Record: 983\r",
        ">>Record: 984\r",
        ">>Record: 985\r",
        ">>Record: 986\r",
        ">>Record: 987\r",
        ">>Record: 988"
       ]
      },
      {
       "output_type": "stream",
       "stream": "stdout",
       "text": [
        "\r",
        ">>Record: 989\r",
        ">>Record: 990\r",
        ">>Record: 991\r",
        ">>Record: 992\r",
        ">>Record: 993\r",
        ">>Record: 994"
       ]
      },
      {
       "output_type": "stream",
       "stream": "stdout",
       "text": [
        "\r",
        ">>Record: 995\r",
        ">>Record: 996\r",
        ">>Record: 997\r",
        ">>Record: 998\r",
        ">>Record: 999CPU times: user 875 ms, sys: 386 ms, total: 1.26 s"
       ]
      },
      {
       "output_type": "stream",
       "stream": "stdout",
       "text": [
        "\n",
        "Wall time: 23.1 s\n"
       ]
      },
      {
       "metadata": {},
       "output_type": "pyout",
       "prompt_number": 50,
       "text": [
        "Counter({u'abcnews.go.com': 81, u'adultfriendfinder.com': 60, u'abclocal.go.com': 39, u'abc.go.com': 39, u'6dollarshirts.com': 21, u'advrider.com': 21, u'abcvacuumwarehouse.com': 15, u'accompl.sh': 12, u'98kupd.com': 12, u'8tracks.com': 12, u'aas.org': 12, u'advogato.org': 9, u'17hmr.net': 9, u'aei.pitt.edu': 9, u'965tic.cbslocal.com': 6, u'20somethingfinance.com': 6, u'adirondackdailyenterprise.com': 6, u'961joyfm.com': 6, u'about.me': 6, u'absolutepunk.net': 6, u'advancedstyle.blogspot.com': 6, u'0x20.be': 6, u'1063thebuzz.com': 6, u'advanceindiana.blogspot.com': 6, u'961wodz.com': 6, u'af.wikipedia.org': 6, u'1019ampradio.cbslocal.com': 6, u'ainonline.com': 6, u'adage.com': 6, u'999ktdy.com': 6, u'0.static.wix.com': 6, u'activemq.apache.org': 6, u'0.r.msn.com': 6, u'941wvic.com': 6, u'1000threadsblog.com': 3, u'30fps.mocksession.com': 3, u'adr.coalliance.org': 3, u'206-123-105-208.static.directrouter.com': 3, u'a1realty.biz': 3, u'adastrum.kansascity.com': 3, u'987ampradio.cbslocal.com': 3, u'acoupletshort.tumblr.com': 3, u'actofstyle.com': 3, u'abh21.wordpress.com': 3, u'4raovat.com': 3, u'4malibu.com': 3, u'abletonlover.blogspot.be': 3, u'aclu.procon.org': 3, u'access2010.lib.umanitoba.ca': 3, u'991thewhale.com': 3, u'activactor.wordpress.com': 3, u'accounts.nflrush.com': 3, u'6stonejars.com': 3, u'ad.jamster.com': 3, u'aboutlincolncenter.org': 3, u'account.toywiz.com': 3, u'3dgameman.com': 3, u'adoororebelde.blogspot.com': 3, u'2point8.whileseated.org': 3, u'act.alz.org': 3, u'adolescent-psychiatry.org': 3, u'affiliates.playboy.com': 3, u'aichallenge.org': 3, u'addicted2success.com': 3, u'142throckmorton.inticketing.com': 3, u'4hourpeople.com': 3, u'008safeworld.tumblr.com': 3, u'aggiestuck.tumblr.com': 3, u'action.humanesociety.org': 3, u'adventurescoutsusa.org': 3, u'710keel.com': 3, u'activity-logger.sourceforge.net': 3, u'abcnewspapers.com': 3, u'africasacountry.com': 3, u'ahmetsefika2.meb.k12.tr': 3, u'64dd.net': 3, u'airborneparainf82.blogspot.com': 3, u'247sports.com': 3, u'acworth.patch.com': 3, u'ajlopez.wordpress.com': 3, u'adesignaward.com': 3, u'admission@govst.edu': 3, u'ajgates91.tumblr.com': 3, u'academia.stackexchange.com': 3, u'academyofbards.org': 3, u'academicdepartments.musc.edu': 3, u'Carriertotalplc@engineer.com': 3, u'7500toholte.sbnation.com': 3, u'13door.com': 3, u'11o6.tumblr.com': 3, u'agplaythings.proboards.com': 3, u'abcfamily.go.com': 3, u'accleague.org': 3, u'a1spiceworld.com': 3, u'academictips.org': 3, u'adindex.phoenixnewtimes.com': 3, u'3dbrew.org': 3, u'achilles.sourceforge.net': 3, u'560wgan.com': 3, u'afresa.blogspot.com': 3, u'acevola.blogspot.com': 3, u'500px.com': 3, u'2headedsnake.tumblr.com': 3, u'6930.arrivesafeautos.com': 3, u'28cooks.blogspot.com': 3, u'2til3.blogspot.com': 3, u'11870.com': 3, u'2009.igem.org': 3, u'4thebest.clickondetroit.com': 3, u'98country.com': 3, u'adventuresinmontana.com': 3, u'abzhakim.blogspot.com': 3, u'abctickets.com': 3, u'Peter.Boyer@cgu.edu': 3, u'80sfreak.tumblr.com': 3, u'adindex.westword.com': 3, u'ads.ahds.ac.uk': 3, u'1350kman.com': 3, u'2strokebuzz.com': 3, u'ag.idaho.gov': 3, u'accustaffbirmingham.com': 3, u'36autoscuole.com': 3, u'afj.convio.net': 3, u'afamily.vn': 3, u'admiralbubbles.deviantart.com': 3, u'995blakefm.com': 3, u'a-me-n-fashion.tumblr.com': 3, u'98kool.com': 3, u'a.espncdn.com': 3, u'0351de3.netsolhost.com': 3, u'aftergiovanni.blogspot.com': 3, u'6adnus0.freehost.pl': 3, u'4umf.com': 3, u'adindex.villagevoice.com': 3, u'abllab.com': 3, u'1029thebuzz.com': 3, u'agralphapsi.com': 3, u'aero-hose.com': 3, u'Janice.Nagtegaal@ufv.ca': 3, u'about.bankofamerica.com': 3, u'365daysofsexy.tumblr.com': 3, u'4alexander.tumblr.com': 3, u'1caseycolette.blogspot.com': 3, u'442.perfil.com': 3, u'aflnz.co.nz': 3, u'airportlanesjackson.com': 3, u'ag.arizona.edu': 3, u'agc-blog.agc.gov.my': 3, u'adindex.sfweekly.com': 3, u'accent.gmu.edu': 3, u'a-pair-of-harts.tumblr.com': 3, u'02809photo.com': 3, u'afpmadison.afpnet.org': 3, u'103gbfrocks.com': 3, u'1150kknw.com': 3, u'8asians.tumblr.com': 3, u'afrique.kongotimes.info': 3, u'5persen.com': 3, u'adf.ly': 3, u'5minutebookreport.blogspot.com': 3, u'aaronjhill.wordpress.com': 3, u'achdidaho.org': 3, u'21stcenturywaves.com': 3, u'acejocson.tumblr.com': 3, u'adrienmezsi.com': 3, u'ajilbab.com': 3, u'aeromotiveinc.com': 3, u'973thedawg.com': 3, u'addictedtolipstick.blogspot.com': 3, u'acme.com': 3, u'56bogart.tumblr.com': 3, u'advocacy.britannica.com': 3, u'1690wmlb.com': 3, u'100nudists.info': 3, u'929nin.com': 3, u'agert.homelinux.org': 3, u'1045theteam.com': 3, u'239.192.152.143.ipaddress.com': 3, u'agromaret.com': 3, u'afro.com': 3, u'1037theloon.com': 3, u'abilitypc.com': 3, u'5200.net': 3, u'3docean.net': 3, u'abs.gov.au': 3, u'academeblog@aaup.org': 3, u'100votos.com': 3, u'5w.fi': 3, u'93rockon.com': 3, u'18b-gouttedor.scola.ac-paris.fr': 3, u'adamkapela.com': 3, u'aeon.co': 3, u'action.lung.org': 3, u'80breakfasts.blogspot.com': 3, u'afhs.ab.ca': 3, u'advisorperspectives.com': 3, u'925.nl': 3, u'afripopmag.com': 3, u'ajw.asahi.com': 3, u'2131andbeyond.mlblogs.com': 3, u'achahockey.org': 3, u'aals.org.cnchost.com': 3, u'actbus.net': 3, u'aecoplevante.es': 3, u'2ndstreethall.com': 3, u'24timezones.com': 3, u'abcsandgardenpeas.com': 3, u'agora.qc.ca': 3, u'abovethelaw.com': 3, u'aka.kite.org': 2, None: 1})"
       ]
      }
     ],
     "prompt_number": 50
    },
    {
     "cell_type": "code",
     "collapsed": false,
     "input": [
      "# rewrite dropping Counter to use defaultdict\n",
      "# http://evanmuehlhausen.com/simple-counters-in-python-with-benchmarks/ suggests Counter is slow\n",
      "\n",
      "import urlparse\n",
      "from collections import defaultdict\n",
      "\n",
      "counter = defaultdict(int)\n",
      "\n",
      "def netloc_count_for_segment_dd(segment_id, limit=None):\n",
      "\n",
      "    c = defaultdict(int)\n",
      "    \n",
      "    for (i, record) in enumerate(warc_records(segment_id,limit)):\n",
      "\n",
      "        print (\"\\r>>Record: %d\" % i, end=\"\")\n",
      "        s = record.payload.read()\n",
      "        if record.header.get('content-type') == 'application/json':\n",
      "            payload = json.loads(s)\n",
      "            url = payload['Envelope']['WARC-Header-Metadata'].get('WARC-Target-URI')\n",
      "            if url:\n",
      "                netloc = urlparse.urlparse(url).netloc\n",
      "                c[netloc] += 1\n",
      "            else:\n",
      "                c[None] += 1\n",
      "\n",
      "    return c"
     ],
     "language": "python",
     "metadata": {},
     "outputs": [],
     "prompt_number": 51
    },
    {
     "cell_type": "code",
     "collapsed": false,
     "input": [
      "%time netloc_count_for_segment_dd(wat_segments[0],1000)"
     ],
     "language": "python",
     "metadata": {},
     "outputs": [
      {
       "output_type": "stream",
       "stream": "stdout",
       "text": [
        "\r",
        ">>Record: 0\r",
        ">>Record: 1\r",
        ">>Record: 2\r",
        ">>Record: 3\r",
        ">>Record: 4\r",
        ">>Record: 5"
       ]
      },
      {
       "output_type": "stream",
       "stream": "stdout",
       "text": [
        "\r",
        ">>Record: 6\r",
        ">>Record: 7\r",
        ">>Record: 8\r",
        ">>Record: 9\r",
        ">>Record: 10"
       ]
      },
      {
       "output_type": "stream",
       "stream": "stdout",
       "text": [
        "\r",
        ">>Record: 11\r",
        ">>Record: 12\r",
        ">>Record: 13\r",
        ">>Record: 14\r",
        ">>Record: 15\r",
        ">>Record: 16\r",
        ">>Record: 17\r",
        ">>Record: 18\r",
        ">>Record: 19"
       ]
      },
      {
       "output_type": "stream",
       "stream": "stdout",
       "text": [
        "\r",
        ">>Record: 20\r",
        ">>Record: 21\r",
        ">>Record: 22\r",
        ">>Record: 23\r",
        ">>Record: 24\r",
        ">>Record: 25\r",
        ">>Record: 26\r",
        ">>Record: 27\r",
        ">>Record: 28\r",
        ">>Record: 29\r",
        ">>Record: 30\r",
        ">>Record: 31\r",
        ">>Record: 32\r",
        ">>Record: 33\r",
        ">>Record: 34\r",
        ">>Record: 35\r",
        ">>Record: 36\r",
        ">>Record: 37"
       ]
      },
      {
       "output_type": "stream",
       "stream": "stdout",
       "text": [
        "\r",
        ">>Record: 38\r",
        ">>Record: 39\r",
        ">>Record: 40\r",
        ">>Record: 41\r",
        ">>Record: 42\r",
        ">>Record: 43\r",
        ">>Record: 44\r",
        ">>Record: 45\r",
        ">>Record: 46\r",
        ">>Record: 47\r",
        ">>Record: 48\r",
        ">>Record: 49"
       ]
      },
      {
       "output_type": "stream",
       "stream": "stdout",
       "text": [
        "\r",
        ">>Record: 50\r",
        ">>Record: 51\r",
        ">>Record: 52\r",
        ">>Record: 53\r",
        ">>Record: 54\r",
        ">>Record: 55"
       ]
      },
      {
       "output_type": "stream",
       "stream": "stdout",
       "text": [
        "\r",
        ">>Record: 56\r",
        ">>Record: 57\r",
        ">>Record: 58\r",
        ">>Record: 59\r",
        ">>Record: 60\r",
        ">>Record: 61\r",
        ">>Record: 62"
       ]
      },
      {
       "output_type": "stream",
       "stream": "stdout",
       "text": [
        "\r",
        ">>Record: 63\r",
        ">>Record: 64\r",
        ">>Record: 65\r",
        ">>Record: 66\r",
        ">>Record: 67\r",
        ">>Record: 68"
       ]
      },
      {
       "output_type": "stream",
       "stream": "stdout",
       "text": [
        "\r",
        ">>Record: 69\r",
        ">>Record: 70"
       ]
      },
      {
       "output_type": "stream",
       "stream": "stdout",
       "text": [
        "\r",
        ">>Record: 71\r",
        ">>Record: 72\r",
        ">>Record: 73\r",
        ">>Record: 74\r",
        ">>Record: 75\r",
        ">>Record: 76"
       ]
      },
      {
       "output_type": "stream",
       "stream": "stdout",
       "text": [
        "\r",
        ">>Record: 77\r",
        ">>Record: 78\r",
        ">>Record: 79\r",
        ">>Record: 80\r",
        ">>Record: 81\r",
        ">>Record: 82"
       ]
      },
      {
       "output_type": "stream",
       "stream": "stdout",
       "text": [
        "\r",
        ">>Record: 83\r",
        ">>Record: 84\r",
        ">>Record: 85"
       ]
      },
      {
       "output_type": "stream",
       "stream": "stdout",
       "text": [
        "\r",
        ">>Record: 86\r",
        ">>Record: 87\r",
        ">>Record: 88"
       ]
      },
      {
       "output_type": "stream",
       "stream": "stdout",
       "text": [
        "\r",
        ">>Record: 89\r",
        ">>Record: 90"
       ]
      },
      {
       "output_type": "stream",
       "stream": "stdout",
       "text": [
        "\r",
        ">>Record: 91\r",
        ">>Record: 92\r",
        ">>Record: 93\r",
        ">>Record: 94\r",
        ">>Record: 95\r",
        ">>Record: 96\r",
        ">>Record: 97"
       ]
      },
      {
       "output_type": "stream",
       "stream": "stdout",
       "text": [
        "\r",
        ">>Record: 98\r",
        ">>Record: 99\r",
        ">>Record: 100\r",
        ">>Record: 101\r",
        ">>Record: 102\r",
        ">>Record: 103\r",
        ">>Record: 104\r",
        ">>Record: 105\r",
        ">>Record: 106"
       ]
      },
      {
       "output_type": "stream",
       "stream": "stdout",
       "text": [
        "\r",
        ">>Record: 107\r",
        ">>Record: 108\r",
        ">>Record: 109\r",
        ">>Record: 110\r",
        ">>Record: 111\r",
        ">>Record: 112\r",
        ">>Record: 113\r",
        ">>Record: 114\r",
        ">>Record: 115\r",
        ">>Record: 116\r",
        ">>Record: 117\r",
        ">>Record: 118\r",
        ">>Record: 119\r",
        ">>Record: 120\r",
        ">>Record: 121"
       ]
      },
      {
       "output_type": "stream",
       "stream": "stdout",
       "text": [
        "\r",
        ">>Record: 122\r",
        ">>Record: 123\r",
        ">>Record: 124\r",
        ">>Record: 125\r",
        ">>Record: 126\r",
        ">>Record: 127\r",
        ">>Record: 128\r",
        ">>Record: 129\r",
        ">>Record: 130"
       ]
      },
      {
       "output_type": "stream",
       "stream": "stdout",
       "text": [
        "\r",
        ">>Record: 131\r",
        ">>Record: 132\r",
        ">>Record: 133\r",
        ">>Record: 134\r",
        ">>Record: 135\r",
        ">>Record: 136\r",
        ">>Record: 137\r",
        ">>Record: 138\r",
        ">>Record: 139\r",
        ">>Record: 140\r",
        ">>Record: 141\r",
        ">>Record: 142\r",
        ">>Record: 143\r",
        ">>Record: 144\r",
        ">>Record: 145\r",
        ">>Record: 146\r",
        ">>Record: 147"
       ]
      },
      {
       "output_type": "stream",
       "stream": "stdout",
       "text": [
        "\r",
        ">>Record: 148\r",
        ">>Record: 149\r",
        ">>Record: 150\r",
        ">>Record: 151\r",
        ">>Record: 152"
       ]
      },
      {
       "output_type": "stream",
       "stream": "stdout",
       "text": [
        "\r",
        ">>Record: 153\r",
        ">>Record: 154\r",
        ">>Record: 155\r",
        ">>Record: 156\r",
        ">>Record: 157\r",
        ">>Record: 158\r",
        ">>Record: 159\r",
        ">>Record: 160"
       ]
      },
      {
       "output_type": "stream",
       "stream": "stdout",
       "text": [
        "\r",
        ">>Record: 161\r",
        ">>Record: 162\r",
        ">>Record: 163\r",
        ">>Record: 164\r",
        ">>Record: 165"
       ]
      },
      {
       "output_type": "stream",
       "stream": "stdout",
       "text": [
        "\r",
        ">>Record: 166\r",
        ">>Record: 167\r",
        ">>Record: 168\r",
        ">>Record: 169"
       ]
      },
      {
       "output_type": "stream",
       "stream": "stdout",
       "text": [
        "\r",
        ">>Record: 170\r",
        ">>Record: 171\r",
        ">>Record: 172"
       ]
      },
      {
       "output_type": "stream",
       "stream": "stdout",
       "text": [
        "\r",
        ">>Record: 173\r",
        ">>Record: 174\r",
        ">>Record: 175\r",
        ">>Record: 176\r",
        ">>Record: 177\r",
        ">>Record: 178"
       ]
      },
      {
       "output_type": "stream",
       "stream": "stdout",
       "text": [
        "\r",
        ">>Record: 179\r",
        ">>Record: 180\r",
        ">>Record: 181\r",
        ">>Record: 182\r",
        ">>Record: 183\r",
        ">>Record: 184"
       ]
      },
      {
       "output_type": "stream",
       "stream": "stdout",
       "text": [
        "\r",
        ">>Record: 185\r",
        ">>Record: 186\r",
        ">>Record: 187\r",
        ">>Record: 188\r",
        ">>Record: 189\r",
        ">>Record: 190"
       ]
      },
      {
       "output_type": "stream",
       "stream": "stdout",
       "text": [
        "\r",
        ">>Record: 191\r",
        ">>Record: 192"
       ]
      },
      {
       "output_type": "stream",
       "stream": "stdout",
       "text": [
        "\r",
        ">>Record: 193\r",
        ">>Record: 194\r",
        ">>Record: 195\r",
        ">>Record: 196\r",
        ">>Record: 197\r",
        ">>Record: 198\r",
        ">>Record: 199"
       ]
      },
      {
       "output_type": "stream",
       "stream": "stdout",
       "text": [
        "\r",
        ">>Record: 200\r",
        ">>Record: 201"
       ]
      },
      {
       "output_type": "stream",
       "stream": "stdout",
       "text": [
        "\r",
        ">>Record: 202\r",
        ">>Record: 203\r",
        ">>Record: 204\r",
        ">>Record: 205"
       ]
      },
      {
       "output_type": "stream",
       "stream": "stdout",
       "text": [
        "\r",
        ">>Record: 206\r",
        ">>Record: 207\r",
        ">>Record: 208"
       ]
      },
      {
       "output_type": "stream",
       "stream": "stdout",
       "text": [
        "\r",
        ">>Record: 209\r",
        ">>Record: 210\r",
        ">>Record: 211\r",
        ">>Record: 212\r",
        ">>Record: 213\r",
        ">>Record: 214\r",
        ">>Record: 215\r",
        ">>Record: 216\r",
        ">>Record: 217\r",
        ">>Record: 218\r",
        ">>Record: 219"
       ]
      },
      {
       "output_type": "stream",
       "stream": "stdout",
       "text": [
        "\r",
        ">>Record: 220\r",
        ">>Record: 221\r",
        ">>Record: 222\r",
        ">>Record: 223"
       ]
      },
      {
       "output_type": "stream",
       "stream": "stdout",
       "text": [
        "\r",
        ">>Record: 224\r",
        ">>Record: 225\r",
        ">>Record: 226\r",
        ">>Record: 227\r",
        ">>Record: 228\r",
        ">>Record: 229\r",
        ">>Record: 230\r",
        ">>Record: 231\r",
        ">>Record: 232\r",
        ">>Record: 233\r",
        ">>Record: 234\r",
        ">>Record: 235\r",
        ">>Record: 236\r",
        ">>Record: 237\r",
        ">>Record: 238\r",
        ">>Record: 239\r",
        ">>Record: 240\r",
        ">>Record: 241\r",
        ">>Record: 242\r",
        ">>Record: 243\r",
        ">>Record: 244"
       ]
      },
      {
       "output_type": "stream",
       "stream": "stdout",
       "text": [
        "\r",
        ">>Record: 245\r",
        ">>Record: 246\r",
        ">>Record: 247\r",
        ">>Record: 248\r",
        ">>Record: 249\r",
        ">>Record: 250\r",
        ">>Record: 251\r",
        ">>Record: 252\r",
        ">>Record: 253"
       ]
      },
      {
       "output_type": "stream",
       "stream": "stdout",
       "text": [
        "\r",
        ">>Record: 254\r",
        ">>Record: 255\r",
        ">>Record: 256\r",
        ">>Record: 257\r",
        ">>Record: 258\r",
        ">>Record: 259"
       ]
      },
      {
       "output_type": "stream",
       "stream": "stdout",
       "text": [
        "\r",
        ">>Record: 260\r",
        ">>Record: 261\r",
        ">>Record: 262\r",
        ">>Record: 263\r",
        ">>Record: 264\r",
        ">>Record: 265"
       ]
      },
      {
       "output_type": "stream",
       "stream": "stdout",
       "text": [
        "\r",
        ">>Record: 266\r",
        ">>Record: 267\r",
        ">>Record: 268\r",
        ">>Record: 269\r",
        ">>Record: 270\r",
        ">>Record: 271\r",
        ">>Record: 272\r",
        ">>Record: 273\r",
        ">>Record: 274\r",
        ">>Record: 275\r",
        ">>Record: 276\r",
        ">>Record: 277\r",
        ">>Record: 278\r",
        ">>Record: 279\r",
        ">>Record: 280\r",
        ">>Record: 281\r",
        ">>Record: 282\r",
        ">>Record: 283"
       ]
      },
      {
       "output_type": "stream",
       "stream": "stdout",
       "text": [
        "\r",
        ">>Record: 284\r",
        ">>Record: 285\r",
        ">>Record: 286\r",
        ">>Record: 287\r",
        ">>Record: 288\r",
        ">>Record: 289\r",
        ">>Record: 290\r",
        ">>Record: 291\r",
        ">>Record: 292"
       ]
      },
      {
       "output_type": "stream",
       "stream": "stdout",
       "text": [
        "\r",
        ">>Record: 293\r",
        ">>Record: 294\r",
        ">>Record: 295\r",
        ">>Record: 296\r",
        ">>Record: 297\r",
        ">>Record: 298\r",
        ">>Record: 299\r",
        ">>Record: 300\r",
        ">>Record: 301"
       ]
      },
      {
       "output_type": "stream",
       "stream": "stdout",
       "text": [
        "\r",
        ">>Record: 302\r",
        ">>Record: 303\r",
        ">>Record: 304\r",
        ">>Record: 305\r",
        ">>Record: 306\r",
        ">>Record: 307\r",
        ">>Record: 308\r",
        ">>Record: 309\r",
        ">>Record: 310\r",
        ">>Record: 311\r",
        ">>Record: 312\r",
        ">>Record: 313"
       ]
      },
      {
       "output_type": "stream",
       "stream": "stdout",
       "text": [
        "\r",
        ">>Record: 314\r",
        ">>Record: 315\r",
        ">>Record: 316\r",
        ">>Record: 317\r",
        ">>Record: 318\r",
        ">>Record: 319"
       ]
      },
      {
       "output_type": "stream",
       "stream": "stdout",
       "text": [
        "\r",
        ">>Record: 320\r",
        ">>Record: 321\r",
        ">>Record: 322\r",
        ">>Record: 323\r",
        ">>Record: 324\r",
        ">>Record: 325\r",
        ">>Record: 326\r",
        ">>Record: 327\r",
        ">>Record: 328"
       ]
      },
      {
       "output_type": "stream",
       "stream": "stdout",
       "text": [
        "\r",
        ">>Record: 329\r",
        ">>Record: 330\r",
        ">>Record: 331\r",
        ">>Record: 332\r",
        ">>Record: 333\r",
        ">>Record: 334\r",
        ">>Record: 335\r",
        ">>Record: 336\r",
        ">>Record: 337"
       ]
      },
      {
       "output_type": "stream",
       "stream": "stdout",
       "text": [
        "\r",
        ">>Record: 338\r",
        ">>Record: 339\r",
        ">>Record: 340\r",
        ">>Record: 341\r",
        ">>Record: 342\r",
        ">>Record: 343\r",
        ">>Record: 344\r",
        ">>Record: 345\r",
        ">>Record: 346"
       ]
      },
      {
       "output_type": "stream",
       "stream": "stdout",
       "text": [
        "\r",
        ">>Record: 347\r",
        ">>Record: 348\r",
        ">>Record: 349\r",
        ">>Record: 350\r",
        ">>Record: 351\r",
        ">>Record: 352\r",
        ">>Record: 353\r",
        ">>Record: 354\r",
        ">>Record: 355\r",
        ">>Record: 356\r",
        ">>Record: 357\r",
        ">>Record: 358\r",
        ">>Record: 359\r",
        ">>Record: 360\r",
        ">>Record: 361\r",
        ">>Record: 362\r",
        ">>Record: 363\r",
        ">>Record: 364"
       ]
      },
      {
       "output_type": "stream",
       "stream": "stdout",
       "text": [
        "\r",
        ">>Record: 365\r",
        ">>Record: 366\r",
        ">>Record: 367\r",
        ">>Record: 368\r",
        ">>Record: 369\r",
        ">>Record: 370\r",
        ">>Record: 371\r",
        ">>Record: 372\r",
        ">>Record: 373\r",
        ">>Record: 374\r",
        ">>Record: 375\r",
        ">>Record: 376\r",
        ">>Record: 377\r",
        ">>Record: 378\r",
        ">>Record: 379\r",
        ">>Record: 380\r",
        ">>Record: 381\r",
        ">>Record: 382\r",
        ">>Record: 383\r",
        ">>Record: 384\r",
        ">>Record: 385\r",
        ">>Record: 386\r",
        ">>Record: 387\r",
        ">>Record: 388\r",
        ">>Record: 389\r",
        ">>Record: 390\r",
        ">>Record: 391\r",
        ">>Record: 392"
       ]
      },
      {
       "output_type": "stream",
       "stream": "stdout",
       "text": [
        "\r",
        ">>Record: 393\r",
        ">>Record: 394\r",
        ">>Record: 395\r",
        ">>Record: 396\r",
        ">>Record: 397\r",
        ">>Record: 398\r",
        ">>Record: 399\r",
        ">>Record: 400\r",
        ">>Record: 401\r",
        ">>Record: 402\r",
        ">>Record: 403"
       ]
      },
      {
       "output_type": "stream",
       "stream": "stdout",
       "text": [
        "\r",
        ">>Record: 404\r",
        ">>Record: 405\r",
        ">>Record: 406\r",
        ">>Record: 407\r",
        ">>Record: 408\r",
        ">>Record: 409\r",
        ">>Record: 410\r",
        ">>Record: 411\r",
        ">>Record: 412\r",
        ">>Record: 413\r",
        ">>Record: 414\r",
        ">>Record: 415\r",
        ">>Record: 416\r",
        ">>Record: 417\r",
        ">>Record: 418"
       ]
      },
      {
       "output_type": "stream",
       "stream": "stdout",
       "text": [
        "\r",
        ">>Record: 419\r",
        ">>Record: 420\r",
        ">>Record: 421\r",
        ">>Record: 422\r",
        ">>Record: 423\r",
        ">>Record: 424\r",
        ">>Record: 425\r",
        ">>Record: 426\r",
        ">>Record: 427\r",
        ">>Record: 428\r",
        ">>Record: 429\r",
        ">>Record: 430"
       ]
      },
      {
       "output_type": "stream",
       "stream": "stdout",
       "text": [
        "\r",
        ">>Record: 431\r",
        ">>Record: 432\r",
        ">>Record: 433\r",
        ">>Record: 434\r",
        ">>Record: 435\r",
        ">>Record: 436\r",
        ">>Record: 437\r",
        ">>Record: 438\r",
        ">>Record: 439\r",
        ">>Record: 440\r",
        ">>Record: 441\r",
        ">>Record: 442\r",
        ">>Record: 443\r",
        ">>Record: 444\r",
        ">>Record: 445"
       ]
      },
      {
       "output_type": "stream",
       "stream": "stdout",
       "text": [
        "\r",
        ">>Record: 446\r",
        ">>Record: 447\r",
        ">>Record: 448\r",
        ">>Record: 449"
       ]
      },
      {
       "output_type": "stream",
       "stream": "stdout",
       "text": [
        "\r",
        ">>Record: 450\r",
        ">>Record: 451\r",
        ">>Record: 452\r",
        ">>Record: 453\r",
        ">>Record: 454\r",
        ">>Record: 455\r",
        ">>Record: 456\r",
        ">>Record: 457\r",
        ">>Record: 458\r",
        ">>Record: 459\r",
        ">>Record: 460\r",
        ">>Record: 461\r",
        ">>Record: 462\r",
        ">>Record: 463\r",
        ">>Record: 464\r",
        ">>Record: 465\r",
        ">>Record: 466\r",
        ">>Record: 467\r",
        ">>Record: 468\r",
        ">>Record: 469\r",
        ">>Record: 470\r",
        ">>Record: 471\r",
        ">>Record: 472\r",
        ">>Record: 473\r",
        ">>Record: 474\r",
        ">>Record: 475"
       ]
      },
      {
       "output_type": "stream",
       "stream": "stdout",
       "text": [
        "\r",
        ">>Record: 476\r",
        ">>Record: 477\r",
        ">>Record: 478\r",
        ">>Record: 479\r",
        ">>Record: 480\r",
        ">>Record: 481\r",
        ">>Record: 482\r",
        ">>Record: 483\r",
        ">>Record: 484\r",
        ">>Record: 485\r",
        ">>Record: 486\r",
        ">>Record: 487\r",
        ">>Record: 488\r",
        ">>Record: 489\r",
        ">>Record: 490\r",
        ">>Record: 491\r",
        ">>Record: 492\r",
        ">>Record: 493\r",
        ">>Record: 494\r",
        ">>Record: 495\r",
        ">>Record: 496"
       ]
      },
      {
       "output_type": "stream",
       "stream": "stdout",
       "text": [
        "\r",
        ">>Record: 497\r",
        ">>Record: 498\r",
        ">>Record: 499\r",
        ">>Record: 500\r",
        ">>Record: 501\r",
        ">>Record: 502\r",
        ">>Record: 503\r",
        ">>Record: 504\r",
        ">>Record: 505\r",
        ">>Record: 506\r",
        ">>Record: 507\r",
        ">>Record: 508\r",
        ">>Record: 509\r",
        ">>Record: 510\r",
        ">>Record: 511\r",
        ">>Record: 512\r",
        ">>Record: 513\r",
        ">>Record: 514\r",
        ">>Record: 515\r",
        ">>Record: 516\r",
        ">>Record: 517\r",
        ">>Record: 518\r",
        ">>Record: 519\r",
        ">>Record: 520\r",
        ">>Record: 521\r",
        ">>Record: 522\r",
        ">>Record: 523\r",
        ">>Record: 524\r",
        ">>Record: 525\r",
        ">>Record: 526\r",
        ">>Record: 527\r",
        ">>Record: 528\r",
        ">>Record: 529\r",
        ">>Record: 530\r",
        ">>Record: 531\r",
        ">>Record: 532\r",
        ">>Record: 533\r",
        ">>Record: 534\r",
        ">>Record: 535\r",
        ">>Record: 536\r",
        ">>Record: 537\r",
        ">>Record: 538\r",
        ">>Record: 539\r",
        ">>Record: 540\r",
        ">>Record: 541\r",
        ">>Record: 542\r",
        ">>Record: 543\r",
        ">>Record: 544\r",
        ">>Record: 545\r",
        ">>Record: 546\r",
        ">>Record: 547\r",
        ">>Record: 548\r",
        ">>Record: 549\r",
        ">>Record: 550\r",
        ">>Record: 551\r",
        ">>Record: 552\r",
        ">>Record: 553"
       ]
      },
      {
       "output_type": "stream",
       "stream": "stdout",
       "text": [
        "\r",
        ">>Record: 554\r",
        ">>Record: 555\r",
        ">>Record: 556\r",
        ">>Record: 557\r",
        ">>Record: 558\r",
        ">>Record: 559\r",
        ">>Record: 560\r",
        ">>Record: 561\r",
        ">>Record: 562\r",
        ">>Record: 563"
       ]
      },
      {
       "output_type": "stream",
       "stream": "stdout",
       "text": [
        "\r",
        ">>Record: 564\r",
        ">>Record: 565\r",
        ">>Record: 566\r",
        ">>Record: 567\r",
        ">>Record: 568\r",
        ">>Record: 569\r",
        ">>Record: 570\r",
        ">>Record: 571\r",
        ">>Record: 572\r",
        ">>Record: 573\r",
        ">>Record: 574\r",
        ">>Record: 575\r",
        ">>Record: 576\r",
        ">>Record: 577\r",
        ">>Record: 578\r",
        ">>Record: 579\r",
        ">>Record: 580\r",
        ">>Record: 581\r",
        ">>Record: 582\r",
        ">>Record: 583\r",
        ">>Record: 584\r",
        ">>Record: 585"
       ]
      },
      {
       "output_type": "stream",
       "stream": "stdout",
       "text": [
        "\r",
        ">>Record: 586\r",
        ">>Record: 587\r",
        ">>Record: 588\r",
        ">>Record: 589\r",
        ">>Record: 590\r",
        ">>Record: 591"
       ]
      },
      {
       "output_type": "stream",
       "stream": "stdout",
       "text": [
        "\r",
        ">>Record: 592\r",
        ">>Record: 593\r",
        ">>Record: 594\r",
        ">>Record: 595\r",
        ">>Record: 596\r",
        ">>Record: 597\r",
        ">>Record: 598\r",
        ">>Record: 599\r",
        ">>Record: 600\r",
        ">>Record: 601\r",
        ">>Record: 602\r",
        ">>Record: 603\r",
        ">>Record: 604\r",
        ">>Record: 605\r",
        ">>Record: 606\r",
        ">>Record: 607"
       ]
      },
      {
       "output_type": "stream",
       "stream": "stdout",
       "text": [
        "\r",
        ">>Record: 608\r",
        ">>Record: 609\r",
        ">>Record: 610"
       ]
      },
      {
       "output_type": "stream",
       "stream": "stdout",
       "text": [
        "\r",
        ">>Record: 611\r",
        ">>Record: 612\r",
        ">>Record: 613\r",
        ">>Record: 614\r",
        ">>Record: 615\r",
        ">>Record: 616\r",
        ">>Record: 617\r",
        ">>Record: 618"
       ]
      },
      {
       "output_type": "stream",
       "stream": "stdout",
       "text": [
        "\r",
        ">>Record: 619\r",
        ">>Record: 620\r",
        ">>Record: 621\r",
        ">>Record: 622\r",
        ">>Record: 623\r",
        ">>Record: 624\r",
        ">>Record: 625\r",
        ">>Record: 626\r",
        ">>Record: 627\r",
        ">>Record: 628"
       ]
      },
      {
       "output_type": "stream",
       "stream": "stdout",
       "text": [
        "\r",
        ">>Record: 629\r",
        ">>Record: 630\r",
        ">>Record: 631\r",
        ">>Record: 632"
       ]
      },
      {
       "output_type": "stream",
       "stream": "stdout",
       "text": [
        "\r",
        ">>Record: 633\r",
        ">>Record: 634\r",
        ">>Record: 635\r",
        ">>Record: 636\r",
        ">>Record: 637\r",
        ">>Record: 638\r",
        ">>Record: 639\r",
        ">>Record: 640\r",
        ">>Record: 641\r",
        ">>Record: 642\r",
        ">>Record: 643"
       ]
      },
      {
       "output_type": "stream",
       "stream": "stdout",
       "text": [
        "\r",
        ">>Record: 644\r",
        ">>Record: 645\r",
        ">>Record: 646\r",
        ">>Record: 647\r",
        ">>Record: 648\r",
        ">>Record: 649\r",
        ">>Record: 650\r",
        ">>Record: 651\r",
        ">>Record: 652"
       ]
      },
      {
       "output_type": "stream",
       "stream": "stdout",
       "text": [
        "\r",
        ">>Record: 653\r",
        ">>Record: 654\r",
        ">>Record: 655\r",
        ">>Record: 656\r",
        ">>Record: 657\r",
        ">>Record: 658"
       ]
      },
      {
       "output_type": "stream",
       "stream": "stdout",
       "text": [
        "\r",
        ">>Record: 659\r",
        ">>Record: 660\r",
        ">>Record: 661\r",
        ">>Record: 662\r",
        ">>Record: 663\r",
        ">>Record: 664\r",
        ">>Record: 665\r",
        ">>Record: 666\r",
        ">>Record: 667"
       ]
      },
      {
       "output_type": "stream",
       "stream": "stdout",
       "text": [
        "\r",
        ">>Record: 668\r",
        ">>Record: 669\r",
        ">>Record: 670\r",
        ">>Record: 671\r",
        ">>Record: 672\r",
        ">>Record: 673\r",
        ">>Record: 674\r",
        ">>Record: 675\r",
        ">>Record: 676\r",
        ">>Record: 677\r",
        ">>Record: 678\r",
        ">>Record: 679"
       ]
      },
      {
       "output_type": "stream",
       "stream": "stdout",
       "text": [
        "\r",
        ">>Record: 680\r",
        ">>Record: 681\r",
        ">>Record: 682\r",
        ">>Record: 683\r",
        ">>Record: 684\r",
        ">>Record: 685\r",
        ">>Record: 686"
       ]
      },
      {
       "output_type": "stream",
       "stream": "stdout",
       "text": [
        "\r",
        ">>Record: 687\r",
        ">>Record: 688\r",
        ">>Record: 689\r",
        ">>Record: 690\r",
        ">>Record: 691\r",
        ">>Record: 692\r",
        ">>Record: 693\r",
        ">>Record: 694"
       ]
      },
      {
       "output_type": "stream",
       "stream": "stdout",
       "text": [
        "\r",
        ">>Record: 695\r",
        ">>Record: 696\r",
        ">>Record: 697"
       ]
      },
      {
       "output_type": "stream",
       "stream": "stdout",
       "text": [
        "\r",
        ">>Record: 698\r",
        ">>Record: 699\r",
        ">>Record: 700\r",
        ">>Record: 701"
       ]
      },
      {
       "output_type": "stream",
       "stream": "stdout",
       "text": [
        "\r",
        ">>Record: 702\r",
        ">>Record: 703\r",
        ">>Record: 704\r",
        ">>Record: 705\r",
        ">>Record: 706\r",
        ">>Record: 707\r",
        ">>Record: 708\r",
        ">>Record: 709\r",
        ">>Record: 710\r",
        ">>Record: 711\r",
        ">>Record: 712\r",
        ">>Record: 713\r",
        ">>Record: 714\r",
        ">>Record: 715\r",
        ">>Record: 716\r",
        ">>Record: 717\r",
        ">>Record: 718\r",
        ">>Record: 719\r",
        ">>Record: 720\r",
        ">>Record: 721\r",
        ">>Record: 722\r",
        ">>Record: 723\r",
        ">>Record: 724\r",
        ">>Record: 725\r",
        ">>Record: 726\r",
        ">>Record: 727\r",
        ">>Record: 728\r",
        ">>Record: 729\r",
        ">>Record: 730\r",
        ">>Record: 731\r",
        ">>Record: 732\r",
        ">>Record: 733\r",
        ">>Record: 734\r",
        ">>Record: 735\r",
        ">>Record: 736\r",
        ">>Record: 737\r",
        ">>Record: 738\r",
        ">>Record: 739\r",
        ">>Record: 740\r",
        ">>Record: 741\r",
        ">>Record: 742\r",
        ">>Record: 743\r",
        ">>Record: 744\r",
        ">>Record: 745\r",
        ">>Record: 746"
       ]
      },
      {
       "output_type": "stream",
       "stream": "stdout",
       "text": [
        "\r",
        ">>Record: 747\r",
        ">>Record: 748\r",
        ">>Record: 749\r",
        ">>Record: 750\r",
        ">>Record: 751\r",
        ">>Record: 752\r",
        ">>Record: 753\r",
        ">>Record: 754\r",
        ">>Record: 755\r",
        ">>Record: 756\r",
        ">>Record: 757\r",
        ">>Record: 758\r",
        ">>Record: 759\r",
        ">>Record: 760\r",
        ">>Record: 761\r",
        ">>Record: 762\r",
        ">>Record: 763\r",
        ">>Record: 764\r",
        ">>Record: 765\r",
        ">>Record: 766\r",
        ">>Record: 767\r",
        ">>Record: 768\r",
        ">>Record: 769"
       ]
      },
      {
       "output_type": "stream",
       "stream": "stdout",
       "text": [
        "\r",
        ">>Record: 770\r",
        ">>Record: 771\r",
        ">>Record: 772\r",
        ">>Record: 773\r",
        ">>Record: 774"
       ]
      },
      {
       "output_type": "stream",
       "stream": "stdout",
       "text": [
        "\r",
        ">>Record: 775\r",
        ">>Record: 776\r",
        ">>Record: 777\r",
        ">>Record: 778\r",
        ">>Record: 779\r",
        ">>Record: 780\r",
        ">>Record: 781\r",
        ">>Record: 782"
       ]
      },
      {
       "output_type": "stream",
       "stream": "stdout",
       "text": [
        "\r",
        ">>Record: 783\r",
        ">>Record: 784\r",
        ">>Record: 785\r",
        ">>Record: 786\r",
        ">>Record: 787\r",
        ">>Record: 788\r",
        ">>Record: 789\r",
        ">>Record: 790"
       ]
      },
      {
       "output_type": "stream",
       "stream": "stdout",
       "text": [
        "\r",
        ">>Record: 791\r",
        ">>Record: 792\r",
        ">>Record: 793\r",
        ">>Record: 794\r",
        ">>Record: 795\r",
        ">>Record: 796"
       ]
      },
      {
       "output_type": "stream",
       "stream": "stdout",
       "text": [
        "\r",
        ">>Record: 797\r",
        ">>Record: 798\r",
        ">>Record: 799\r",
        ">>Record: 800\r",
        ">>Record: 801\r",
        ">>Record: 802\r",
        ">>Record: 803\r",
        ">>Record: 804"
       ]
      },
      {
       "output_type": "stream",
       "stream": "stdout",
       "text": [
        "\r",
        ">>Record: 805\r",
        ">>Record: 806\r",
        ">>Record: 807\r",
        ">>Record: 808\r",
        ">>Record: 809\r",
        ">>Record: 810\r",
        ">>Record: 811"
       ]
      },
      {
       "output_type": "stream",
       "stream": "stdout",
       "text": [
        "\r",
        ">>Record: 812\r",
        ">>Record: 813\r",
        ">>Record: 814\r",
        ">>Record: 815\r",
        ">>Record: 816\r",
        ">>Record: 817"
       ]
      },
      {
       "output_type": "stream",
       "stream": "stdout",
       "text": [
        "\r",
        ">>Record: 818\r",
        ">>Record: 819\r",
        ">>Record: 820\r",
        ">>Record: 821\r",
        ">>Record: 822\r",
        ">>Record: 823\r",
        ">>Record: 824\r",
        ">>Record: 825\r",
        ">>Record: 826\r",
        ">>Record: 827\r",
        ">>Record: 828\r",
        ">>Record: 829\r",
        ">>Record: 830\r",
        ">>Record: 831\r",
        ">>Record: 832"
       ]
      },
      {
       "output_type": "stream",
       "stream": "stdout",
       "text": [
        "\r",
        ">>Record: 833\r",
        ">>Record: 834\r",
        ">>Record: 835\r",
        ">>Record: 836\r",
        ">>Record: 837\r",
        ">>Record: 838\r",
        ">>Record: 839\r",
        ">>Record: 840\r",
        ">>Record: 841\r",
        ">>Record: 842\r",
        ">>Record: 843\r",
        ">>Record: 844"
       ]
      },
      {
       "output_type": "stream",
       "stream": "stdout",
       "text": [
        "\r",
        ">>Record: 845\r",
        ">>Record: 846\r",
        ">>Record: 847\r",
        ">>Record: 848\r",
        ">>Record: 849\r",
        ">>Record: 850\r",
        ">>Record: 851\r",
        ">>Record: 852\r",
        ">>Record: 853"
       ]
      },
      {
       "output_type": "stream",
       "stream": "stdout",
       "text": [
        "\r",
        ">>Record: 854\r",
        ">>Record: 855\r",
        ">>Record: 856"
       ]
      },
      {
       "output_type": "stream",
       "stream": "stdout",
       "text": [
        "\r",
        ">>Record: 857\r",
        ">>Record: 858\r",
        ">>Record: 859\r",
        ">>Record: 860"
       ]
      },
      {
       "output_type": "stream",
       "stream": "stdout",
       "text": [
        "\r",
        ">>Record: 861\r",
        ">>Record: 862\r",
        ">>Record: 863\r",
        ">>Record: 864\r",
        ">>Record: 865\r",
        ">>Record: 866\r",
        ">>Record: 867\r",
        ">>Record: 868\r",
        ">>Record: 869\r",
        ">>Record: 870\r",
        ">>Record: 871\r",
        ">>Record: 872\r",
        ">>Record: 873\r",
        ">>Record: 874"
       ]
      },
      {
       "output_type": "stream",
       "stream": "stdout",
       "text": [
        "\r",
        ">>Record: 875\r",
        ">>Record: 876\r",
        ">>Record: 877\r",
        ">>Record: 878\r",
        ">>Record: 879\r",
        ">>Record: 880\r",
        ">>Record: 881\r",
        ">>Record: 882\r",
        ">>Record: 883\r",
        ">>Record: 884\r",
        ">>Record: 885\r",
        ">>Record: 886\r",
        ">>Record: 887\r",
        ">>Record: 888\r",
        ">>Record: 889"
       ]
      },
      {
       "output_type": "stream",
       "stream": "stdout",
       "text": [
        "\r",
        ">>Record: 890\r",
        ">>Record: 891\r",
        ">>Record: 892\r",
        ">>Record: 893\r",
        ">>Record: 894\r",
        ">>Record: 895\r",
        ">>Record: 896\r",
        ">>Record: 897\r",
        ">>Record: 898\r",
        ">>Record: 899\r",
        ">>Record: 900\r",
        ">>Record: 901\r",
        ">>Record: 902\r",
        ">>Record: 903\r",
        ">>Record: 904\r",
        ">>Record: 905\r",
        ">>Record: 906\r",
        ">>Record: 907\r",
        ">>Record: 908\r",
        ">>Record: 909\r",
        ">>Record: 910\r",
        ">>Record: 911\r",
        ">>Record: 912\r",
        ">>Record: 913\r",
        ">>Record: 914\r",
        ">>Record: 915"
       ]
      },
      {
       "output_type": "stream",
       "stream": "stdout",
       "text": [
        "\r",
        ">>Record: 916\r",
        ">>Record: 917\r",
        ">>Record: 918\r",
        ">>Record: 919\r",
        ">>Record: 920\r",
        ">>Record: 921\r",
        ">>Record: 922\r",
        ">>Record: 923\r",
        ">>Record: 924\r",
        ">>Record: 925\r",
        ">>Record: 926\r",
        ">>Record: 927\r",
        ">>Record: 928\r",
        ">>Record: 929\r",
        ">>Record: 930\r",
        ">>Record: 931"
       ]
      },
      {
       "output_type": "stream",
       "stream": "stdout",
       "text": [
        "\r",
        ">>Record: 932\r",
        ">>Record: 933\r",
        ">>Record: 934\r",
        ">>Record: 935\r",
        ">>Record: 936\r",
        ">>Record: 937\r",
        ">>Record: 938\r",
        ">>Record: 939\r",
        ">>Record: 940\r",
        ">>Record: 941"
       ]
      },
      {
       "output_type": "stream",
       "stream": "stdout",
       "text": [
        "\r",
        ">>Record: 942\r",
        ">>Record: 943\r",
        ">>Record: 944\r",
        ">>Record: 945\r",
        ">>Record: 946\r",
        ">>Record: 947\r",
        ">>Record: 948\r",
        ">>Record: 949\r",
        ">>Record: 950\r",
        ">>Record: 951\r",
        ">>Record: 952\r",
        ">>Record: 953\r",
        ">>Record: 954\r",
        ">>Record: 955"
       ]
      },
      {
       "output_type": "stream",
       "stream": "stdout",
       "text": [
        "\r",
        ">>Record: 956\r",
        ">>Record: 957\r",
        ">>Record: 958\r",
        ">>Record: 959\r",
        ">>Record: 960\r",
        ">>Record: 961\r",
        ">>Record: 962\r",
        ">>Record: 963\r",
        ">>Record: 964"
       ]
      },
      {
       "output_type": "stream",
       "stream": "stdout",
       "text": [
        "\r",
        ">>Record: 965\r",
        ">>Record: 966\r",
        ">>Record: 967\r",
        ">>Record: 968\r",
        ">>Record: 969\r",
        ">>Record: 970"
       ]
      },
      {
       "output_type": "stream",
       "stream": "stdout",
       "text": [
        "\r",
        ">>Record: 971\r",
        ">>Record: 972\r",
        ">>Record: 973\r",
        ">>Record: 974\r",
        ">>Record: 975\r",
        ">>Record: 976"
       ]
      },
      {
       "output_type": "stream",
       "stream": "stdout",
       "text": [
        "\r",
        ">>Record: 977\r",
        ">>Record: 978\r",
        ">>Record: 979\r",
        ">>Record: 980\r",
        ">>Record: 981\r",
        ">>Record: 982\r",
        ">>Record: 983\r",
        ">>Record: 984\r",
        ">>Record: 985\r",
        ">>Record: 986\r",
        ">>Record: 987\r",
        ">>Record: 988"
       ]
      },
      {
       "output_type": "stream",
       "stream": "stdout",
       "text": [
        "\r",
        ">>Record: 989\r",
        ">>Record: 990\r",
        ">>Record: 991\r",
        ">>Record: 992\r",
        ">>Record: 993\r",
        ">>Record: 994\r",
        ">>Record: 995\r",
        ">>Record: 996\r",
        ">>Record: 997"
       ]
      },
      {
       "output_type": "stream",
       "stream": "stdout",
       "text": [
        "\r",
        ">>Record: 998\r",
        ">>Record: 999CPU times: user 812 ms, sys: 365 ms, total: 1.18 s\n",
        "Wall time: 16.8 s\n"
       ]
      },
      {
       "metadata": {},
       "output_type": "pyout",
       "prompt_number": 52,
       "text": [
        "defaultdict(<type 'int'>, {u'1000threadsblog.com': 3, u'965tic.cbslocal.com': 6, u'30fps.mocksession.com': 3, u'adr.coalliance.org': 3, u'206-123-105-208.static.directrouter.com': 3, u'a1realty.biz': 3, u'20somethingfinance.com': 6, u'adastrum.kansascity.com': 3, u'abclocal.go.com': 39, u'987ampradio.cbslocal.com': 3, u'acoupletshort.tumblr.com': 3, u'actofstyle.com': 3, u'abh21.wordpress.com': 3, u'adirondackdailyenterprise.com': 6, u'4raovat.com': 3, u'4malibu.com': 3, u'abletonlover.blogspot.be': 3, u'aclu.procon.org': 3, u'access2010.lib.umanitoba.ca': 3, u'991thewhale.com': 3, u'activactor.wordpress.com': 3, u'accounts.nflrush.com': 3, u'accompl.sh': 12, u'6stonejars.com': 3, u'ad.jamster.com': 3, u'aboutlincolncenter.org': 3, u'account.toywiz.com': 3, u'3dgameman.com': 3, u'adoororebelde.blogspot.com': 3, u'abcvacuumwarehouse.com': 15, u'2point8.whileseated.org': 3, u'abcnews.go.com': 81, u'961joyfm.com': 6, u'act.alz.org': 3, u'98kupd.com': 12, u'adolescent-psychiatry.org': 3, u'affiliates.playboy.com': 3, u'about.me': 6, u'aichallenge.org': 3, u'addicted2success.com': 3, u'advogato.org': 9, u'142throckmorton.inticketing.com': 3, u'4hourpeople.com': 3, u'008safeworld.tumblr.com': 3, u'aggiestuck.tumblr.com': 3, u'action.humanesociety.org': 3, u'adventurescoutsusa.org': 3, u'710keel.com': 3, u'6dollarshirts.com': 21, u'activity-logger.sourceforge.net': 3, u'abcnewspapers.com': 3, u'africasacountry.com': 3, u'ahmetsefika2.meb.k12.tr': 3, u'64dd.net': 3, u'airborneparainf82.blogspot.com': 3, u'247sports.com': 3, u'acworth.patch.com': 3, u'ajlopez.wordpress.com': 3, u'adesignaward.com': 3, u'admission@govst.edu': 3, u'ajgates91.tumblr.com': 3, u'academia.stackexchange.com': 3, u'academyofbards.org': 3, u'academicdepartments.musc.edu': 3, u'absolutepunk.net': 6, u'Carriertotalplc@engineer.com': 3, u'7500toholte.sbnation.com': 3, u'13door.com': 3, u'11o6.tumblr.com': 3, u'agplaythings.proboards.com': 3, u'abcfamily.go.com': 3, u'accleague.org': 3, u'a1spiceworld.com': 3, u'advancedstyle.blogspot.com': 6, u'academictips.org': 3, u'adindex.phoenixnewtimes.com': 3, u'3dbrew.org': 3, u'achilles.sourceforge.net': 3, u'560wgan.com': 3, u'0x20.be': 6, u'afresa.blogspot.com': 3, u'acevola.blogspot.com': 3, u'500px.com': 3, u'2headedsnake.tumblr.com': 3, u'1063thebuzz.com': 6, u'6930.arrivesafeautos.com': 3, u'28cooks.blogspot.com': 3, u'2til3.blogspot.com': 3, u'11870.com': 3, u'2009.igem.org': 3, u'4thebest.clickondetroit.com': 3, u'98country.com': 3, u'adventuresinmontana.com': 3, u'abzhakim.blogspot.com': 3, u'abctickets.com': 3, u'Peter.Boyer@cgu.edu': 3, u'80sfreak.tumblr.com': 3, u'adindex.westword.com': 3, u'advanceindiana.blogspot.com': 6, u'ads.ahds.ac.uk': 3, u'1350kman.com': 3, u'2strokebuzz.com': 3, u'ag.idaho.gov': 3, u'accustaffbirmingham.com': 3, u'8tracks.com': 12, u'36autoscuole.com': 3, u'adultfriendfinder.com': 60, u'afj.convio.net': 3, u'afamily.vn': 3, u'961wodz.com': 6, u'admiralbubbles.deviantart.com': 3, u'af.wikipedia.org': 6, u'1019ampradio.cbslocal.com': 6, u'995blakefm.com': 3, u'a-me-n-fashion.tumblr.com': 3, u'17hmr.net': 9, u'98kool.com': 3, u'a.espncdn.com': 3, u'0351de3.netsolhost.com': 3, u'aftergiovanni.blogspot.com': 3, u'6adnus0.freehost.pl': 3, u'4umf.com': 3, u'adindex.villagevoice.com': 3, u'abllab.com': 3, u'1029thebuzz.com': 3, u'agralphapsi.com': 3, u'aero-hose.com': 3, u'Janice.Nagtegaal@ufv.ca': 3, u'about.bankofamerica.com': 3, u'365daysofsexy.tumblr.com': 3, u'4alexander.tumblr.com': 3, u'1caseycolette.blogspot.com': 3, u'442.perfil.com': 3, u'aflnz.co.nz': 3, u'airportlanesjackson.com': 3, u'ag.arizona.edu': 3, u'agc-blog.agc.gov.my': 3, u'adindex.sfweekly.com': 3, u'accent.gmu.edu': 3, u'a-pair-of-harts.tumblr.com': 3, u'ainonline.com': 6, u'02809photo.com': 3, u'afpmadison.afpnet.org': 3, u'103gbfrocks.com': 3, u'1150kknw.com': 3, u'adage.com': 6, u'8asians.tumblr.com': 3, u'afrique.kongotimes.info': 3, u'999ktdy.com': 6, u'5persen.com': 3, u'adf.ly': 3, u'5minutebookreport.blogspot.com': 3, u'aaronjhill.wordpress.com': 3, u'achdidaho.org': 3, u'21stcenturywaves.com': 3, u'acejocson.tumblr.com': 3, u'0.static.wix.com': 6, u'adrienmezsi.com': 3, u'ajilbab.com': 3, u'aeromotiveinc.com': 3, u'973thedawg.com': 3, u'addictedtolipstick.blogspot.com': 3, u'acme.com': 3, u'aka.kite.org': 2, u'56bogart.tumblr.com': 3, u'advocacy.britannica.com': 3, u'1690wmlb.com': 3, u'100nudists.info': 3, u'929nin.com': 3, u'agert.homelinux.org': 3, u'activemq.apache.org': 6, u'advrider.com': 21, u'1045theteam.com': 3, u'239.192.152.143.ipaddress.com': 3, u'agromaret.com': 3, u'abc.go.com': 39, u'aei.pitt.edu': 9, u'afro.com': 3, u'1037theloon.com': 3, u'abilitypc.com': 3, u'5200.net': 3, u'3docean.net': 3, u'abs.gov.au': 3, u'aas.org': 12, u'academeblog@aaup.org': 3, u'0.r.msn.com': 6, u'100votos.com': 3, u'5w.fi': 3, u'93rockon.com': 3, None: 1, u'18b-gouttedor.scola.ac-paris.fr': 3, u'adamkapela.com': 3, u'aeon.co': 3, u'action.lung.org': 3, u'80breakfasts.blogspot.com': 3, u'afhs.ab.ca': 3, u'advisorperspectives.com': 3, u'925.nl': 3, u'afripopmag.com': 3, u'ajw.asahi.com': 3, u'2131andbeyond.mlblogs.com': 3, u'achahockey.org': 3, u'aals.org.cnchost.com': 3, u'actbus.net': 3, u'aecoplevante.es': 3, u'2ndstreethall.com': 3, u'24timezones.com': 3, u'abcsandgardenpeas.com': 3, u'agora.qc.ca': 3, u'abovethelaw.com': 3, u'941wvic.com': 6})"
       ]
      }
     ],
     "prompt_number": 52
    },
    {
     "cell_type": "heading",
     "level": 1,
     "metadata": {},
     "source": [
      "Tag Count"
     ]
    },
    {
     "cell_type": "code",
     "collapsed": false,
     "input": [
      "# draw from https://github.com/Smerity/cc-mrjob/blob/7ab5a81ee698a2819ae1bc5295ac0de628f1ea6a/mrcc.py\n"
     ],
     "language": "python",
     "metadata": {},
     "outputs": []
    },
    {
     "cell_type": "code",
     "collapsed": false,
     "input": [
      "!s3cmd ls s3://aws-publicdatasets/common-crawl/crawl-data/CC-MAIN-2014-23/warc.path.gz"
     ],
     "language": "python",
     "metadata": {},
     "outputs": [
      {
       "output_type": "stream",
       "stream": "stdout",
       "text": [
        "2014-08-07 09:40    198195   s3://aws-publicdatasets/common-crawl/crawl-data/CC-MAIN-2014-23/warc.path.gz\r\n"
       ]
      }
     ],
     "prompt_number": 53
    },
    {
     "cell_type": "code",
     "collapsed": false,
     "input": [
      "# WARC files from the latest crawl\n",
      "# s3://aws-publicdatasets/common-crawl/crawl-data/CC-MAIN-2014-35/\n",
      "\n",
      "warc_segments = segments_from_gzip(gzip_from_key(bucket, \n",
      "                    \"common-crawl/crawl-data/CC-MAIN-2014-23/warc.path.gz\"))\n",
      "len(warc_segments)"
     ],
     "language": "python",
     "metadata": {},
     "outputs": [
      {
       "metadata": {},
       "output_type": "pyout",
       "prompt_number": 54,
       "text": [
        "63560"
       ]
      }
     ],
     "prompt_number": 54
    },
    {
     "cell_type": "code",
     "collapsed": false,
     "input": [
      "warc_segments[0]"
     ],
     "language": "python",
     "metadata": {},
     "outputs": [
      {
       "metadata": {},
       "output_type": "pyout",
       "prompt_number": 56,
       "text": [
        "'common-crawl/crawl-data/CC-MAIN-2014-23/segments/1404776400583.60/warc/CC-MAIN-20140707234000-00000-ip-10-180-212-248.ec2.internal.warc.gz'"
       ]
      }
     ],
     "prompt_number": 56
    },
    {
     "cell_type": "code",
     "collapsed": false,
     "input": [
      "walk_through_segment(warc_segments[0],100)"
     ],
     "language": "python",
     "metadata": {},
     "outputs": [
      {
       "output_type": "stream",
       "stream": "stdout",
       "text": [
        "\r",
        ">> Record: 0\r",
        ">> Record: 1\r",
        ">> Record: 2\r",
        ">> Record: 3\r",
        ">> Record: 4\r",
        ">> Record: 5\r",
        ">> Record: 6\r",
        ">> Record: 7\r",
        ">> Record: 8\r",
        ">> Record: 9"
       ]
      },
      {
       "output_type": "stream",
       "stream": "stdout",
       "text": [
        "\r",
        ">> Record: 10\r",
        ">> Record: 11\r",
        ">> Record: 12"
       ]
      },
      {
       "output_type": "stream",
       "stream": "stdout",
       "text": [
        "\r",
        ">> Record: 13\r",
        ">> Record: 14\r",
        ">> Record: 15\r",
        ">> Record: 16\r",
        ">> Record: 17\r",
        ">> Record: 18\r",
        ">> Record: 19\r",
        ">> Record: 20\r",
        ">> Record: 21\r",
        ">> Record: 22\r",
        ">> Record: 23\r",
        ">> Record: 24\r",
        ">> Record: 25\r",
        ">> Record: 26\r",
        ">> Record: 27"
       ]
      },
      {
       "output_type": "stream",
       "stream": "stdout",
       "text": [
        "\r",
        ">> Record: 28\r",
        ">> Record: 29\r",
        ">> Record: 30\r",
        ">> Record: 31\r",
        ">> Record: 32\r",
        ">> Record: 33\r",
        ">> Record: 34\r",
        ">> Record: 35\r",
        ">> Record: 36\r",
        ">> Record: 37\r",
        ">> Record: 38\r",
        ">> Record: 39"
       ]
      },
      {
       "output_type": "stream",
       "stream": "stdout",
       "text": [
        "\r",
        ">> Record: 40\r",
        ">> Record: 41\r",
        ">> Record: 42\r",
        ">> Record: 43\r",
        ">> Record: 44\r",
        ">> Record: 45"
       ]
      },
      {
       "output_type": "stream",
       "stream": "stdout",
       "text": [
        "\r",
        ">> Record: 46\r",
        ">> Record: 47\r",
        ">> Record: 48\r",
        ">> Record: 49\r",
        ">> Record: 50\r",
        ">> Record: 51\r",
        ">> Record: 52\r",
        ">> Record: 53\r",
        ">> Record: 54\r",
        ">> Record: 55\r",
        ">> Record: 56\r",
        ">> Record: 57\r",
        ">> Record: 58\r",
        ">> Record: 59\r",
        ">> Record: 60"
       ]
      },
      {
       "output_type": "stream",
       "stream": "stdout",
       "text": [
        "\r",
        ">> Record: 61\r",
        ">> Record: 62\r",
        ">> Record: 63\r",
        ">> Record: 64\r",
        ">> Record: 65\r",
        ">> Record: 66\r",
        ">> Record: 67\r",
        ">> Record: 68\r",
        ">> Record: 69\r",
        ">> Record: 70\r",
        ">> Record: 71\r",
        ">> Record: 72\r",
        ">> Record: 73\r",
        ">> Record: 74\r",
        ">> Record: 75"
       ]
      },
      {
       "output_type": "stream",
       "stream": "stdout",
       "text": [
        "\r",
        ">> Record: 76\r",
        ">> Record: 77\r",
        ">> Record: 78\r",
        ">> Record: 79\r",
        ">> Record: 80\r",
        ">> Record: 81"
       ]
      },
      {
       "output_type": "stream",
       "stream": "stdout",
       "text": [
        "\r",
        ">> Record: 82\r",
        ">> Record: 83\r",
        ">> Record: 84\r",
        ">> Record: 85\r",
        ">> Record: 86\r",
        ">> Record: 87\r",
        ">> Record: 88\r",
        ">> Record: 89\r",
        ">> Record: 90\r",
        ">> Record: 91\r",
        ">> Record: 92\r",
        ">> Record: 93\r",
        ">> Record: 94\r",
        ">> Record: 95\r",
        ">> Record: 96\r",
        ">> Record: 97\r",
        ">> Record: 98\r",
        ">> Record: 99"
       ]
      }
     ],
     "prompt_number": 59
    },
    {
     "cell_type": "code",
     "collapsed": false,
     "input": [
      "# code adapted from https://github.com/Smerity/cc-mrjob/blob/7ab5a81ee698a2819ae1bc5295ac0de628f1ea6a/tag_counter.py\n",
      "\n",
      "import re\n",
      "from collections import Counter\n",
      "\n",
      "# Optimization: compile the regular expression once so it's not done each time\n",
      "# The regular expression looks for (1) a tag name using letters (assumes lowercased input) and numbers\n",
      "# and (2) allows an optional for a space and then extra parameters, eventually ended by a closing >\n",
      "\n",
      "HTML_TAG_PATTERN = re.compile('<([a-z0-9]+)[^>]*>')\n",
      "\n",
      "def get_tag_count(data, ctr=None):\n",
      "  \"\"\"Extract the names and total usage count of all the opening HTML tags in the document\"\"\"\n",
      "  if ctr is None:\n",
      "    ctr = Counter()\n",
      "  # Convert the document to lower case as HTML tags are case insensitive\n",
      "  ctr.update(HTML_TAG_PATTERN.findall(data.lower()))\n",
      "  return ctr\n",
      "\n",
      "# Let's check to make sure the tag counter works as expected\n",
      "assert get_tag_count('<html><a href=\"...\"></a><h1 /><br/><p><p></p></p>') == {'html': 1, 'a': 1, 'p': 2, 'h1': 1, 'br': 1}\n",
      "\n",
      "\n",
      "def tag_counts_for_segment(segment_id, limit=None):\n",
      "    \n",
      "    ctr = Counter()\n",
      "    \n",
      "    for (i, record) in enumerate(warc_records(segment_id,limit)):\n",
      "\n",
      "        print (\"\\r>>Record: %d\" % i, end=\"\")\n",
      "        \n",
      "        if record.header.get('content-type') == 'application/http; msgtype=response':\n",
      "            payload = record.payload.read()\n",
      "            # The HTTP response is defined by a specification: first part is headers (metadata)\n",
      "            # and then following two CRLFs (newlines) has the data for the response\n",
      "            headers, body = payload.split('\\r\\n\\r\\n', 1)\n",
      "            if 'Content-Type: text/html' in headers:\n",
      "                # We avoid creating a new Counter for each page as that's actually quite slow\n",
      "                tag_count = get_tag_count(body,ctr)\n",
      "                \n",
      "                \n",
      "    return ctr\n"
     ],
     "language": "python",
     "metadata": {},
     "outputs": [],
     "prompt_number": 60
    },
    {
     "cell_type": "code",
     "collapsed": false,
     "input": [
      "# let's use multiprocessing to try to duplicate the list of segments on the mrjob example\n",
      "# https://raw.githubusercontent.com/commoncrawl/cc-mrjob/master/input/test-10.txt\n",
      "\n",
      "import requests\n",
      "mrjobs_segs = filter(None, \n",
      "                     requests.get(\"https://raw.githubusercontent.com/commoncrawl/cc-mrjob/master/input/test-10.txt\").content.split(\"\\n\"))\n",
      "mrjobs_segs "
     ],
     "language": "python",
     "metadata": {},
     "outputs": [
      {
       "metadata": {},
       "output_type": "pyout",
       "prompt_number": 61,
       "text": [
        "['common-crawl/crawl-data/CC-MAIN-2014-23/segments/1404776400583.60/warc/CC-MAIN-20140707234000-00000-ip-10-180-212-248.ec2.internal.warc.gz',\n",
        " 'common-crawl/crawl-data/CC-MAIN-2014-23/segments/1404776400583.60/warc/CC-MAIN-20140707234000-00001-ip-10-180-212-248.ec2.internal.warc.gz',\n",
        " 'common-crawl/crawl-data/CC-MAIN-2014-23/segments/1404776400583.60/warc/CC-MAIN-20140707234000-00002-ip-10-180-212-248.ec2.internal.warc.gz',\n",
        " 'common-crawl/crawl-data/CC-MAIN-2014-23/segments/1404776400583.60/warc/CC-MAIN-20140707234000-00003-ip-10-180-212-248.ec2.internal.warc.gz',\n",
        " 'common-crawl/crawl-data/CC-MAIN-2014-23/segments/1404776400583.60/warc/CC-MAIN-20140707234000-00004-ip-10-180-212-248.ec2.internal.warc.gz',\n",
        " 'common-crawl/crawl-data/CC-MAIN-2014-23/segments/1404776400583.60/warc/CC-MAIN-20140707234000-00005-ip-10-180-212-248.ec2.internal.warc.gz',\n",
        " 'common-crawl/crawl-data/CC-MAIN-2014-23/segments/1404776400583.60/warc/CC-MAIN-20140707234000-00006-ip-10-180-212-248.ec2.internal.warc.gz',\n",
        " 'common-crawl/crawl-data/CC-MAIN-2014-23/segments/1404776400583.60/warc/CC-MAIN-20140707234000-00007-ip-10-180-212-248.ec2.internal.warc.gz',\n",
        " 'common-crawl/crawl-data/CC-MAIN-2014-23/segments/1404776400583.60/warc/CC-MAIN-20140707234000-00008-ip-10-180-212-248.ec2.internal.warc.gz',\n",
        " 'common-crawl/crawl-data/CC-MAIN-2014-23/segments/1404776400583.60/warc/CC-MAIN-20140707234000-00009-ip-10-180-212-248.ec2.internal.warc.gz']"
       ]
      }
     ],
     "prompt_number": 61
    },
    {
     "cell_type": "code",
     "collapsed": false,
     "input": [
      "from multiprocessing.dummy import Pool as ThreadPool \n",
      "from functools import partial\n",
      "\n",
      "\n",
      "def calc_tag_counts_for_segments(segments, max_segments=None, max_record_per_segment=None, pool_size=4, chunk_size=1,\n",
      "                                 print_result_count=False):\n",
      "    \n",
      "    \"\"\"\n",
      "    pool_size:  number of works in pool\n",
      "    max_segments:  number of segments to calculate (None for no limit)\n",
      "    max_record_per_segment:  max num of records to calculate per segment (None for no limit)\n",
      "    chunk_size: how to chunk jobs among pool workers\n",
      "    print_result_count: whether to print number of results available\n",
      "    \"\"\"\n",
      "    \n",
      "    tag_counts_for_segment_limit = partial(tag_counts_for_segment, limit=max_record_per_segment)\n",
      "\n",
      "\n",
      "    pool = ThreadPool(pool_size) \n",
      "    results_iter = pool.imap_unordered(tag_counts_for_segment_limit, \n",
      "                                  mrjobs_segs[0:max_segments],\n",
      "                                  chunk_size)\n",
      "\n",
      "    results = []\n",
      "    net_counts = Counter()\n",
      "\n",
      "    for (i, result) in enumerate(islice(results_iter,None)):\n",
      "        if print_result_count:\n",
      "            print ('\\r>> Result %d' % i, end=\"\")\n",
      "        results.append(result)\n",
      "        net_counts.update(result)\n",
      "    \n",
      "    return (net_counts, results)\n",
      "            "
     ],
     "language": "python",
     "metadata": {},
     "outputs": [],
     "prompt_number": 62
    },
    {
     "cell_type": "code",
     "collapsed": false,
     "input": [
      "%time tag_counts = calc_tag_counts_for_segments(mrjobs_segs, max_segments=None, max_record_per_segment=100, pool_size=4, chunk_size=1, print_result_count=True)[0]"
     ],
     "language": "python",
     "metadata": {},
     "outputs": []
    },
    {
     "cell_type": "heading",
     "level": 1,
     "metadata": {},
     "source": [
      "Using IPython parallel"
     ]
    },
    {
     "cell_type": "markdown",
     "metadata": {},
     "source": [
      "You can have multithreading within a given process but to use multiple processes, need to go with IPython parallel -- at least, that's what I've been able to work out"
     ]
    },
    {
     "cell_type": "code",
     "collapsed": false,
     "input": [
      "import multiprocessing\n",
      "multiprocessing.cpu_count()"
     ],
     "language": "python",
     "metadata": {},
     "outputs": [
      {
       "metadata": {},
       "output_type": "pyout",
       "prompt_number": 63,
       "text": [
        "8"
       ]
      }
     ],
     "prompt_number": 63
    },
    {
     "cell_type": "code",
     "collapsed": false,
     "input": [
      "from IPython import parallel\n",
      "rc = parallel.Client()\n",
      "rc.block = True\n",
      "\n",
      "rc.ids"
     ],
     "language": "python",
     "metadata": {},
     "outputs": [
      {
       "metadata": {},
       "output_type": "pyout",
       "prompt_number": 64,
       "text": [
        "[0, 1, 2, 3, 4, 5, 6, 7]"
       ]
      }
     ],
     "prompt_number": 64
    },
    {
     "cell_type": "markdown",
     "metadata": {},
     "source": [
      "To be continued...."
     ]
    },
    {
     "cell_type": "heading",
     "level": 1,
     "metadata": {},
     "source": [
      "WARC files:  the final frontier"
     ]
    },
    {
     "cell_type": "markdown",
     "metadata": {},
     "source": [
      "Is it possible to work with pieces of the new warc files without having to download the whole file?  \n",
      "\n",
      "In the 2012 crawl data, there was an index built http://urlsearch.commoncrawl.org/ --> from which you can get a reference to an offset and length inside of the arc.gz file.  With S3, you don't need to then download the whole file but just a chunk....and that chunk itself is unpackable as a gzip file.  (nice feature of gzip?):\n",
      "\n",
      "http://nbviewer.ipython.org/github/rdhyee/working-open-data/blob/postscript/notebooks/Day_21_CommonCrawl_Content.ipynb#Grabbing-pieces-of-the-.arc.gz-files\n",
      "\n",
      "Is there a similar way of working with the 2014 crawl data?  That is, a way of reading off chunks of the warc file without grabbing entire warc files?"
     ]
    }
   ],
   "metadata": {}
  }
 ]
}